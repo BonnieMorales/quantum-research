{
 "cells": [
  {
   "cell_type": "markdown",
   "id": "73d2a7c0-7029-421d-a11a-8535909b58dd",
   "metadata": {},
   "source": [
    "# Dynamical Decoupling (DD) Simulation\n",
    "## Specific case: m=2 and t1=t2=t\n",
    "Ideal system:  **$e^{-iZt}$** \\\n",
    "Noisy system: **$e^{-i(Z+\\lambda{X})t}$**\n",
    "#### Want to prove: \n",
    "**$e^{-i(Z+\\lambda{X})t}Ze^{-i(Z+\\lambda{X})t}Z \\approx e^{-2iZt}$** "
   ]
  },
  {
   "cell_type": "markdown",
   "id": "e7ee53e4-a449-4aa9-96af-b1e62b8e1bde",
   "metadata": {},
   "source": [
    "### Libraries and Pauli Matrices "
   ]
  },
  {
   "cell_type": "code",
   "execution_count": 4,
   "id": "61559f1e-f7f4-4e2d-ba57-f2f1aa92000d",
   "metadata": {},
   "outputs": [],
   "source": [
    "import numpy as np\n",
    "import scipy\n",
    "import math\n",
    "from scipy.linalg import expm, svd\n",
    "import matplotlib.pyplot as plt\n",
    "import scipy.optimize as spo"
   ]
  },
  {
   "cell_type": "code",
   "execution_count": 5,
   "id": "de9f6d65-ebc3-40e5-be24-c76939e5350c",
   "metadata": {},
   "outputs": [],
   "source": [
    "X, Z, I = np.matrix([[0, 1],[1, 0]]), np.matrix([[1, 0],[0, -1]]), np.matrix([[1, 0],[0, 1]])"
   ]
  },
  {
   "cell_type": "markdown",
   "id": "128d9900-ab39-4ebe-b6ae-13278d6fff6b",
   "metadata": {},
   "source": [
    "### Simulation code"
   ]
  },
  {
   "cell_type": "code",
   "execution_count": 7,
   "id": "d040cba3-5d80-4806-92a0-d6f26ef5ddc6",
   "metadata": {},
   "outputs": [
    {
     "name": "stdout",
     "output_type": "stream",
     "text": [
      "error at t1 = t2 = 0.05 is 0.0004995820845829024\n"
     ]
    }
   ],
   "source": [
    "# creating the variables\n",
    "time = []\n",
    "epsilon = []\n",
    "\n",
    "# set the value of lambda\n",
    "lambda_value = 0.1\n",
    "\n",
    "# simulating the equation for every 0.01s for 1s.\n",
    "for t in np.linspace(0.0,1.0,num=101):\n",
    "    A = expm(-1j*(Z+lambda_value*X)*t)*Z*expm(-1j*(Z+lambda_value*X)*t)*Z\n",
    "    B = expm(-2j*Z*t)\n",
    "    # calculate the difference between the ideal and noisy system\n",
    "    difference = A - B\n",
    "    # get the maximum eigen value of the difference matrix\n",
    "    eigenvalues,_ = svd(difference, compute_uv = False)\n",
    "    max_eigenvalue = np.max(eigenvalues)\n",
    "    # add the maximum eigen value to the array epsilon\n",
    "    epsilon.append(max_eigenvalue)\n",
    "    time.append(t) \n",
    "    \n",
    "print(\"error at t1 = t2 = \" + str(time[5]) + \" is \" + str(epsilon[5]))"
   ]
  },
  {
   "cell_type": "markdown",
   "id": "d6e3ea1d-aeff-4b42-9eb5-255393cadd48",
   "metadata": {},
   "source": [
    "### Graph t vs $\\epsilon$"
   ]
  },
  {
   "cell_type": "code",
   "execution_count": 9,
   "id": "f141df2e-d60c-4971-837b-1f9f0cabe2f9",
   "metadata": {},
   "outputs": [
    {
     "data": {
      "image/png": "[encoded data removed]",
      "text/plain": [
       "<Figure size 640x480 with 1 Axes>"
      ]
     },
     "metadata": {},
     "output_type": "display_data"
    }
   ],
   "source": [
    "# graph the changes in epsilon respect to the time\n",
    "plt.plot(time, epsilon, label = \"Epsilon\")\n",
    "\n",
    "plt.xlabel('Time')\n",
    "plt.ylabel('$\\epsilon$')\n",
    "plt.legend()\n",
    "\n",
    "plt.savefig('first_simulation.png')\n",
    "plt.show()\n"
   ]
  },
  {
   "cell_type": "markdown",
   "id": "a042471d-873d-47a0-98e9-2d37bd2ad6fe",
   "metadata": {},
   "source": [
    "## General case\n",
    "The generalization of the previous case is the following:\\\n",
    "Ideal system: **$e^{-iZs_1T}e^{-iZs_2T}e^{-iZs_3T}...e^{-iZs_mT}$** \\\n",
    "Noisy system: **$e^{-i(Z+\\lambda{X})s_1T}e^{-i(Z+\\lambda{X})s_2T}e^{-i(Z+\\lambda{X})s_3T}...e^{-i(Z+\\lambda{X})s_mT}$**\n",
    "##### Error function:\n",
    "**$\\epsilon=||(e^{-i(Z+\\lambda{X})s_1T}Ze^{-i(Z+\\lambda{X})s_2T}Ze^{-i(Z+\\lambda{X})s_3T}Ze^{-i(Z+\\lambda{X})s_4T}Z...Ze^{-i(Z+\\lambda{X})s_mT}Z) - e^{-iZT}||$**\n",
    "### Simulation\n"
   ]
  },
  {
   "cell_type": "code",
   "execution_count": 11,
   "id": "814a80f5-453b-4db9-8303-2a8156c0a594",
   "metadata": {},
   "outputs": [],
   "source": [
    "def error_calculation(lambda_value, m, T, areEqual, s_values):\n",
    "    prev_A = I\n",
    "    \n",
    "    # Case 1: Periodic DD when s1 = s2 = ... = sm \n",
    "    if (areEqual == True):\n",
    "        for i in np.linspace(1,m,num=m):\n",
    "            # even numbers\n",
    "            if (i%2 == 0): \n",
    "                A = np.dot(prev_A, expm(-1j*(Z-lambda_value*X)*T/m)) \n",
    "                #prev_A * expm(-1j*(Z-lambda_value*X)*T/m)\n",
    "            # odd numbers\n",
    "            else:\n",
    "                A = np.dot(prev_A, expm(-1j*(Z+lambda_value*X)*T/m))\n",
    "                #prev_A * expm(-1j*(Z+lambda_value*X)*T/m)\n",
    "            # updating the matrix A\n",
    "            prev_A = A\n",
    "    \n",
    "    # Case 2: Concatenated DD or Uhrig DD when s has a different values       \n",
    "    else:\n",
    "        i = 1\n",
    "        # simulating the equation \n",
    "        for s in s_values:\n",
    "            # even numbers\n",
    "            if (i%2 == 0):\n",
    "                A = np.dot(prev_A, expm(-1j*(Z-lambda_value*X)*s*T))\n",
    "                # prev_A * expm(-1j*(Z-lambda_value*X)*s*T)   \n",
    "            # odd numbers\n",
    "            else:\n",
    "                A = np.dot(prev_A, expm(-1j*(Z+lambda_value*X)*s*T))\n",
    "                # prev_A * expm(-1j*(Z+lambda_value*X)*s*T)\n",
    "            # updating variables\n",
    "            #print(A)\n",
    "            prev_A = A \n",
    "            i+=1 \n",
    "            \n",
    "    B = expm(-1j*Z*T) \n",
    "    # calculate the difference between the ideal and noisy system\n",
    "    difference = A - B\n",
    "    # get the maximum eigen value of the difference matrix\n",
    "    eigenvalues = svd(difference, compute_uv = False)\n",
    "    max_eigenvalue = np.max(eigenvalues)\n",
    "    #print(\"The error is \", max_eigenvalue)\n",
    "    return max_eigenvalue\n",
    "\n",
    "def UDD_calculate_s_values(m):\n",
    "    s_values = []\n",
    "    prev_t = 0\n",
    "    for j in range(1, m+1):\n",
    "        t = np.power(np.sin(j*np.pi/(2*m)), 2)\n",
    "        s_values.append(t-prev_t)\n",
    "        prev_t = t\n",
    "    return s_values        \n"
   ]
  },
  {
   "cell_type": "code",
   "execution_count": 12,
   "id": "3334b562-9402-4ec6-8b92-4adb123a00f4",
   "metadata": {},
   "outputs": [
    {
     "name": "stdout",
     "output_type": "stream",
     "text": [
      "Case 1 (PDD) Even ##########################\n",
      "For m = 2 the error is 0.0004995820845829024\n",
      "For m = 4 the error is 0.0002496353782160249\n",
      "For m = 6 the error is 0.00016640438462257455\n",
      "For m = 8 the error is 0.0001247982491792856\n",
      "For m = 10 the error is 9.983673349871192e-05\n",
      "\n",
      "Case 2 (CDD) ##########################\n",
      "For m = 2 the error is 0.0004995820845829024\n",
      "For m = 3 the error is 1.249909813324557e-05\n",
      "For m = 6 the error is 1.8775597696427797e-07\n",
      "For m = 11 the error is 2.606462738292785e-08\n",
      "\n",
      "Case 3 (UDD) ##########################\n",
      "For m = 2 the error is 0.0004995820845829024\n",
      "For m = 3 the error is 1.2499098133243837e-05\n",
      "For m = 4 the error is 2.9031863259118986e-07\n",
      "For m = 6 the error is 8.175186760529897e-08\n",
      "[0.06698729810778066, 0.1830127018922193, 0.24999999999999994, 0.25, 0.18301270189221952, 0.06698729810778059]\n",
      "For m = 8 the error is 4.455600939580585e-08\n",
      "[0.03806023374435662, 0.10838637566236962, 0.16221167441072884, 0.1913417161825448, 0.19134171618254503, 0.1622116744107288, 0.10838637566236964, 0.03806023374435663]\n",
      "For m = 10 the error is 2.811032373227265e-08\n",
      "[0.024471741852423214, 0.07101976096010307, 0.11061587104123718, 0.13938412895876282, 0.15450849718747361, 0.15450849718747384, 0.13938412895876295, 0.11061587104123694, 0.0710197609601032, 0.02447174185242318]\n"
     ]
    }
   ],
   "source": [
    "# creating the variables\n",
    "m_value_c1 = []\n",
    "m_value_c2 = [2,3,6,11]\n",
    "m_value_c3 = [2,3,4,6,8,10]\n",
    "error_c1 = []\n",
    "error_c2 = []\n",
    "error_c3 = []\n",
    "\n",
    "# set the value of lambda and T\n",
    "lambda_value = 0.1\n",
    "T = 0.1\n",
    "\n",
    "print(\"Case 1 (PDD) Even ##########################\")\n",
    "for m in range(2,11,2):\n",
    "    error_c1.append(error_calculation(lambda_value, m, T, True, []))\n",
    "    m_value_c1.append(m)\n",
    "    print(\"For m = \" + str(m) + \" the error is \" + str(error_calculation(lambda_value, m, T, True, [])))\n",
    "\n",
    "print(\"\\nCase 2 (CDD) ##########################\")\n",
    "error_c2.append(error_calculation(lambda_value, 2, T, False, [1/2,1/2]))\n",
    "print(\"For m = 2 the error is \" + str(error_c2[0]))\n",
    "\n",
    "error_c2.append(error_calculation(lambda_value, 3, T, False, [1/4,1/2,1/4]))\n",
    "print(\"For m = 3 the error is \" + str(error_c2[1]))\n",
    "\n",
    "error_c2.append(error_calculation(lambda_value, 6, T, False, [1/8,1/4,1/8,1/8,1/4,1/8]))\n",
    "print(\"For m = 6 the error is \" + str(error_c2[2]))\n",
    "\n",
    "error_c2.append(error_calculation(lambda_value, 11, T, False, [1/16,1/8,1/16,1/16,1/8,1/8,1/8,1/16,1/16,1/8,1/16]))\n",
    "print(\"For m = 11 the error is \" + str(error_c2[3]))\n",
    "\n",
    "\n",
    "print(\"\\nCase 3 (UDD) ##########################\")\n",
    "error_c3.append(error_calculation(lambda_value, 2, T, False, UDD_calculate_s_values(2)))\n",
    "print(\"For m = 2 the error is \" + str(error_c3[0]))\n",
    "\n",
    "error_c3.append(error_calculation(lambda_value, 3, T, False, UDD_calculate_s_values(3)))\n",
    "print(\"For m = 3 the error is \" + str(error_c3[1]))\n",
    "\n",
    "error_c3.append(error_calculation(lambda_value, 4, T, False, UDD_calculate_s_values(4)))\n",
    "print(\"For m = 4 the error is \" + str(error_c3[2]))\n",
    "\n",
    "error_c3.append(error_calculation(lambda_value, 6, T, False, UDD_calculate_s_values(6)))\n",
    "print(\"For m = 6 the error is \" + str(error_c3[3]))\n",
    "print(UDD_calculate_s_values(6))\n",
    "\n",
    "error_c3.append(error_calculation(lambda_value, 6, T, False, UDD_calculate_s_values(8)))\n",
    "print(\"For m = 8 the error is \" + str(error_c3[4]))\n",
    "print(UDD_calculate_s_values(8))\n",
    "\n",
    "\n",
    "error_c3.append(error_calculation(lambda_value, 10, T, False, UDD_calculate_s_values(10)))\n",
    "print(\"For m = 10 the error is \" + str(error_c3[5]))\n",
    "print(UDD_calculate_s_values(10))\n"
   ]
  },
  {
   "cell_type": "code",
   "execution_count": 13,
   "id": "7e749dae-d1ee-4de2-b052-70555f4fdcd2",
   "metadata": {},
   "outputs": [],
   "source": [
    "# values found below\n",
    "\n",
    "m_values_optimized = [2,3,4,6,8,10]\n",
    "error_optimized = [0.000499571009354022, 9.637770643047125e-10, 1.3185843644749708e-09,6.570497960815582e-10,1.6026960554008968e-09,6.195767679163424e-10]"
   ]
  },
  {
   "cell_type": "markdown",
   "id": "d4bbc585-1b7d-4596-a328-92882fa08c7b",
   "metadata": {},
   "source": [
    "### Graph t vs $\\epsilon$"
   ]
  },
  {
   "cell_type": "code",
   "execution_count": 15,
   "id": "431d643f-81ba-4eef-9a67-5da44cacdbc6",
   "metadata": {},
   "outputs": [
    {
     "data": {
      "image/png": "[encoded data removed]",
      "text/plain": [
       "<Figure size 640x480 with 1 Axes>"
      ]
     },
     "metadata": {},
     "output_type": "display_data"
    }
   ],
   "source": [
    "# graph the changes of the error for different values of m\n",
    "\n",
    "plt.plot(m_value_c1, error_c1, color='navy', marker='o', label = \"PDD\")\n",
    "plt.plot(m_value_c2, error_c2, color='blueviolet', marker='o', label = \"CDD\")\n",
    "plt.plot(m_value_c3, error_c3, color='crimson', marker='o', label = \"UDD\")\n",
    "plt.plot(m_values_optimized, error_optimized, marker='o', label = \"minimization results\")\n",
    "\n",
    "\n",
    "plt.title('$\\epsilon$ vs m')\n",
    "plt.xlabel('m')\n",
    "plt.ylabel('$\\epsilon$')\n",
    "plt.yscale(\"log\")\n",
    "\n",
    "plt.legend()\n",
    "plt.grid()\n",
    "\n",
    "plt.savefig('general_simulation.png')\n",
    "plt.show()\n"
   ]
  },
  {
   "cell_type": "markdown",
   "id": "b16dd4ff-8583-4d36-9178-70ebb7067d46",
   "metadata": {},
   "source": [
    "## Minimize the $\\epsilon$ function for a fixed T and m"
   ]
  },
  {
   "cell_type": "markdown",
   "id": "bd755c3b-dc82-49b0-9c24-0b87d8995cb3",
   "metadata": {},
   "source": [
    "### When m = 2"
   ]
  },
  {
   "cell_type": "markdown",
   "id": "6bf8733e-b207-4fc5-bacd-167b628b54d1",
   "metadata": {},
   "source": [
    "Fix T, $\\lambda\\$ and m = 2"
   ]
  },
  {
   "cell_type": "code",
   "execution_count": 19,
   "id": "dbfce62f-a968-4bc5-b88b-1fbef62a91b6",
   "metadata": {},
   "outputs": [],
   "source": [
    "# Defining the funtion epsilon\n",
    "def epsilon_func(s_values):\n",
    "    s1 = s_values[0]\n",
    "    s2 = s_values[1]\n",
    "    lambda_value = 0.1\n",
    "    T = 0.1\n",
    "    A = expm(-1j*(Z+lambda_value*X)*s1*T) @ expm(-1j*(Z-lambda_value*X)*s2*T)\n",
    "    difference = A - expm(-1j*Z*T)\n",
    "    eigenvalues = svd(difference, compute_uv = False)\n",
    "    epsilon = np.max(eigenvalues)\n",
    "    return epsilon    "
   ]
  },
  {
   "cell_type": "code",
   "execution_count": 20,
   "id": "d457df4b-e6c8-483b-99e5-2a9b16ce2a95",
   "metadata": {},
   "outputs": [
    {
     "name": "stdout",
     "output_type": "stream",
     "text": [
      "RUNNING THE L-BFGS-B CODE\n",
      "\n",
      "           * * *\n",
      "\n",
      "Machine precision = 2.220D-16\n",
      " N =            2     M =           10\n",
      "\n",
      "At X0         0 variables are exactly at the bounds\n",
      "\n",
      "At iterate    0    f=  1.06984D-02    |proj g|=  9.55362D-02\n",
      "\n",
      "At iterate    1    f=  4.29593D-03    |proj g|=  2.19617D-02\n",
      "\n",
      "At iterate    2    f=  4.26325D-03    |proj g|=  3.40445D-02\n",
      "s1 = 0.49998534076010426 s2 = 0.4999816635668304\n",
      "\n",
      "At iterate    3    f=  4.09826D-03    |proj g|=  1.81484D-02\n",
      "\n",
      "At iterate    4    f=  3.83807D-03    |proj g|=  1.95109D-02\n",
      "\n",
      "At iterate    5    f=  3.19040D-03    |proj g|=  5.38721D-02\n",
      "\n",
      "At iterate    6    f=  2.21211D-03    |proj g|=  9.21748D-02\n",
      "\n",
      "At iterate    7    f=  1.29186D-03    |proj g|=  6.42786D-02\n",
      "\n",
      "At iterate    8    f=  7.57705D-04    |proj g|=  7.52660D-02\n",
      "\n",
      "At iterate    9    f=  5.36964D-04    |proj g|=  1.93367D-02\n",
      "\n",
      "At iterate   10    f=  5.00148D-04    |proj g|=  2.63412D-03\n",
      "\n",
      "At iterate   11    f=  4.99676D-04    |proj g|=  1.72135D-03\n",
      "\n",
      "At iterate   12    f=  4.99571D-04    |proj g|=  7.09050D-05\n",
      "\n",
      "At iterate   13    f=  4.99571D-04    |proj g|=  6.21416D-06\n",
      "\n",
      "           * * *\n",
      "\n",
      "Tit   = total number of iterations\n",
      "Tnf   = total number of function evaluations\n",
      "Tnint = total number of segments explored during Cauchy searches\n",
      "Skip  = number of BFGS updates skipped\n",
      "Nact  = number of active bounds at final generalized Cauchy point\n",
      "Projg = norm of the final projected gradient\n",
      "F     = final function value\n",
      "\n",
      "           * * *\n",
      "\n",
      "   N    Tit     Tnf  Tnint  Skip  Nact     Projg        F\n",
      "    2     13     17     13     0     0   6.214D-06   4.996D-04\n",
      "  F =   4.9957101129383477E-004\n",
      "\n",
      "CONVERGENCE: NORM_OF_PROJECTED_GRADIENT_<=_PGTOL            \n"
     ]
    },
    {
     "name": "stderr",
     "output_type": "stream",
     "text": [
      "/opt/anaconda3/lib/python3.11/site-packages/scipy/optimize/_minimize.py:576: RuntimeWarning: Method L-BFGS-B cannot handle constraints.\n",
      "  warn('Method %s cannot handle constraints.' % method,\n"
     ]
    }
   ],
   "source": [
    "# Starting guess\n",
    "s_values_start = [np.random.random(), np.random.random()]\n",
    "\n",
    "# Constraints -> s1 + s2 = 1 \n",
    "const = ({'type':'eq',\n",
    "          'fun' : lambda s_values : (s_values[0] + s_values[1] - 1)})\n",
    "# Bounds\n",
    "bounds = ((0.0,1.0),(0.0,1.0))\n",
    "\n",
    "# optimizing\n",
    "result =  spo.minimize(epsilon_func, s_values_start, method='L-BFGS-B', options={\"disp\":True}, constraints = const, bounds = bounds)\n",
    "\n",
    "# print result\n",
    "s_values = result.x\n",
    "s1 = s_values[0]\n",
    "s2 = s_values[1]\n",
    "print(\"s1 = \" + str(s1) + \" s2 = \" + str(s2))"
   ]
  },
  {
   "cell_type": "code",
   "execution_count": 21,
   "id": "12066f72-f530-4fdf-86ac-7e65e5a6887a",
   "metadata": {},
   "outputs": [
    {
     "data": {
      "text/plain": [
       "0.0004995820845829024"
      ]
     },
     "execution_count": 21,
     "metadata": {},
     "output_type": "execute_result"
    }
   ],
   "source": [
    "# lowest value found above - lowest so Far\n",
    "epsilon_func([0.5, 0.5])"
   ]
  },
  {
   "cell_type": "code",
   "execution_count": 22,
   "id": "7d209ec5-5c25-4826-be36-aede3cf1ef1f",
   "metadata": {},
   "outputs": [
    {
     "name": "stdout",
     "output_type": "stream",
     "text": [
      "0.49998534076010426 0.4999816635668304\n",
      "0.9999670043269346\n"
     ]
    },
    {
     "data": {
      "text/plain": [
       "0.0004995710112938348"
      ]
     },
     "execution_count": 22,
     "metadata": {},
     "output_type": "execute_result"
    }
   ],
   "source": [
    "# minimized value\n",
    "print(s1,s2)\n",
    "print(s1+s2)\n",
    "epsilon_func([s1,s2])\n"
   ]
  },
  {
   "cell_type": "code",
   "execution_count": 23,
   "id": "6c6d3967-a0e9-48d3-8dee-877fac67027d",
   "metadata": {},
   "outputs": [
    {
     "name": "stdout",
     "output_type": "stream",
     "text": [
      "0.0004995710115871328\n",
      "0.0004995710106577283\n",
      "0.0004995710092230183\n",
      "0.0004995710092228119\n"
     ]
    }
   ],
   "source": [
    "print(epsilon_func([0.49998361065319974, 0.49998361065319974]))\n",
    "print(epsilon_func([0.4999837890188431, 0.4999833220272216]))\n",
    "print(epsilon_func([0.49998336258508624,0.49998337866864523]))\n",
    "print(epsilon_func([0.4999833648036424,0.499983365617878]))\n"
   ]
  },
  {
   "cell_type": "markdown",
   "id": "5c33786f-8ca2-408d-9505-bc165fafcdb1",
   "metadata": {},
   "source": [
    "### When m = 3\n",
    "Fix T, $\\lambda\\$ and m = 3"
   ]
  },
  {
   "cell_type": "code",
   "execution_count": 25,
   "id": "159d5bb4-f422-4e57-a66c-0cd433c54038",
   "metadata": {},
   "outputs": [],
   "source": [
    "# Defining the funtion epsilon\n",
    "def epsilon_func(s_values):\n",
    "    s1 = s_values[0]\n",
    "    s2 = s_values[1]\n",
    "    s3 = s_values[2]\n",
    "    lambda_value = 0.1\n",
    "    T = 0.1\n",
    "    A = expm(-1j*(Z+lambda_value*X)*s1*T) @ expm(-1j*(Z-lambda_value*X)*s2*T)\n",
    "    B = A @ expm(-1j*(Z+lambda_value*X)*s3*T)\n",
    "    difference = B - expm(-1j*Z*T)\n",
    "    eigenvalues = svd(difference, compute_uv = False)\n",
    "    epsilon = np.max(eigenvalues)\n",
    "    return epsilon   "
   ]
  },
  {
   "cell_type": "code",
   "execution_count": 26,
   "id": "e21f43e1-5087-49d2-a133-9f160bc1f52e",
   "metadata": {},
   "outputs": [
    {
     "name": "stdout",
     "output_type": "stream",
     "text": [
      "RUNNING THE L-BFGS-B CODE\n",
      "\n",
      "           * * *\n",
      "\n",
      "Machine precision = 2.220D-16\n",
      " N =            3     M =           10\n",
      "\n",
      "At X0         0 variables are exactly at the bounds\n",
      "\n",
      "At iterate    0    f=  2.53427D-02    |proj g|=  9.94482D-02\n",
      "\n",
      "At iterate    1    f=  6.95805D-03    |proj g|=  7.56389D-02\n",
      "\n",
      "At iterate    2    f=  5.21938D-03    |proj g|=  1.83870D-02\n",
      "\n",
      "At iterate    3    f=  5.14768D-03    |proj g|=  1.02118D-02\n",
      "\n",
      "At iterate    4    f=  4.90250D-03    |proj g|=  2.33643D-02\n",
      "\n",
      "At iterate    5    f=  4.12246D-03    |proj g|=  5.75558D-02\n",
      "\n",
      "At iterate    6    f=  3.00570D-03    |proj g|=  9.04608D-02\n",
      "\n",
      "At iterate    7    f=  1.92911D-03    |proj g|=  6.85126D-02\n",
      "\n",
      "At iterate    8    f=  3.05664D-04    |proj g|=  2.91684D-02\n",
      "\n",
      "At iterate    9    f=  2.86249D-04    |proj g|=  7.17455D-03\n",
      "\n",
      "At iterate   10    f=  2.84322D-04    |proj g|=  4.81936D-03\n",
      "\n",
      "At iterate   11    f=  2.83697D-04    |proj g|=  1.56315D-03\n",
      "\n",
      "At iterate   12    f=  2.83620D-04    |proj g|=  1.05721D-03\n",
      "\n",
      "At iterate   13    f=  2.83204D-04    |proj g|=  2.73022D-03\n",
      "\n",
      "At iterate   14    f=  2.82352D-04    |proj g|=  4.97130D-03\n",
      "\n",
      "At iterate   15    f=  2.79903D-04    |proj g|=  9.00811D-03\n",
      "\n",
      "At iterate   16    f=  2.73858D-04    |proj g|=  1.52735D-02\n",
      "\n",
      "At iterate   17    f=  2.58642D-04    |proj g|=  2.55039D-02\n",
      "\n",
      "At iterate   18    f=  2.24307D-04    |proj g|=  4.12869D-02\n",
      "\n",
      "At iterate   19    f=  1.62390D-04    |proj g|=  6.01903D-02\n",
      "\n",
      "At iterate   20    f=  9.40361D-05    |proj g|=  4.41248D-02\n",
      "\n",
      "At iterate   21    f=  5.45371D-05    |proj g|=  5.14253D-02\n",
      "\n",
      "At iterate   22    f=  1.88726D-05    |proj g|=  5.26937D-02\n",
      "\n",
      "At iterate   23    f=  1.87978D-05    |proj g|=  2.86528D-02\n",
      "\n",
      "At iterate   24    f=  9.98332D-06    |proj g|=  1.46490D-02\n",
      "\n",
      "At iterate   25    f=  4.86016D-06    |proj g|=  5.72636D-02\n",
      "\n",
      "At iterate   26    f=  2.48222D-06    |proj g|=  5.06378D-02\n",
      "\n",
      "At iterate   27    f=  1.22897D-06    |proj g|=  3.80954D-03\n",
      "\n",
      "At iterate   28    f=  6.24551D-07    |proj g|=  5.22248D-02\n",
      "\n",
      "At iterate   29    f=  4.09361D-07    |proj g|=  1.19558D-02\n",
      "\n",
      "At iterate   30    f=  3.13364D-07    |proj g|=  3.50527D-02\n",
      "\n",
      "At iterate   31    f=  1.51397D-07    |proj g|=  1.63405D-02\n",
      "\n",
      "At iterate   32    f=  8.20249D-08    |proj g|=  1.30862D-02\n",
      "\n",
      "At iterate   33    f=  4.42818D-08    |proj g|=  4.54391D-02\n",
      "\n",
      "At iterate   34    f=  2.90419D-08    |proj g|=  4.33283D-02\n",
      "\n",
      "At iterate   35    f=  2.01667D-08    |proj g|=  3.22724D-03\n",
      "\n",
      "At iterate   36    f=  9.96192D-09    |proj g|=  2.07883D-02\n",
      "\n",
      "At iterate   37    f=  5.38284D-09    |proj g|=  3.43568D-02\n",
      "s1 =  0.25031230233078466  s2 =  0.49937676177430546  s3 =  0.2503150887330855\n",
      "\n",
      "At iterate   38    f=  3.36020D-09    |proj g|=  2.15745D-02\n",
      "\n",
      "           * * *\n",
      "\n",
      "Tit   = total number of iterations\n",
      "Tnf   = total number of function evaluations\n",
      "Tnint = total number of segments explored during Cauchy searches\n",
      "Skip  = number of BFGS updates skipped\n",
      "Nact  = number of active bounds at final generalized Cauchy point\n",
      "Projg = norm of the final projected gradient\n",
      "F     = final function value\n",
      "\n",
      "           * * *\n",
      "\n",
      "   N    Tit     Tnf  Tnint  Skip  Nact     Projg        F\n",
      "    3     38     62     38     0     0   2.157D-02   3.360D-09\n",
      "  F =   3.3601962113286104E-009\n",
      "\n",
      "CONVERGENCE: REL_REDUCTION_OF_F_<=_FACTR*EPSMCH             \n"
     ]
    }
   ],
   "source": [
    "# Starting guess\n",
    "s_values_start = [np.random.random(),np.random.random(), np.random.random()]\n",
    "\n",
    "# Constraints -> s1 + s2 + s3 = 1 \n",
    "const = ({'type':'eq',\n",
    "          'fun' : lambda s_values : (s_values[0] + s_values[1] + s_values[2] - 1)})\n",
    "# Bounds\n",
    "bounds = ((0.0,1.0),(0.0,1.0),(0.0,1.0))\n",
    "\n",
    "# optimizing\n",
    "result =  spo.minimize(epsilon_func, s_values_start, method='L-BFGS-B', options={\"disp\":True}, constraints = const, bounds = bounds)\n",
    "\n",
    "# print result\n",
    "s_values = result.x\n",
    "s1 = s_values[0]\n",
    "s2 = s_values[1]\n",
    "s3 = s_values[2]\n",
    "print(\"s1 = \", s1, \" s2 = \", s2, \" s3 = \", s3)"
   ]
  },
  {
   "cell_type": "code",
   "execution_count": 27,
   "id": "0f251f03-8314-4db7-abdc-8be206ffcdd9",
   "metadata": {},
   "outputs": [
    {
     "data": {
      "text/plain": [
       "1.249909813324557e-05"
      ]
     },
     "execution_count": 27,
     "metadata": {},
     "output_type": "execute_result"
    }
   ],
   "source": [
    "# lowest value found above\n",
    "epsilon_func([1/4,1/2,1/4])"
   ]
  },
  {
   "cell_type": "code",
   "execution_count": 28,
   "id": "81cfe310-b5f1-42b8-ba0a-07329491c8af",
   "metadata": {},
   "outputs": [
    {
     "name": "stdout",
     "output_type": "stream",
     "text": [
      "1.0000041528381756\n",
      "s1=  0.25031230233078466 s2 =  0.49937676177430546 s3= 0.2503150887330855\n"
     ]
    },
    {
     "data": {
      "text/plain": [
       "3.3601962113286104e-09"
      ]
     },
     "execution_count": 28,
     "metadata": {},
     "output_type": "execute_result"
    }
   ],
   "source": [
    "# minimized value\n",
    "print(s1+s2+s3)\n",
    "print(\"s1= \", s1, \"s2 = \", s2, \"s3=\", s3)\n",
    "epsilon_func([s1,s2,s3])\n"
   ]
  },
  {
   "cell_type": "code",
   "execution_count": 29,
   "id": "b935014b-3d51-44cb-a3d2-e78897f88a43",
   "metadata": {},
   "outputs": [
    {
     "name": "stdout",
     "output_type": "stream",
     "text": [
      "0.25031230233078466 0.49937676177430546 0.2503150887330855\n",
      "2.7011641425558947e-09\n",
      "4.16299704372454e-07\n",
      "9.637770643047125e-10\n",
      "1.0\n"
     ]
    },
    {
     "data": {
      "text/plain": [
       "4.165208333609877e-07"
      ]
     },
     "execution_count": 29,
     "metadata": {},
     "output_type": "execute_result"
    }
   ],
   "source": [
    "# lowest found\n",
    "print(s1,s2,s3)\n",
    "print(epsilon_func([0.2503131326075795, 0.4993768041187886, 0.25031423701763944]))\n",
    "#s1 =  0.25031269456576893  s2 =  0.49937461113734705  s3 =  0.2503126942968841\n",
    "#4.16299704372454e-07\n",
    "print(epsilon_func([0.25031269456576893,0.49937461113734705,0.2503126942968841]))\n",
    "print(epsilon_func([0.2503139951814718,0.49937672578019454,0.2503134407280822]))\n",
    "\n",
    "s1 =  0.2503130334449466  \n",
    "s2 =  0.49937393184986445  \n",
    "s3 =  0.250313034705189\n",
    "print(s1+s2+s3)\n",
    "epsilon_func([s1,s2,s3])"
   ]
  },
  {
   "cell_type": "markdown",
   "id": "9cd68bdd-ab57-45c4-9af5-3e6562bb37bc",
   "metadata": {},
   "source": [
    "### When m = 4\n",
    "Fix T, $\\lambda\\$ and m = 4"
   ]
  },
  {
   "cell_type": "code",
   "execution_count": 31,
   "id": "99696099-cfce-4ef1-b68f-73b1295dbbbd",
   "metadata": {},
   "outputs": [],
   "source": [
    "# Defining the funtion epsilon\n",
    "def epsilon_func(s_values):\n",
    "    s1 = s_values[0]\n",
    "    s2 = s_values[1]\n",
    "    s3 = s_values[2]\n",
    "    s4 = s_values[3]\n",
    "    lambda_value = 0.1\n",
    "    T = 0.1\n",
    "    A = expm(-1j*(Z+lambda_value*X)*s1*T)@ expm(-1j*(Z-lambda_value*X)*s2*T) @ expm(-1j*(Z+lambda_value*X)*s3*T)@ expm(-1j*(Z-lambda_value*X)*s4*T)\n",
    "    difference = A - expm(-1j*Z*T)\n",
    "    eigenvalues = svd(difference, compute_uv = False)\n",
    "    epsilon = np.max(eigenvalues)\n",
    "    return epsilon   "
   ]
  },
  {
   "cell_type": "code",
   "execution_count": 32,
   "id": "474a9b77-610a-4cd0-9734-5c7a714d637b",
   "metadata": {},
   "outputs": [
    {
     "name": "stdout",
     "output_type": "stream",
     "text": [
      "RUNNING THE L-BFGS-B CODE\n",
      "\n",
      "           * * *\n",
      "\n",
      "Machine precision = 2.220D-16\n",
      " N =            4     M =           10\n",
      "\n",
      "At X0         4 variables are exactly at the bounds\n",
      "\n",
      "At iterate    0    f=  9.99583D-02    |proj g|=  9.98750D-02\n",
      "\n",
      "At iterate    1    f=  6.00410D-02    |proj g|=  9.99549D-02\n",
      "  ys=-3.178E-05  -gs= 3.990E-02 BFGS update SKIPPED\n",
      "\n",
      "At iterate    2    f=  9.81835D-04    |proj g|=  9.68439D-02\n",
      "\n",
      "At iterate    3    f=  2.50520D-04    |proj g|=  8.92029D-03\n",
      "\n",
      "At iterate    4    f=  2.49623D-04    |proj g|=  5.65938D-04\n",
      "\n",
      "At iterate    5    f=  2.49593D-04    |proj g|=  9.26668D-04\n",
      "\n",
      "At iterate    6    f=  2.49360D-04    |proj g|=  3.12047D-03\n",
      "\n",
      "At iterate    7    f=  2.48808D-04    |proj g|=  6.31232D-03\n",
      "\n",
      "At iterate    8    f=  2.47306D-04    |proj g|=  1.17454D-02\n",
      "\n",
      "At iterate    9    f=  2.43443D-04    |proj g|=  2.05683D-02\n",
      "\n",
      "At iterate   10    f=  2.33409D-04    |proj g|=  3.56223D-02\n",
      "\n",
      "At iterate   11    f=  2.09351D-04    |proj g|=  6.17678D-02\n",
      "\n",
      "At iterate   12    f=  1.69230D-04    |proj g|=  9.48352D-02\n",
      "\n",
      "At iterate   13    f=  1.10215D-04    |proj g|=  9.87193D-02\n",
      "\n",
      "At iterate   14    f=  5.16694D-05    |proj g|=  4.85126D-02\n",
      "\n",
      "At iterate   15    f=  2.77919D-05    |proj g|=  3.81023D-02\n",
      "\n",
      "At iterate   16    f=  1.32185D-05    |proj g|=  9.64687D-02\n",
      "\n",
      "At iterate   17    f=  6.54229D-06    |proj g|=  7.49923D-02\n",
      "\n",
      "At iterate   18    f=  3.33796D-06    |proj g|=  6.23996D-03\n",
      "\n",
      "At iterate   19    f=  1.64743D-06    |proj g|=  8.62878D-02\n",
      "\n",
      "At iterate   20    f=  8.42928D-07    |proj g|=  9.34685D-02\n",
      "\n",
      "At iterate   21    f=  4.16854D-07    |proj g|=  2.45198D-02\n",
      "\n",
      "At iterate   22    f=  2.11050D-07    |proj g|=  6.38359D-02\n",
      "\n",
      "At iterate   23    f=  1.04512D-07    |proj g|=  9.99657D-02\n",
      "\n",
      "At iterate   24    f=  5.28224D-08    |proj g|=  5.55733D-02\n",
      "\n",
      "At iterate   25    f=  2.67412D-08    |proj g|=  3.49580D-02\n",
      "\n",
      "At iterate   26    f=  1.40728D-08    |proj g|=  9.71384D-02\n",
      "\n",
      "At iterate   27    f=  7.29229D-09    |proj g|=  7.92078D-02\n",
      "\n",
      "At iterate   28    f=  3.43269D-09    |proj g|=  1.57392D-02\n",
      "s1 =  0.1465200916941976  s2 =  0.35348042498029714  s3 =  0.3534809680760222  s4 =  0.1465205454741712\n",
      "\n",
      "At iterate   29    f=  1.40508D-09    |proj g|=  7.71857D-02\n",
      "\n",
      "           * * *\n",
      "\n",
      "Tit   = total number of iterations\n",
      "Tnf   = total number of function evaluations\n",
      "Tnint = total number of segments explored during Cauchy searches\n",
      "Skip  = number of BFGS updates skipped\n",
      "Nact  = number of active bounds at final generalized Cauchy point\n",
      "Projg = norm of the final projected gradient\n",
      "F     = final function value\n",
      "\n",
      "           * * *\n",
      "\n",
      "   N    Tit     Tnf  Tnint  Skip  Nact     Projg        F\n",
      "    4     29     56     29     1     0   7.719D-02   1.405D-09\n",
      "  F =   1.4050766872447189E-009\n",
      "\n",
      "CONVERGENCE: REL_REDUCTION_OF_F_<=_FACTR*EPSMCH             \n"
     ]
    }
   ],
   "source": [
    "# Starting guess\n",
    "s_values_start = [0,0,0,0]\n",
    "#s_values_start = [np.random.random(), np.random.random(), np.random.random(), np.random.random()]\n",
    "\n",
    "# Constraints -> s1 + s2 + s3 + s4 = 1 \n",
    "const = ({'type':'eq',\n",
    "          'fun' : lambda s_values : (s_values[0] + s_values[1] + s_values[2] + s_values[3]- 1)})\n",
    "# Bounds\n",
    "bounds = ((0.0,1.0),(0.0,1.0),(0.0,1.0),(0.0, 1.0))\n",
    "\n",
    "# optimizing\n",
    "result =  spo.minimize(epsilon_func, s_values_start, method='L-BFGS-B',options={\"disp\":True}, constraints = const, bounds = bounds)\n",
    "\n",
    "# print result\n",
    "s_values = result.x\n",
    "s1 = s_values[0]\n",
    "s2 = s_values[1]\n",
    "s3 = s_values[2]\n",
    "s4 = s_values[3]\n",
    "print(\"s1 = \", s1, \" s2 = \", s2, \" s3 = \", s3, \" s4 = \", s4)"
   ]
  },
  {
   "cell_type": "code",
   "execution_count": 33,
   "id": "18ff4ff2-19c5-4f83-8130-3d86f93dafdb",
   "metadata": {},
   "outputs": [
    {
     "data": {
      "text/plain": [
       "2.9031863259118986e-07"
      ]
     },
     "execution_count": 33,
     "metadata": {},
     "output_type": "execute_result"
    }
   ],
   "source": [
    "# lowest s in prev part\n",
    "epsilon_func([0.14644660940672624, 0.3535533905932736, 0.35355339059327384, 0.14644660940672627])"
   ]
  },
  {
   "cell_type": "code",
   "execution_count": 34,
   "id": "c08d8af1-d7d5-4f85-bda9-7705af7fd8d7",
   "metadata": {},
   "outputs": [
    {
     "name": "stdout",
     "output_type": "stream",
     "text": [
      "1.0000020302246881\n",
      "0.1465200916941976 0.35348042498029714 0.3534809680760222 0.1465205454741712\n"
     ]
    },
    {
     "data": {
      "text/plain": [
       "1.4050766872447189e-09"
      ]
     },
     "execution_count": 34,
     "metadata": {},
     "output_type": "execute_result"
    }
   ],
   "source": [
    "# minimized values\n",
    "print(s1+s2+s3+s4)\n",
    "print(s1, s2, s3, s4)\n",
    "epsilon_func([s1,s2,s3,s4])\n"
   ]
  },
  {
   "cell_type": "code",
   "execution_count": 35,
   "id": "3bc68add-04c3-49a8-9479-6bb6282df1c9",
   "metadata": {},
   "outputs": [
    {
     "name": "stdout",
     "output_type": "stream",
     "text": [
      "2.028214955034198e-07\n",
      "2.0229474578497696e-07\n",
      "3.5239377130349133e-09\n",
      "1.8201361302785667e-09\n",
      "1.5676595736022162e-09\n",
      "1.3185843644749708e-09\n",
      "1.000003292836711\n"
     ]
    },
    {
     "data": {
      "text/plain": [
       "9.336118110792099e-08"
      ]
     },
     "execution_count": 35,
     "metadata": {},
     "output_type": "execute_result"
    }
   ],
   "source": [
    "print(epsilon_func([0.14002269377036433,0.3471307048304575,0.35994513617231017,0.1529014652268681] ))\n",
    "print(epsilon_func([0.14852368879439615,0.35548431730913477,0.3514863478995621,0.144505645996907]))\n",
    "print(epsilon_func([0.18260355134222295,0.3934429524912896,0.31758791595654123,0.10636778240906868]))\n",
    "print(epsilon_func([0.11201090406009984,0.3221869714667899,0.3878254228854342,0.17797886271369787]))\n",
    "print(epsilon_func([0.15660249719595007,0.36380421129713986,0.3434496115008143,0.13614572318190296]))\n",
    "print(epsilon_func([0.16772630320693488,0.37592124270119004,0.3323840437689914,0.12397048978012597\n",
    "]))\n",
    "#lowest found\n",
    "\n",
    "#s1 =  0.14002269377036433\n",
    "#s2 =  0.3471307048304575  \n",
    "#s3 =  0.35994513617231017  \n",
    "#s4 =  0.1529014652268681\n",
    "# 2.0282149550342433e-07\n",
    "\n",
    "#s1 =  0.14852368879439615  \n",
    "#s2 =  0.35548431730913477  \n",
    "#s3 =  0.3514863478995621  \n",
    "#s4 =  0.144505645996907\n",
    "# 2.022947457958505e-07\n",
    "\n",
    "\n",
    "\n",
    "s1 =  0.03765566095204766  \n",
    "s2 =  0.27063906421385175  \n",
    "s3 =  0.4618681202205331  \n",
    "s4 =  0.22984044745027865\n",
    "print(s1+s2+s3+s4)\n",
    "epsilon_func([s1,s2,s3,s4])"
   ]
  },
  {
   "cell_type": "markdown",
   "id": "ab5e6bfb-ddf2-451f-bc36-44d06499134d",
   "metadata": {},
   "source": [
    "### When m = 6\n",
    "Fix T, $\\lambda\\$ and m = 6"
   ]
  },
  {
   "cell_type": "code",
   "execution_count": 37,
   "id": "2b8fe0f1-dc7a-4014-b742-7ca39b49a78d",
   "metadata": {},
   "outputs": [],
   "source": [
    "# Defining the funtion epsilon\n",
    "def epsilon_func(s_values):\n",
    "    s1 = s_values[0]\n",
    "    s2 = s_values[1]\n",
    "    s3 = s_values[2]\n",
    "    s4 = s_values[3]\n",
    "    s5 = s_values[4]\n",
    "    s6 = s_values[5]\n",
    "    lambda_value = 0.1\n",
    "    T = 0.1\n",
    "    A = expm(-1j*(Z+lambda_value*X)*s1*T) @ expm(-1j*(Z-lambda_value*X)*s2*T) @ expm(-1j*(Z+lambda_value*X)*s3*T) @ expm(-1j*(Z-lambda_value*X)*s4*T) @ expm(-1j*(Z+lambda_value*X)*s5*T) @ expm(-1j*(Z-lambda_value*X)*s6*T)\n",
    "    \n",
    "    difference = A - expm(-1j*Z*T)\n",
    "    eigenvalues = svd(difference, compute_uv = False)\n",
    "    epsilon = np.max(eigenvalues)\n",
    "    return epsilon   "
   ]
  },
  {
   "cell_type": "code",
   "execution_count": 38,
   "id": "d21b2998-1a67-4fa8-b943-896003aef27e",
   "metadata": {},
   "outputs": [
    {
     "name": "stdout",
     "output_type": "stream",
     "text": [
      "RUNNING THE L-BFGS-B CODE\n",
      "\n",
      "           * * *\n",
      "\n",
      "Machine precision = 2.220D-16\n",
      " N =            6     M =           10\n",
      "\n",
      "At X0         0 variables are exactly at the bounds\n",
      "\n",
      "At iterate    0    f=  1.64681D-01    |proj g|=  9.98000D-02\n",
      "\n",
      "At iterate    1    f=  1.05043D-01    |proj g|=  1.00068D-01\n",
      "  ys=-1.107E-04  -gs= 5.958E-02 BFGS update SKIPPED\n",
      "\n",
      "At iterate    2    f=  6.10179D-02    |proj g|=  1.00248D-01\n",
      "  ys=-2.627E-05  -gs= 4.401E-02 BFGS update SKIPPED\n",
      "\n",
      "At iterate    3    f=  2.78794D-02    |proj g|=  1.00387D-01\n",
      "\n",
      "At iterate    4    f=  1.27794D-03    |proj g|=  4.11473D-02\n",
      "\n",
      "At iterate    5    f=  1.18697D-03    |proj g|=  1.55167D-02\n",
      "\n",
      "At iterate    6    f=  5.11777D-04    |proj g|=  9.48417D-02\n",
      "\n",
      "At iterate    7    f=  1.33450D-04    |proj g|=  6.94356D-02\n",
      "\n",
      "At iterate    8    f=  9.07897D-05    |proj g|=  1.55410D-02\n",
      "\n",
      "At iterate    9    f=  8.79870D-05    |proj g|=  4.40737D-02\n",
      "\n",
      "At iterate   10    f=  8.67309D-05    |proj g|=  5.75204D-02\n",
      "\n",
      "At iterate   11    f=  8.27719D-05    |proj g|=  7.77086D-02\n",
      "\n",
      "At iterate   12    f=  4.04814D-05    |proj g|=  9.51673D-02\n",
      "\n",
      "At iterate   13    f=  2.53071D-05    |proj g|=  3.89258D-02\n",
      "\n",
      "At iterate   14    f=  1.48017D-05    |proj g|=  5.17887D-02\n",
      "\n",
      "At iterate   15    f=  1.28350D-05    |proj g|=  1.07594D-02\n",
      "\n",
      "At iterate   16    f=  1.27936D-05    |proj g|=  7.05079D-03\n",
      "\n",
      "At iterate   17    f=  1.27144D-05    |proj g|=  1.21041D-03\n",
      "\n",
      "At iterate   18    f=  1.27020D-05    |proj g|=  2.63868D-03\n",
      "\n",
      "At iterate   19    f=  1.26436D-05    |proj g|=  6.60144D-03\n",
      "\n",
      "At iterate   20    f=  1.24217D-05    |proj g|=  1.62889D-02\n",
      "\n",
      "At iterate   21    f=  1.19282D-05    |proj g|=  3.00295D-02\n",
      "\n",
      "At iterate   22    f=  1.06961D-05    |proj g|=  5.34592D-02\n",
      "\n",
      "At iterate   23    f=  8.32275D-06    |proj g|=  8.56237D-02\n",
      "\n",
      "At iterate   24    f=  5.16331D-06    |proj g|=  9.42940D-02\n",
      "\n",
      "At iterate   25    f=  2.69919D-06    |proj g|=  5.10128D-02\n",
      "\n",
      "At iterate   26    f=  9.43537D-07    |proj g|=  9.99908D-02\n",
      "\n",
      "At iterate   27    f=  7.24234D-07    |proj g|=  2.35953D-02\n",
      "\n",
      "At iterate   28    f=  2.69216D-07    |proj g|=  9.17653D-02\n",
      "\n",
      "At iterate   29    f=  1.72440D-07    |proj g|=  3.55284D-02\n",
      "\n",
      "At iterate   30    f=  6.54429D-08    |proj g|=  7.22965D-02\n",
      "\n",
      "At iterate   31    f=  3.69017D-08    |proj g|=  9.11557D-02\n",
      "\n",
      "At iterate   32    f=  1.81030D-08    |proj g|=  2.96401D-02\n",
      "\n",
      "At iterate   33    f=  9.36714D-09    |proj g|=  7.68452D-02\n",
      "\n",
      "At iterate   34    f=  5.33708D-09    |proj g|=  9.78162D-02\n",
      "\n",
      "At iterate   35    f=  2.39851D-09    |proj g|=  2.68290D-02\n",
      "s1 =  0.01995264484161677  s2 =  0.2606656123341767  s3 =  0.4545591089350599  s4 =  2.8059566547143718e-11  s5 =  0.024940619328068965  s6 =  0.23988570330166628\n",
      "\n",
      "At iterate   36    f=  8.68244D-10    |proj g|=  6.85829D-02\n",
      "\n",
      "           * * *\n",
      "\n",
      "Tit   = total number of iterations\n",
      "Tnf   = total number of function evaluations\n",
      "Tnint = total number of segments explored during Cauchy searches\n",
      "Skip  = number of BFGS updates skipped\n",
      "Nact  = number of active bounds at final generalized Cauchy point\n",
      "Projg = norm of the final projected gradient\n",
      "F     = final function value\n",
      "\n",
      "           * * *\n",
      "\n",
      "   N    Tit     Tnf  Tnint  Skip  Nact     Projg        F\n",
      "    6     36     70     50     2     0   6.858D-02   8.682D-10\n",
      "  F =   8.6824366998908825E-010\n",
      "\n",
      "CONVERGENCE: REL_REDUCTION_OF_F_<=_FACTR*EPSMCH             \n"
     ]
    },
    {
     "name": "stderr",
     "output_type": "stream",
     "text": [
      "\n",
      " Nonpositive definiteness in Cholesky factorization in formk;\n",
      "   refresh the lbfgs memory and restart the iteration.\n"
     ]
    }
   ],
   "source": [
    "# Starting guess\n",
    "s_values_start = [np.random.random(), np.random.random(), np.random.random(), np.random.random(), np.random.random(), np.random.random()]\n",
    "\n",
    "# Constraints -> s1 + s2 + s3 + s4 + s5 + s6 = 1 \n",
    "const = ({'type':'eq',\n",
    "          'fun' : lambda s_values : (s_values[0] + s_values[1] + s_values[2] + s_values[3] + s_values[4] + s_values[5] - 1)})\n",
    "# Bounds\n",
    "bounds = ((0.0,1.0),(0.0,1.0),(0.0,1.0),(0.0, 1.0),(0.0,1.0),(0.0, 1.0))\n",
    "\n",
    "# optimizing\n",
    "result =  spo.minimize(epsilon_func, s_values_start, method='L-BFGS-B', options={\"disp\":True}, constraints = const, bounds = bounds)\n",
    "\n",
    "# print result\n",
    "s_values = result.x\n",
    "s1 = s_values[0]\n",
    "s2 = s_values[1]\n",
    "s3 = s_values[2]\n",
    "s4 = s_values[3]\n",
    "s5 = s_values[4]\n",
    "s6 = s_values[5]\n",
    "print(\"s1 = \", s1, \" s2 = \", s2, \" s3 = \", s3, \" s4 = \", s4,\" s5 = \", s5, \" s6 = \", s6)"
   ]
  },
  {
   "cell_type": "code",
   "execution_count": 39,
   "id": "9c6a5aba-cd34-4577-8679-d461e6e14c56",
   "metadata": {},
   "outputs": [
    {
     "data": {
      "text/plain": [
       "8.175186760529897e-08"
      ]
     },
     "execution_count": 39,
     "metadata": {},
     "output_type": "execute_result"
    }
   ],
   "source": [
    "# lowest s in prev part\n",
    "epsilon_func([0.06698729810778066, 0.1830127018922193, 0.24999999999999994, 0.25, 0.18301270189221952, 0.06698729810778059])"
   ]
  },
  {
   "cell_type": "code",
   "execution_count": 40,
   "id": "490bedcf-1426-4190-8392-7195a7110cdc",
   "metadata": {},
   "outputs": [
    {
     "name": "stdout",
     "output_type": "stream",
     "text": [
      "1.0000036887686483\n",
      "0.01995264484161677 0.2606656123341767 0.4545591089350599 2.8059566547143718e-11 0.024940619328068965 0.23988570330166628\n"
     ]
    },
    {
     "data": {
      "text/plain": [
       "8.682436699890883e-10"
      ]
     },
     "execution_count": 40,
     "metadata": {},
     "output_type": "execute_result"
    }
   ],
   "source": [
    "# minimized values\n",
    "print(s1+s2+s3+s4+s5+s6)\n",
    "print(s1,s2,s3,s4,s5,s6)\n",
    "epsilon_func([s1,s2,s3,s4,s5,s6])\n"
   ]
  },
  {
   "cell_type": "code",
   "execution_count": 41,
   "id": "cd54c874-bad9-474d-b1c4-48b4e8feda15",
   "metadata": {},
   "outputs": [
    {
     "name": "stdout",
     "output_type": "stream",
     "text": [
      "1.0000007644360716\n"
     ]
    },
    {
     "data": {
      "text/plain": [
       "6.570497960815582e-10"
      ]
     },
     "execution_count": 41,
     "metadata": {},
     "output_type": "execute_result"
    }
   ],
   "source": [
    "#lowest found\n",
    "s1 =  0.10910226983427064  \n",
    "s2 =  0.22407462624604563  \n",
    "s3 =  0.16682131132939915  \n",
    "s4 =  0.16682177187577263  \n",
    "s5 =  0.2240768041956014  \n",
    "s6 =  0.10910398095498218\n",
    "print(s1+s2+s3+s4+s5+s6)\n",
    "epsilon_func([s1,s2,s3,s4,s5,s6])"
   ]
  },
  {
   "cell_type": "markdown",
   "id": "70011b33-7fcc-49bb-9040-8167f99a9281",
   "metadata": {},
   "source": [
    "### When m = 8\n",
    "Fix T, $\\lambda\\$ and m = 8"
   ]
  },
  {
   "cell_type": "code",
   "execution_count": 43,
   "id": "0e1285e0-1ae1-4c6f-9f58-90f0de956bfe",
   "metadata": {},
   "outputs": [],
   "source": [
    "# Defining the funtion epsilon\n",
    "def epsilon_func(s_values):\n",
    "    s1 = s_values[0]\n",
    "    s2 = s_values[1]\n",
    "    s3 = s_values[2]\n",
    "    s4 = s_values[3]\n",
    "    s5 = s_values[4]\n",
    "    s6 = s_values[5]\n",
    "    s7 = s_values[6]\n",
    "    s8 = s_values[7]\n",
    "    lambda_value = 0.1\n",
    "    T = 0.1\n",
    "    A = expm(-1j*(Z+lambda_value*X)*s1*T) @ expm(-1j*(Z-lambda_value*X)*s2*T) @ expm(-1j*(Z+lambda_value*X)*s3*T) @ expm(-1j*(Z-lambda_value*X)*s4*T) @ expm(-1j*(Z+lambda_value*X)*s5*T) @ expm(-1j*(Z-lambda_value*X)*s6*T)@ expm(-1j*(Z-lambda_value*X)*s7*T) @ expm(-1j*(Z+lambda_value*X)*s8*T)\n",
    "    \n",
    "    difference = A - expm(-1j*Z*T)\n",
    "    eigenvalues = svd(difference, compute_uv = False)\n",
    "    epsilon = np.max(eigenvalues)\n",
    "    return epsilon   "
   ]
  },
  {
   "cell_type": "code",
   "execution_count": 44,
   "id": "c697701d-923f-4ae8-a36e-39733a873d0f",
   "metadata": {},
   "outputs": [
    {
     "name": "stdout",
     "output_type": "stream",
     "text": [
      "RUNNING THE L-BFGS-B CODE\n",
      "\n",
      "           * * *\n",
      "\n",
      "Machine precision = 2.220D-16\n",
      " N =            8     M =           10\n",
      "\n",
      "At X0         0 variables are exactly at the bounds\n",
      "\n",
      "At iterate    0    f=  2.01007D-01    |proj g|=  9.97196D-02\n",
      "\n",
      "At iterate    1    f=  1.21751D-01    |proj g|=  1.00150D-01\n",
      "  ys=-2.114E-04  -gs= 7.913E-02 BFGS update SKIPPED\n",
      "\n",
      "At iterate    2    f=  6.11362D-02    |proj g|=  1.00440D-01\n"
     ]
    },
    {
     "name": "stderr",
     "output_type": "stream",
     "text": [
      "\n",
      " Nonpositive definiteness in Cholesky factorization in formk;\n",
      "   refresh the lbfgs memory and restart the iteration.\n"
     ]
    },
    {
     "name": "stdout",
     "output_type": "stream",
     "text": [
      "\n",
      "At iterate    3    f=  3.95967D-03    |proj g|=  6.94007D-02\n",
      "\n",
      "At iterate    4    f=  3.09222D-03    |proj g|=  1.19369D-02\n",
      "\n",
      "At iterate    5    f=  3.05033D-03    |proj g|=  1.27125D-02\n",
      "\n",
      "At iterate    6    f=  2.82667D-03    |proj g|=  5.56609D-02\n",
      "\n",
      "At iterate    7    f=  2.60626D-03    |proj g|=  4.45825D-02\n",
      "\n",
      "At iterate    8    f=  1.79979D-03    |proj g|=  8.13950D-02\n",
      "\n",
      "At iterate    9    f=  7.10759D-04    |proj g|=  1.98017D-02\n",
      "\n",
      "At iterate   10    f=  4.27513D-04    |proj g|=  9.99638D-02\n",
      "\n",
      "At iterate   11    f=  1.53163D-04    |proj g|=  7.33068D-02\n",
      "\n",
      "At iterate   12    f=  1.18768D-04    |proj g|=  8.94398D-02\n",
      "\n",
      "At iterate   13    f=  8.25684D-05    |proj g|=  3.46678D-02\n",
      "\n",
      "At iterate   14    f=  5.71107D-05    |proj g|=  3.65908D-02\n",
      "\n",
      "At iterate   15    f=  5.18848D-05    |proj g|=  5.49977D-02\n",
      "\n",
      "At iterate   16    f=  4.64310D-05    |proj g|=  2.65347D-02\n",
      "\n",
      "At iterate   17    f=  4.42409D-05    |proj g|=  4.00414D-03\n",
      "\n",
      "At iterate   18    f=  4.35950D-05    |proj g|=  4.77536D-03\n",
      "\n",
      "At iterate   19    f=  4.35348D-05    |proj g|=  1.84408D-03\n",
      "\n",
      "At iterate   20    f=  4.35253D-05    |proj g|=  1.93812D-03\n",
      "\n",
      "At iterate   21    f=  4.33418D-05    |proj g|=  2.34649D-03\n",
      "\n",
      "At iterate   22    f=  4.10557D-05    |proj g|=  5.97957D-03\n",
      "\n",
      "At iterate   23    f=  3.75378D-05    |proj g|=  9.44678D-03\n",
      "\n",
      "At iterate   24    f=  2.87386D-05    |proj g|=  1.57082D-02\n",
      "\n",
      "At iterate   25    f=  1.79036D-05    |proj g|=  1.76866D-02\n",
      "\n",
      "At iterate   26    f=  1.39886D-05    |proj g|=  8.09813D-03\n",
      "\n",
      "At iterate   27    f=  2.65624D-06    |proj g|=  3.06934D-02\n",
      "\n",
      "At iterate   28    f=  1.82052D-06    |proj g|=  6.11628D-02\n",
      "\n",
      "At iterate   29    f=  8.61733D-07    |proj g|=  9.04102D-02\n",
      "\n",
      "At iterate   30    f=  8.10569D-07    |proj g|=  7.39654D-02\n",
      "\n",
      "At iterate   31    f=  5.44200D-07    |proj g|=  6.67548D-03\n",
      "\n",
      "At iterate   32    f=  2.39991D-07    |proj g|=  8.32209D-02\n",
      "\n",
      "At iterate   33    f=  1.27235D-07    |proj g|=  9.10303D-02\n",
      "\n",
      "At iterate   34    f=  6.36121D-08    |proj g|=  2.70800D-02\n",
      "\n",
      "At iterate   35    f=  4.02885D-08    |proj g|=  6.68867D-02\n",
      "\n",
      "At iterate   36    f=  3.67389D-08    |proj g|=  9.53410D-02\n",
      "\n",
      "At iterate   37    f=  1.59573D-08    |proj g|=  4.30012D-02\n",
      "\n",
      "At iterate   38    f=  9.07797D-09    |proj g|=  6.22258D-02\n",
      "\n",
      "At iterate   39    f=  5.10066D-09    |proj g|=  9.88313D-02\n",
      "s1 = \n",
      "At iterate   40    f=  2.91717D-09    |proj g|=  6.26359D-02\n",
      "\n",
      "           * * *\n",
      "\n",
      "Tit   = total number of iterations\n",
      "Tnf   = total number of function evaluations\n",
      "Tnint = total number of segments explored during Cauchy searches\n",
      "Skip  = number of BFGS updates skipped\n",
      "Nact  = number of active bounds at final generalized Cauchy point\n",
      "Projg = norm of the final projected gradient\n",
      "F     = final function value\n",
      "\n",
      "           * * *\n",
      "\n",
      "   N    Tit     Tnf  Tnint  Skip  Nact     Projg        F\n",
      "    8     40     63     51     1     0   6.264D-02   2.917D-09\n",
      "  F =   2.9171671962866879E-009\n",
      "\n",
      "CONVERGENCE: REL_REDUCTION_OF_F_<=_FACTR*EPSMCH             \n",
      " 0.16756861524972588  s2 =  0.05220507045032273  s3 =  0.07463877874713161  s4 =  0.23317511436527652  s5 =  0.03698911601976052  s6 =  0.21084885427364652  s7 =  0.003238116310211331  s8 =  0.22133909479483604\n"
     ]
    }
   ],
   "source": [
    "# Starting guess\n",
    "s_values_start = [np.random.random(), np.random.random(), np.random.random(), np.random.random(), np.random.random(), np.random.random(), np.random.random(), np.random.random() ]\n",
    "\n",
    "# Constraints -> s1 + s2 + s3 + s4 + s5 + s6 + s7 + s8 = 1 \n",
    "const = ({'type':'eq',\n",
    "          'fun' : lambda s_values : (s_values[0] + s_values[1] + s_values[2] + s_values[3] + s_values[4] + s_values[5] + s_values[6] + s_values[7]- 1)})\n",
    "# Bounds\n",
    "bounds = ((0.0,1.0),(0.0,1.0),(0.0,1.0),(0.0,1.0),(0.0,1.0),(0.0,1.0),(0.0,1.0),(0.0,1.0))\n",
    "\n",
    "# optimizing\n",
    "result =  spo.minimize(epsilon_func, s_values_start, method='L-BFGS-B', options={\"disp\":True}, constraints = const, bounds = bounds)\n",
    "\n",
    "# print result\n",
    "s_values = result.x\n",
    "s1 = s_values[0]\n",
    "s2 = s_values[1]\n",
    "s3 = s_values[2]\n",
    "s4 = s_values[3]\n",
    "s5 = s_values[4]\n",
    "s6 = s_values[5]\n",
    "s7 = s_values[6]\n",
    "s8 = s_values[7]\n",
    "print(\"s1 = \", s1, \" s2 = \", s2, \" s3 = \", s3, \" s4 = \", s4,\" s5 = \", s5, \" s6 = \", s6, \" s7 = \", s7, \" s8 = \", s8)"
   ]
  },
  {
   "cell_type": "code",
   "execution_count": 45,
   "id": "e6a39ad5-ccc8-4575-ae5b-51dcbe5f6f0d",
   "metadata": {},
   "outputs": [
    {
     "data": {
      "text/plain": [
       "0.0014066079135575398"
      ]
     },
     "execution_count": 45,
     "metadata": {},
     "output_type": "execute_result"
    }
   ],
   "source": [
    "# lowest s in prev part\n",
    "epsilon_func([0.03806023374435662, 0.10838637566236962, 0.16221167441072884, 0.1913417161825448, 0.19134171618254503, 0.1622116744107288, 0.10838637566236964, 0.03806023374435663]\n",
    ")"
   ]
  },
  {
   "cell_type": "code",
   "execution_count": 46,
   "id": "38ec76b4-b7f7-4a72-a846-219533fcce53",
   "metadata": {},
   "outputs": [
    {
     "name": "stdout",
     "output_type": "stream",
     "text": [
      "1.0000027602109112\n",
      "0.16756861524972588 0.05220507045032273 0.07463877874713161 0.23317511436527652 0.03698911601976052 0.21084885427364652 0.003238116310211331 0.22133909479483604\n"
     ]
    },
    {
     "data": {
      "text/plain": [
       "2.917167196286688e-09"
      ]
     },
     "execution_count": 46,
     "metadata": {},
     "output_type": "execute_result"
    }
   ],
   "source": [
    "# minimized values\n",
    "print(s1+s2+s3+s4+s5+s6+s7+s8)\n",
    "print(s1,s2,s3,s4,s5,s6,s7,s8)\n",
    "epsilon_func([s1,s2,s3,s4,s5,s6,s7,s8])\n"
   ]
  },
  {
   "cell_type": "code",
   "execution_count": 47,
   "id": "38bc7a25-49ff-421d-aea6-cb549dc36ffa",
   "metadata": {},
   "outputs": [
    {
     "name": "stdout",
     "output_type": "stream",
     "text": [
      "1.6026960554008968e-09\n",
      "1.303151245245274e-09\n"
     ]
    }
   ],
   "source": [
    "#lowest found\n",
    "print(epsilon_func([0.2352207313189638,0.24912740659407398,0.026743852621483974,0.23750863275233675,0.06523158186699833,1.5882458524719435e-06,0.012783438691303965,0.173386168165332]))\n",
    "print(epsilon_func([0.038832142871271964,0.10566971911225455,0.04091821414586422,0.1523694169142003,0.3692303858938831,3.852577102062163e-09,0.2422070517329396,0.05077481628188628]))\n"
   ]
  },
  {
   "cell_type": "markdown",
   "id": "c4e72471-ad22-4d49-9fe6-b6db442a704f",
   "metadata": {},
   "source": [
    "### When m = 10\n",
    "Fix T, $\\lambda\\$ and m = 10"
   ]
  },
  {
   "cell_type": "code",
   "execution_count": 49,
   "id": "7dd2933a-a165-46de-ab72-d03d3bc9db29",
   "metadata": {},
   "outputs": [],
   "source": [
    "# Defining the funtion epsilon\n",
    "def epsilon_func(s_values):\n",
    "    s1 = s_values[0]\n",
    "    s2 = s_values[1]\n",
    "    s3 = s_values[2]\n",
    "    s4 = s_values[3]\n",
    "    s5 = s_values[4]\n",
    "    s6 = s_values[5]\n",
    "    s7 = s_values[6]\n",
    "    s8 = s_values[7]\n",
    "    s9 = s_values[8]\n",
    "    s10 = s_values[9]\n",
    "    lambda_value = 0.1\n",
    "    T = 0.1\n",
    "    A = expm(-1j*(Z+lambda_value*X)*s1*T) @ expm(-1j*(Z-lambda_value*X)*s2*T) @ expm(-1j*(Z+lambda_value*X)*s3*T) @ expm(-1j*(Z-lambda_value*X)*s4*T) @expm(-1j*(Z+lambda_value*X)*s5*T) @ expm(-1j*(Z-lambda_value*X)*s6*T) @ expm(-1j*(Z+lambda_value*X)*s7*T) @ expm(-1j*(Z-lambda_value*X)*s8*T) @ expm(-1j*(Z+lambda_value*X)*s9*T) @ expm(-1j*(Z-lambda_value*X)*s10*T)\n",
    "    difference = A - expm(-1j*Z*T)\n",
    "    eigenvalues = svd(difference, compute_uv = False)\n",
    "    epsilon = np.max(eigenvalues)\n",
    "    return epsilon   "
   ]
  },
  {
   "cell_type": "code",
   "execution_count": 50,
   "id": "a3b7d046-f99f-46f1-a442-a821bae475fb",
   "metadata": {},
   "outputs": [
    {
     "name": "stdout",
     "output_type": "stream",
     "text": [
      "RUNNING THE L-BFGS-B CODE\n",
      "\n",
      "           * * *\n",
      "\n",
      "Machine precision = 2.220D-16\n",
      " N =           10     M =           10\n",
      "\n",
      "At X0         0 variables are exactly at the bounds\n",
      "\n",
      "At iterate    0    f=  5.07106D-01    |proj g|=  9.68537D-02\n",
      "\n",
      "At iterate    1    f=  4.13001D-01    |proj g|=  9.79911D-02\n",
      "  ys=-1.072E-03  -gs= 9.355E-02 BFGS update SKIPPED\n",
      "\n",
      "At iterate    2    f=  3.27846D-01    |proj g|=  9.88364D-02\n",
      "  ys=-6.860E-04  -gs= 8.480E-02 BFGS update SKIPPED\n",
      "\n",
      "At iterate    3    f=  2.05287D-01    |proj g|=  9.97507D-02\n",
      "  ys=-9.791E-04  -gs= 1.220E-01 BFGS update SKIPPED\n",
      "\n",
      "At iterate    4    f=  1.35933D-01    |proj g|=  1.00107D-01\n",
      "  ys=-1.912E-04  -gs= 6.925E-02 BFGS update SKIPPED\n",
      "\n",
      "At iterate    5    f=  7.18703D-02    |proj g|=  1.00353D-01\n",
      "  ys=-7.928E-05  -gs= 6.401E-02 BFGS update SKIPPED\n",
      "\n",
      "At iterate    6    f=  7.72123D-03    |proj g|=  9.89260D-02\n",
      "\n",
      "At iterate    7    f=  2.00010D-03    |proj g|=  2.69767D-02\n",
      "\n",
      "At iterate    8    f=  1.94944D-03    |proj g|=  2.38534D-02\n",
      "\n",
      "At iterate    9    f=  1.91697D-03    |proj g|=  1.57754D-02\n",
      "\n",
      "At iterate   10    f=  1.80824D-03    |proj g|=  2.19953D-02\n",
      "\n",
      "At iterate   11    f=  1.57314D-03    |proj g|=  4.99743D-02\n",
      "\n",
      "At iterate   12    f=  1.15063D-03    |proj g|=  8.80587D-02\n",
      "  Positive dir derivative in projection \n",
      "  Using the backtracking step \n",
      "\n",
      "At iterate   13    f=  8.24205D-04    |proj g|=  6.81898D-02\n",
      "\n",
      "At iterate   14    f=  6.60329D-04    |proj g|=  1.19377D-02\n",
      "\n",
      "At iterate   15    f=  4.44938D-04    |proj g|=  3.84334D-02\n",
      "\n",
      "At iterate   16    f=  1.71923D-04    |proj g|=  1.18644D-02\n",
      "\n",
      "At iterate   17    f=  1.70122D-04    |proj g|=  1.08609D-03\n",
      "\n",
      "At iterate   18    f=  1.69856D-04    |proj g|=  1.85685D-03\n",
      "\n",
      "At iterate   19    f=  1.68276D-04    |proj g|=  2.39043D-03\n",
      "\n",
      "At iterate   20    f=  1.52935D-04    |proj g|=  6.84589D-03\n",
      "\n",
      "At iterate   21    f=  1.29364D-04    |proj g|=  1.15879D-02\n",
      "\n",
      "At iterate   22    f=  8.78342D-05    |proj g|=  1.71267D-02\n",
      "\n",
      "At iterate   23    f=  3.73105D-05    |proj g|=  1.28006D-02\n",
      "\n",
      "At iterate   24    f=  2.19649D-05    |proj g|=  1.31251D-02\n",
      "\n",
      "At iterate   25    f=  7.43885D-06    |proj g|=  1.73697D-02\n"
     ]
    },
    {
     "name": "stderr",
     "output_type": "stream",
     "text": [
      "\n",
      " Nonpositive definiteness in Cholesky factorization in formk;\n",
      "   refresh the lbfgs memory and restart the iteration.\n"
     ]
    },
    {
     "name": "stdout",
     "output_type": "stream",
     "text": [
      "\n",
      "At iterate   26    f=  3.77759D-06    |proj g|=  5.55220D-03\n",
      "\n",
      "At iterate   27    f=  2.02637D-06    |proj g|=  3.52816D-02\n",
      "\n",
      "At iterate   28    f=  1.65611D-06    |proj g|=  2.70975D-02\n",
      "\n",
      "At iterate   29    f=  8.84784D-07    |proj g|=  1.84621D-02\n",
      "\n",
      "At iterate   30    f=  4.63421D-07    |proj g|=  3.49414D-02\n",
      "\n",
      "At iterate   31    f=  2.41705D-07    |proj g|=  4.88280D-03\n",
      "\n",
      "At iterate   32    f=  1.37579D-07    |proj g|=  3.25500D-02\n",
      "\n",
      "At iterate   33    f=  1.05551D-07    |proj g|=  6.23000D-02\n",
      "\n",
      "At iterate   34    f=  6.05537D-08    |proj g|=  3.17116D-02\n",
      "\n",
      "At iterate   35    f=  3.03068D-08    |proj g|=  2.13738D-02\n",
      "\n",
      "At iterate   36    f=  1.63822D-08    |proj g|=  5.13439D-02\n",
      "\n",
      "At iterate   37    f=  9.90156D-09    |proj g|=  1.55200D-02\n",
      "\n",
      "At iterate   38    f=  6.84333D-09    |proj g|=  5.03420D-02\n",
      "\n",
      "At iterate   39    f=  4.09349D-09    |proj g|=  1.61450D-02\n",
      "s1 = \n",
      "At iterate   40    f=  2.29660D-09    |proj g|=  5.14753D-02\n",
      "\n",
      "           * * *\n",
      "\n",
      "Tit   = total number of iterations\n",
      "Tnf   = total number of function evaluations\n",
      "Tnint = total number of segments explored during Cauchy searches\n",
      "Skip  = number of BFGS updates skipped\n",
      "Nact  = number of active bounds at final generalized Cauchy point\n",
      "Projg = norm of the final projected gradient\n",
      "F     = final function value\n",
      "\n",
      "           * * *\n",
      "\n",
      "   N    Tit     Tnf  Tnint  Skip  Nact     Projg        F\n",
      "   10     40     69     52     5     0   5.148D-02   2.297D-09\n",
      "  F =   2.2966013073782882E-009\n",
      "\n",
      "CONVERGENCE: REL_REDUCTION_OF_F_<=_FACTR*EPSMCH             \n",
      " 0.11620797888537242  s2 =  0.18410504305525574  s3 =  0.025346653862649244  s4 =  0.0027507119157036677  s5 =  0.025346063662283043  s6 =  0.1594775783233939  s7 =  0.030475674209233833  s8 =  0.000700266157703089  s9 =  0.30255647064072255  s10 =  0.15303505177518742\n"
     ]
    }
   ],
   "source": [
    "# Starting guess\n",
    "s_values_start = [np.random.random(), np.random.random(), np.random.random(), np.random.random(),np.random.random(), np.random.random(), np.random.random(), np.random.random(), np.random.random(), np.random.random()]\n",
    "\n",
    "# Constraints -> s1 + s2 + s3 + s4 + s5 + s6 + s7 + s8 + s9 + s10 = 1 \n",
    "const = ({'type':'eq',\n",
    "          'fun' : lambda s_values : (s_values[0] + s_values[1] + s_values[2] + s_values[3] + s_values[4] + s_values[5] + \n",
    "                                     s_values[6] + s_values[7] + s_values[9] + s_values[9]- 1)})\n",
    "# Bounds\n",
    "bounds = ((0.0,1.0),(0.0,1.0),(0.0,1.0),(0.0,1.0),(0.0,1.0),(0.0,1.0),(0.0,1.0),(0.0,1.0),(0.0,1.0),(0.0,1.0))\n",
    "\n",
    "# optimizing\n",
    "result =  spo.minimize(epsilon_func, s_values_start, method='L-BFGS-B',options={\"disp\":True}, constraints = const, bounds = bounds)\n",
    "\n",
    "# print result\n",
    "s_values = result.x\n",
    "s1 = s_values[0]\n",
    "s2 = s_values[1]\n",
    "s3 = s_values[2]\n",
    "s4 = s_values[3]\n",
    "s5 = s_values[4]\n",
    "s6 = s_values[5]\n",
    "s7 = s_values[6]\n",
    "s8 = s_values[7]\n",
    "s9 = s_values[8]\n",
    "s10 = s_values[9]\n",
    "print(\"s1 = \", s1, \" s2 = \", s2, \" s3 = \", s3, \" s4 = \", s4,\" s5 = \", s5, \" s6 = \", s6, \" s7 = \", s7, \" s8 = \", s8,\" s9 = \", s9, \" s10 = \", s10)"
   ]
  },
  {
   "cell_type": "code",
   "execution_count": 51,
   "id": "60b750cf-7793-4ed2-8dfb-b4c965e93711",
   "metadata": {},
   "outputs": [
    {
     "data": {
      "text/plain": [
       "2.811032373227265e-08"
      ]
     },
     "execution_count": 51,
     "metadata": {},
     "output_type": "execute_result"
    }
   ],
   "source": [
    "# lowest s in prev part\n",
    "epsilon_func([0.024471741852423214, 0.07101976096010307, 0.11061587104123718, 0.13938412895876282, 0.15450849718747361, 0.15450849718747384, 0.13938412895876295, 0.11061587104123694, 0.0710197609601032, 0.02447174185242318])"
   ]
  },
  {
   "cell_type": "code",
   "execution_count": 52,
   "id": "dfa5abd3-b8e7-4a5f-8492-0e600886d32c",
   "metadata": {},
   "outputs": [
    {
     "name": "stdout",
     "output_type": "stream",
     "text": [
      "1.000001492487505\n",
      "0.11620797888537242 0.18410504305525574 0.025346653862649244 0.0027507119157036677 0.025346063662283043 0.1594775783233939 0.030475674209233833 0.000700266157703089 0.30255647064072255 0.15303505177518742\n"
     ]
    },
    {
     "data": {
      "text/plain": [
       "2.2966013073782882e-09"
      ]
     },
     "execution_count": 52,
     "metadata": {},
     "output_type": "execute_result"
    }
   ],
   "source": [
    "# minimized values\n",
    "print(s1+s2+s3+s4+s5+s6+s7+s8+s9+s10)\n",
    "print(s1,s2,s3,s4,s5,s6,s7,s8,s9,s10)\n",
    "epsilon_func([s1,s2,s3,s4,s5,s6,s7,s8,s9,s10])\n"
   ]
  },
  {
   "cell_type": "code",
   "execution_count": 53,
   "id": "6c6e28cb-736a-4ede-ac1c-4f9c4f4332b9",
   "metadata": {},
   "outputs": [
    {
     "name": "stdout",
     "output_type": "stream",
     "text": [
      "1.0000003993199922\n",
      "2.6648916945411316e-09\n",
      "1.5548200284543092e-09\n",
      "6.195767679163424e-10\n"
     ]
    }
   ],
   "source": [
    "#lowest found\n",
    "\n",
    "s1 =  0.05364872685533633  \n",
    "s2 =  0.14721064956475943  \n",
    "s3 =  0.10233004848784125  \n",
    "s4 =  0.09337909913391204  \n",
    "s5 =  0.13074073761091892  \n",
    "s6 =  0.0986948049530884  \n",
    "s7 =  0.11486611070913687  \n",
    "s8 =  0.06256525581307926  \n",
    "s9 =  0.09828268275595599  \n",
    "s10 =  0.0982822834359638\n",
    "\n",
    "print(s1+s2+s3+s4+s5+s6+s7+s8+s9+s10)\n",
    "print(epsilon_func([s1,s2,s3,s4,s5,s6,s7,s8,s9,s10]))\n",
    "\n",
    "print(epsilon_func([1.3832143212538895e-05,0.020171240809496914,0.1442138957198114,0.03857411216316778,0.08901720196922741,0.3702780729681437,0.23488945296172076,0.0706718608067379,0.03217222452389344, 3.2959598175463414e-10]))\n",
    "print(epsilon_func([1.1248132237043405e-06,0.04512320843842305,0.024593384013038292,0.04527834728491069,0.2332676617591886,0.3199456675667349,0.16622576804101777,0.04481066813168081,0.07601596691112808,0.04473936994512728]))\n",
    "\n",
    "#8.06804355409631e-10\n",
    "#epsilon_func([0.2351430703273727,0.3154665641681026,-0.1666701178852503,0.0380625427310032,0.03931095646774125,0.07261701465054925,0.412494548256661,0.18287678730659268 ,-0.0199685790907167,-0.1093275489862226])"
   ]
  },
  {
   "cell_type": "code",
   "execution_count": null,
   "id": "f3a63b4a-1a54-4856-8a49-f6b49df4df93",
   "metadata": {},
   "outputs": [],
   "source": []
  }
 ],
 "metadata": {
  "kernelspec": {
   "display_name": "Python 3 (ipykernel)",
   "language": "python",
   "name": "python3"
  },
  "language_info": {
   "codemirror_mode": {
    "name": "ipython",
    "version": 3
   },
   "file_extension": ".py",
   "mimetype": "text/x-python",
   "name": "python",
   "nbconvert_exporter": "python",
   "pygments_lexer": "ipython3",
   "version": "3.11.7"
  }
 },
 "nbformat": 4,
 "nbformat_minor": 5
}
