{
 "cells": [
  {
   "cell_type": "markdown",
   "id": "73d2a7c0-7029-421d-a11a-8535909b58dd",
   "metadata": {},
   "source": [
    "# Dynamical Decoupling (DD) Simulation\n",
    "## Specific case: m=2 and t1=t2=t\n",
    "Ideal system:  **$e^{-iZt}$** \\\n",
    "Noisy system: **$e^{-i(Z+\\lambda{X})t}$**\n",
    "#### Want to prove: \n",
    "**$e^{-i(Z+\\lambda{X})t}Ze^{-i(Z+\\lambda{X})t}Z \\approx e^{-2iZt}$** "
   ]
  },
  {
   "cell_type": "markdown",
   "id": "e7ee53e4-a449-4aa9-96af-b1e62b8e1bde",
   "metadata": {},
   "source": [
    "### Libraries and Pauli Matrices "
   ]
  },
  {
   "cell_type": "code",
   "execution_count": 1,
   "id": "61559f1e-f7f4-4e2d-ba57-f2f1aa92000d",
   "metadata": {},
   "outputs": [],
   "source": [
    "import numpy as np\n",
    "import scipy\n",
    "import math\n",
    "from scipy.linalg import expm, svd\n",
    "import matplotlib.pyplot as plt\n",
    "import scipy.optimize as spo"
   ]
  },
  {
   "cell_type": "code",
   "execution_count": 2,
   "id": "de9f6d65-ebc3-40e5-be24-c76939e5350c",
   "metadata": {},
   "outputs": [],
   "source": [
    "X, Z, I = np.matrix([[0, 1],[1, 0]]), np.matrix([[1, 0],[0, -1]]), np.matrix([[1, 0],[0, 1]])"
   ]
  },
  {
   "cell_type": "markdown",
   "id": "128d9900-ab39-4ebe-b6ae-13278d6fff6b",
   "metadata": {},
   "source": [
    "### Simulation code"
   ]
  },
  {
   "cell_type": "code",
   "execution_count": 3,
   "id": "d040cba3-5d80-4806-92a0-d6f26ef5ddc6",
   "metadata": {},
   "outputs": [
    {
     "name": "stdout",
     "output_type": "stream",
     "text": [
      "error at t1 = t2 = 0.05 is 0.0004995820845830152\n"
     ]
    }
   ],
   "source": [
    "# creating the variables\n",
    "time = []\n",
    "epsilon = []\n",
    "\n",
    "# set the value of lambda\n",
    "lambda_value = 0.1\n",
    "\n",
    "# simulating the equation for every 0.01s for 1s.\n",
    "for t in np.linspace(0.0,1.0,num=101):\n",
    "    A = expm(-1j*(Z+lambda_value*X)*t)*Z*expm(-1j*(Z+lambda_value*X)*t)*Z\n",
    "    B = expm(-2j*Z*t)\n",
    "    # calculate the difference between the ideal and noisy system\n",
    "    difference = A - B\n",
    "    # get the maximum eigen value of the difference matrix\n",
    "    eigenvalues,_ = svd(difference, compute_uv = False)\n",
    "    max_eigenvalue = np.max(eigenvalues)\n",
    "    # add the maximum eigen value to the array epsilon\n",
    "    epsilon.append(max_eigenvalue)\n",
    "    time.append(t) \n",
    "    \n",
    "print(\"error at t1 = t2 = \" + str(time[5]) + \" is \" + str(epsilon[5]))"
   ]
  },
  {
   "cell_type": "markdown",
   "id": "d6e3ea1d-aeff-4b42-9eb5-255393cadd48",
   "metadata": {},
   "source": [
    "### Graph t vs $\\epsilon$"
   ]
  },
  {
   "cell_type": "code",
   "execution_count": 4,
   "id": "f141df2e-d60c-4971-837b-1f9f0cabe2f9",
   "metadata": {},
   "outputs": [
    {
     "data": {
      "image/png": "[encoded data removed]",
      "text/plain": [
       "<Figure size 640x480 with 1 Axes>"
      ]
     },
     "metadata": {},
     "output_type": "display_data"
    }
   ],
   "source": [
    "# graph the changes in epsilon respect to the time\n",
    "plt.plot(time, epsilon, label = \"Epsilon\")\n",
    "\n",
    "plt.xlabel('Time')\n",
    "plt.ylabel('$\\epsilon$')\n",
    "plt.legend()\n",
    "\n",
    "plt.savefig('first_simulation.png')\n",
    "plt.show()\n"
   ]
  },
  {
   "cell_type": "markdown",
   "id": "a042471d-873d-47a0-98e9-2d37bd2ad6fe",
   "metadata": {},
   "source": [
    "## General case\n",
    "The generalization of the previous case is the following:\\\n",
    "Ideal system: **$e^{-iZs_1T}e^{-iZs_2T}e^{-iZs_3T}...e^{-iZs_mT}$** \\\n",
    "Noisy system: **$e^{-i(Z+\\lambda{X})s_1T}e^{-i(Z+\\lambda{X})s_2T}e^{-i(Z+\\lambda{X})s_3T}...e^{-i(Z+\\lambda{X})s_mT}$**\n",
    "##### Error function:\n",
    "**$\\epsilon=||(e^{-i(Z+\\lambda{X})s_1T}Ze^{-i(Z+\\lambda{X})s_2T}Ze^{-i(Z+\\lambda{X})s_3T}Ze^{-i(Z+\\lambda{X})s_4T}Z...Ze^{-i(Z+\\lambda{X})s_mT}Z) - e^{-iZT}||$**\n",
    "### Simulation\n"
   ]
  },
  {
   "cell_type": "code",
   "execution_count": 5,
   "id": "814a80f5-453b-4db9-8303-2a8156c0a594",
   "metadata": {},
   "outputs": [],
   "source": [
    "def error_calculation(lambda_value, m, T, areEqual, s_values):\n",
    "    prev_A = I\n",
    "    \n",
    "    # Case 1: Periodic DD when s1 = s2 = ... = sm \n",
    "    if (areEqual == True):\n",
    "        for i in np.linspace(1,m,num=m):\n",
    "            # even numbers\n",
    "            if (i%2 == 0): \n",
    "                A = np.dot(prev_A, expm(-1j*(Z-lambda_value*X)*T/m)) \n",
    "                #prev_A * expm(-1j*(Z-lambda_value*X)*T/m)\n",
    "            # odd numbers\n",
    "            else:\n",
    "                A = np.dot(prev_A, expm(-1j*(Z+lambda_value*X)*T/m))\n",
    "                #prev_A * expm(-1j*(Z+lambda_value*X)*T/m)\n",
    "            # updating the matrix A\n",
    "            prev_A = A\n",
    "    \n",
    "    # Case 2: Concatenated DD or Uhrig DD when s has a different values       \n",
    "    else:\n",
    "        i = 1\n",
    "        # simulating the equation \n",
    "        for s in s_values:\n",
    "            # even numbers\n",
    "            if (i%2 == 0):\n",
    "                A = np.dot(prev_A, expm(-1j*(Z-lambda_value*X)*s*T))\n",
    "                # prev_A * expm(-1j*(Z-lambda_value*X)*s*T)   \n",
    "            # odd numbers\n",
    "            else:\n",
    "                A = np.dot(prev_A, expm(-1j*(Z+lambda_value*X)*s*T))\n",
    "                # prev_A * expm(-1j*(Z+lambda_value*X)*s*T)\n",
    "            # updating variables\n",
    "            #print(A)\n",
    "            prev_A = A \n",
    "            i+=1 \n",
    "            \n",
    "    B = expm(-1j*Z*T) \n",
    "    # calculate the difference between the ideal and noisy system\n",
    "    difference = A - B\n",
    "    # get the maximum eigen value of the difference matrix\n",
    "    eigenvalues = svd(difference, compute_uv = False)\n",
    "    max_eigenvalue = np.max(eigenvalues)\n",
    "    #print(\"The error is \", max_eigenvalue)\n",
    "    return max_eigenvalue\n",
    "\n",
    "def UDD_calculate_s_values(m):\n",
    "    s_values = []\n",
    "    prev_t = 0\n",
    "    for j in range(1, m+1):\n",
    "        t = np.power(np.sin(j*np.pi/(2*m)), 2)\n",
    "        s_values.append(t-prev_t)\n",
    "        prev_t = t\n",
    "    return s_values        \n"
   ]
  },
  {
   "cell_type": "code",
   "execution_count": 6,
   "id": "3334b562-9402-4ec6-8b92-4adb123a00f4",
   "metadata": {},
   "outputs": [
    {
     "name": "stdout",
     "output_type": "stream",
     "text": [
      "Case 1 (PDD) Even ##########################\n",
      "For m = 2 the error is 0.0004995820845830152\n",
      "For m = 4 the error is 0.000249635378216025\n",
      "For m = 6 the error is 0.00016640438462290198\n",
      "For m = 8 the error is 0.00012479824917967564\n",
      "For m = 10 the error is 9.983673349921259e-05\n",
      "\n",
      "Case 2 (CDD) ##########################\n",
      "For m = 2 the error is 0.0004995820845830152\n",
      "For m = 3 the error is 1.2499098133246424e-05\n",
      "For m = 6 the error is 1.8775597711948834e-07\n",
      "For m = 11 the error is 2.6064627389811953e-08\n",
      "\n",
      "Case 3 (UDD) ##########################\n",
      "For m = 2 the error is 0.0004995820845830133\n",
      "For m = 3 the error is 1.249909813324385e-05\n",
      "For m = 4 the error is 2.903186326102563e-07\n",
      "For m = 6 the error is 8.175186759985752e-08\n",
      "[0.06698729810778066, 0.1830127018922193, 0.24999999999999994, 0.25, 0.18301270189221952, 0.06698729810778059]\n",
      "For m = 10 the error is 2.8110323699019795e-08\n",
      "[0.024471741852423214, 0.07101976096010307, 0.11061587104123713, 0.13938412895876287, 0.15450849718747361, 0.15450849718747384, 0.13938412895876273, 0.11061587104123716, 0.0710197609601032, 0.02447174185242318]\n"
     ]
    }
   ],
   "source": [
    "# creating the variables\n",
    "m_value_c1 = []\n",
    "m_value_c2 = [2,3,6,11]\n",
    "m_value_c3 = [2,3,4,6,10]\n",
    "error_c1 = []\n",
    "error_c2 = []\n",
    "error_c3 = []\n",
    "\n",
    "# set the value of lambda and T\n",
    "lambda_value = 0.1\n",
    "T = 0.1\n",
    "\n",
    "print(\"Case 1 (PDD) Even ##########################\")\n",
    "for m in range(2,11,2):\n",
    "    error_c1.append(error_calculation(lambda_value, m, T, True, []))\n",
    "    m_value_c1.append(m)\n",
    "    print(\"For m = \" + str(m) + \" the error is \" + str(error_calculation(lambda_value, m, T, True, [])))\n",
    "\n",
    "print(\"\\nCase 2 (CDD) ##########################\")\n",
    "error_c2.append(error_calculation(lambda_value, 2, T, False, [1/2,1/2]))\n",
    "print(\"For m = 2 the error is \" + str(error_c2[0]))\n",
    "\n",
    "error_c2.append(error_calculation(lambda_value, 3, T, False, [1/4,1/2,1/4]))\n",
    "print(\"For m = 3 the error is \" + str(error_c2[1]))\n",
    "\n",
    "error_c2.append(error_calculation(lambda_value, 6, T, False, [1/8,1/4,1/8,1/8,1/4,1/8]))\n",
    "print(\"For m = 6 the error is \" + str(error_c2[2]))\n",
    "\n",
    "error_c2.append(error_calculation(lambda_value, 11, T, False, [1/16,1/8,1/16,1/16,1/8,1/8,1/8,1/16,1/16,1/8,1/16]))\n",
    "print(\"For m = 11 the error is \" + str(error_c2[3]))\n",
    "\n",
    "\n",
    "print(\"\\nCase 3 (UDD) ##########################\")\n",
    "error_c3.append(error_calculation(lambda_value, 2, T, False, UDD_calculate_s_values(2)))\n",
    "print(\"For m = 2 the error is \" + str(error_c3[0]))\n",
    "\n",
    "error_c3.append(error_calculation(lambda_value, 3, T, False, UDD_calculate_s_values(3)))\n",
    "print(\"For m = 3 the error is \" + str(error_c3[1]))\n",
    "\n",
    "error_c3.append(error_calculation(lambda_value, 4, T, False, UDD_calculate_s_values(4)))\n",
    "print(\"For m = 4 the error is \" + str(error_c3[2]))\n",
    "\n",
    "error_c3.append(error_calculation(lambda_value, 6, T, False, UDD_calculate_s_values(6)))\n",
    "print(\"For m = 6 the error is \" + str(error_c3[3]))\n",
    "print(UDD_calculate_s_values(6))\n",
    "\n",
    "error_c3.append(error_calculation(lambda_value, 10, T, False, UDD_calculate_s_values(10)))\n",
    "print(\"For m = 10 the error is \" + str(error_c3[4]))\n",
    "print(UDD_calculate_s_values(10))\n"
   ]
  },
  {
   "cell_type": "code",
   "execution_count": 7,
   "id": "7e749dae-d1ee-4de2-b052-70555f4fdcd2",
   "metadata": {},
   "outputs": [],
   "source": [
    "# values found below\n",
    "\n",
    "m_values_optimized = [2,3,4]\n",
    "error_optimized = [0.0004995820845829024, 4.16299704372454e-07, 2.022947457958505e-07]"
   ]
  },
  {
   "cell_type": "markdown",
   "id": "d4bbc585-1b7d-4596-a328-92882fa08c7b",
   "metadata": {},
   "source": [
    "### Graph t vs $\\epsilon$"
   ]
  },
  {
   "cell_type": "code",
   "execution_count": 8,
   "id": "431d643f-81ba-4eef-9a67-5da44cacdbc6",
   "metadata": {},
   "outputs": [
    {
     "data": {
      "image/png": "[encoded data removed]",
      "text/plain": [
       "<Figure size 640x480 with 1 Axes>"
      ]
     },
     "metadata": {},
     "output_type": "display_data"
    }
   ],
   "source": [
    "# graph the changes of the error for different values of m\n",
    "\n",
    "plt.plot(m_value_c1, error_c1, color='navy', marker='o', label = \"PDD\")\n",
    "plt.plot(m_value_c2, error_c2, color='blueviolet', marker='o', label = \"CDD\")\n",
    "plt.plot(m_value_c3, error_c3, color='crimson', marker='o', label = \"UDD\")\n",
    "plt.plot(m_values_optimized, error_optimized, marker='o', label = \"minimization results\")\n",
    "\n",
    "\n",
    "plt.title('$\\epsilon$ vs m')\n",
    "plt.xlabel('m')\n",
    "plt.ylabel('$\\epsilon$')\n",
    "plt.yscale(\"log\")\n",
    "\n",
    "plt.legend()\n",
    "plt.grid()\n",
    "\n",
    "plt.savefig('general_simulation.png')\n",
    "plt.show()\n"
   ]
  },
  {
   "cell_type": "markdown",
   "id": "b16dd4ff-8583-4d36-9178-70ebb7067d46",
   "metadata": {},
   "source": [
    "## Minimize the $\\epsilon$ function for a fixed T and m"
   ]
  },
  {
   "cell_type": "markdown",
   "id": "bd755c3b-dc82-49b0-9c24-0b87d8995cb3",
   "metadata": {},
   "source": [
    "### When m = 2"
   ]
  },
  {
   "cell_type": "markdown",
   "id": "6bf8733e-b207-4fc5-bacd-167b628b54d1",
   "metadata": {},
   "source": [
    "Fix T, $\\lambda\\$ and m = 2"
   ]
  },
  {
   "cell_type": "code",
   "execution_count": 9,
   "id": "dbfce62f-a968-4bc5-b88b-1fbef62a91b6",
   "metadata": {},
   "outputs": [],
   "source": [
    "# Defining the funtion epsilon\n",
    "def epsilon_func(s_values):\n",
    "    s1 = s_values[0]\n",
    "    s2 = s_values[1]\n",
    "    lambda_value = 0.1\n",
    "    T = 0.1\n",
    "    A = np.dot(expm(-1j*(Z+lambda_value*X)*s1*T), expm(-1j*(Z-lambda_value*X)*s2*T))\n",
    "    difference = A - expm(-1j*Z*T)\n",
    "    eigenvalues = svd(difference, compute_uv = False)\n",
    "    epsilon = np.max(eigenvalues)\n",
    "    return epsilon    "
   ]
  },
  {
   "cell_type": "code",
   "execution_count": 10,
   "id": "d457df4b-e6c8-483b-99e5-2a9b16ce2a95",
   "metadata": {},
   "outputs": [
    {
     "name": "stdout",
     "output_type": "stream",
     "text": [
      "`gtol` termination condition is satisfied.\n",
      "Number of iterations: 1, function evaluations: 3, CG iterations: 0, optimality: 1.98e-17, constraint violation: 0.00e+00, execution time: 0.0011 s.\n",
      "s1 = 0.5 s2 = 0.5\n"
     ]
    }
   ],
   "source": [
    "# Starting guess\n",
    "s_values_start = [0.5,0.5]\n",
    "\n",
    "# Constraints -> s1 + s2 = 1 \n",
    "const = ({'type':'eq',\n",
    "          'fun' : lambda s_values : (s_values[0] + s_values[1] - 1)})\n",
    "# Bounds\n",
    "bounds = ((0.0,1.0),(0.0,1.0))\n",
    "\n",
    "# optimizing\n",
    "result =  spo.minimize(epsilon_func, s_values_start, method='trust-constr', options={\"disp\":True}, constraints = const, bounds = bounds)\n",
    "\n",
    "# print result\n",
    "s_values = result.x\n",
    "s1 = s_values[0]\n",
    "s2 = s_values[1]\n",
    "print(\"s1 = \" + str(s1) + \" s2 = \" + str(s2))"
   ]
  },
  {
   "cell_type": "code",
   "execution_count": 11,
   "id": "12066f72-f530-4fdf-86ac-7e65e5a6887a",
   "metadata": {},
   "outputs": [
    {
     "data": {
      "text/plain": [
       "0.0004995820845830152"
      ]
     },
     "execution_count": 11,
     "metadata": {},
     "output_type": "execute_result"
    }
   ],
   "source": [
    "# lowest value found above - lowest so Far\n",
    "epsilon_func([0.5, 0.5])"
   ]
  },
  {
   "cell_type": "code",
   "execution_count": 12,
   "id": "7d209ec5-5c25-4826-be36-aede3cf1ef1f",
   "metadata": {},
   "outputs": [
    {
     "data": {
      "text/plain": [
       "0.0004995820845830152"
      ]
     },
     "execution_count": 12,
     "metadata": {},
     "output_type": "execute_result"
    }
   ],
   "source": [
    "# minimized value\n",
    "epsilon_func([s1,s2])"
   ]
  },
  {
   "cell_type": "markdown",
   "id": "5c33786f-8ca2-408d-9505-bc165fafcdb1",
   "metadata": {},
   "source": [
    "### When m = 3\n",
    "Fix T, $\\lambda\\$ and m = 3"
   ]
  },
  {
   "cell_type": "code",
   "execution_count": 13,
   "id": "159d5bb4-f422-4e57-a66c-0cd433c54038",
   "metadata": {},
   "outputs": [],
   "source": [
    "# Defining the funtion epsilon\n",
    "def epsilon_func(s_values):\n",
    "    s1 = s_values[0]\n",
    "    s2 = s_values[1]\n",
    "    s3 = s_values[2]\n",
    "    lambda_value = 0.1\n",
    "    T = 0.1\n",
    "    A = np.dot(expm(-1j*(Z+lambda_value*X)*s1*T), expm(-1j*(Z-lambda_value*X)*s2*T))\n",
    "    B = np.dot(A, expm(-1j*(Z+lambda_value*X)*s3*T))\n",
    "    difference = B - expm(-1j*Z*T)\n",
    "    eigenvalues = svd(difference, compute_uv = False)\n",
    "    epsilon = np.max(eigenvalues)\n",
    "    return epsilon   "
   ]
  },
  {
   "cell_type": "code",
   "execution_count": 14,
   "id": "e21f43e1-5087-49d2-a133-9f160bc1f52e",
   "metadata": {},
   "outputs": [
    {
     "name": "stderr",
     "output_type": "stream",
     "text": [
      "/usr/lib/python3/dist-packages/scipy/optimize/_hessian_update_strategy.py:182: UserWarning: delta_grad == 0.0. Check if the approximated function is linear. If the function is linear better results can be obtained by defining the Hessian as zero instead of using quasi-Newton approximations.\n",
      "  warn('delta_grad == 0.0. Check if the approximated '\n"
     ]
    },
    {
     "name": "stdout",
     "output_type": "stream",
     "text": [
      "The maximum number of function evaluations is exceeded.\n",
      "Number of iterations: 1000, function evaluations: 3988, CG iterations: 998, optimality: 1.09e-03, constraint violation: 2.22e-16, execution time:  3.5 s.\n",
      "s1 =  0.3339069391822773  s2 =  0.4334402514673183  s3 =  0.23265280935040447\n"
     ]
    }
   ],
   "source": [
    "# Starting guess\n",
    "s_values_start = [np.random.random(),np.random.random(), np.random.random()]\n",
    "\n",
    "# Constraints -> s1 + s2 + s3 = 1 \n",
    "const = ({'type':'eq',\n",
    "          'fun' : lambda s_values : (s_values[0] + s_values[1] + s_values[2] - 1)})\n",
    "# Bounds\n",
    "bounds = ((0.0,1.0),(0.0,1.0),(0.0,1.0))\n",
    "\n",
    "# optimizing\n",
    "result =  spo.minimize(epsilon_func, s_values_start, method='trust-constr', options={\"disp\":True}, constraints = const, bounds = bounds)\n",
    "\n",
    "# print result\n",
    "s_values = result.x\n",
    "s1 = s_values[0]\n",
    "s2 = s_values[1]\n",
    "s3 = s_values[2]\n",
    "print(\"s1 = \", s1, \" s2 = \", s2, \" s3 = \", s3)"
   ]
  },
  {
   "cell_type": "code",
   "execution_count": 15,
   "id": "0f251f03-8314-4db7-abdc-8be206ffcdd9",
   "metadata": {},
   "outputs": [
    {
     "data": {
      "text/plain": [
       "1.2499098133246424e-05"
      ]
     },
     "execution_count": 15,
     "metadata": {},
     "output_type": "execute_result"
    }
   ],
   "source": [
    "# lowest value found above\n",
    "epsilon_func([1/4,1/2,1/4])"
   ]
  },
  {
   "cell_type": "code",
   "execution_count": 16,
   "id": "81cfe310-b5f1-42b8-ba0a-07329491c8af",
   "metadata": {},
   "outputs": [
    {
     "name": "stdout",
     "output_type": "stream",
     "text": [
      "1.0000000000000002\n"
     ]
    },
    {
     "data": {
      "text/plain": [
       "0.0013206132587571227"
      ]
     },
     "execution_count": 16,
     "metadata": {},
     "output_type": "execute_result"
    }
   ],
   "source": [
    "# minimized value\n",
    "print(s1+s2+s3)\n",
    "epsilon_func([s1,s2,s3])\n"
   ]
  },
  {
   "cell_type": "code",
   "execution_count": 17,
   "id": "b935014b-3d51-44cb-a3d2-e78897f88a43",
   "metadata": {},
   "outputs": [
    {
     "name": "stdout",
     "output_type": "stream",
     "text": [
      "4.162997043890197e-07\n",
      "1.0\n"
     ]
    },
    {
     "data": {
      "text/plain": [
       "4.165208333667796e-07"
      ]
     },
     "execution_count": 17,
     "metadata": {},
     "output_type": "execute_result"
    }
   ],
   "source": [
    "# lowest found\n",
    "\n",
    "#s1 =  0.25031269456576893  s2 =  0.49937461113734705  s3 =  0.2503126942968841\n",
    "#4.16299704372454e-07\n",
    "print(epsilon_func([0.25031269456576893,0.49937461113734705,0.2503126942968841]))\n",
    "\n",
    "s1 =  0.2503130334449466  \n",
    "s2 =  0.49937393184986445  \n",
    "s3 =  0.250313034705189\n",
    "print(s1+s2+s3)\n",
    "epsilon_func([s1,s2,s3])"
   ]
  },
  {
   "cell_type": "markdown",
   "id": "9cd68bdd-ab57-45c4-9af5-3e6562bb37bc",
   "metadata": {},
   "source": [
    "### When m = 4\n",
    "Fix T, $\\lambda\\$ and m = 4"
   ]
  },
  {
   "cell_type": "code",
   "execution_count": 18,
   "id": "99696099-cfce-4ef1-b68f-73b1295dbbbd",
   "metadata": {},
   "outputs": [],
   "source": [
    "# Defining the funtion epsilon\n",
    "def epsilon_func(s_values):\n",
    "    s1 = s_values[0]\n",
    "    s2 = s_values[1]\n",
    "    s3 = s_values[2]\n",
    "    s4 = s_values[3]\n",
    "    lambda_value = 0.1\n",
    "    T = 0.1\n",
    "    A = np.dot(expm(-1j*(Z+lambda_value*X)*s1*T), expm(-1j*(Z-lambda_value*X)*s2*T))\n",
    "    B = np.dot(expm(-1j*(Z+lambda_value*X)*s3*T), expm(-1j*(Z-lambda_value*X)*s4*T))\n",
    "    C = np.dot(A,B)\n",
    "    difference = C - expm(-1j*Z*T)\n",
    "    eigenvalues = svd(difference, compute_uv = False)\n",
    "    epsilon = np.max(eigenvalues)\n",
    "    return epsilon   "
   ]
  },
  {
   "cell_type": "code",
   "execution_count": 19,
   "id": "474a9b77-610a-4cd0-9734-5c7a714d637b",
   "metadata": {},
   "outputs": [
    {
     "name": "stdout",
     "output_type": "stream",
     "text": [
      "The maximum number of function evaluations is exceeded.\n",
      "Number of iterations: 1000, function evaluations: 4975, CG iterations: 1001, optimality: 2.71e-05, constraint violation: 0.00e+00, execution time:  4.5 s.\n",
      "s1 =  0.2584558683258168  s2 =  0.17807258131937487  s3 =  0.24145829290659862  s4 =  0.32201325744820986\n"
     ]
    }
   ],
   "source": [
    "# Starting guess\n",
    "s_values_start = [np.random.random(), np.random.random(), np.random.random(), np.random.random()]\n",
    "\n",
    "# Constraints -> s1 + s2 + s3 + s4 = 1 \n",
    "const = ({'type':'eq',\n",
    "          'fun' : lambda s_values : (s_values[0] + s_values[1] + s_values[2] + s_values[3]- 1)})\n",
    "# Bounds\n",
    "bounds = ((0.0,1.0),(0.0,1.0),(0.0,1.0),(0.0, 1.0))\n",
    "\n",
    "# optimizing\n",
    "result =  spo.minimize(epsilon_func, s_values_start, method='trust-constr',options={\"disp\":True}, constraints = const, bounds = bounds)\n",
    "\n",
    "# print result\n",
    "s_values = result.x\n",
    "s1 = s_values[0]\n",
    "s2 = s_values[1]\n",
    "s3 = s_values[2]\n",
    "s4 = s_values[3]\n",
    "print(\"s1 = \", s1, \" s2 = \", s2, \" s3 = \", s3, \" s4 = \", s4)"
   ]
  },
  {
   "cell_type": "code",
   "execution_count": 20,
   "id": "18ff4ff2-19c5-4f83-8130-3d86f93dafdb",
   "metadata": {},
   "outputs": [
    {
     "data": {
      "text/plain": [
       "2.9031863262767787e-07"
      ]
     },
     "execution_count": 20,
     "metadata": {},
     "output_type": "execute_result"
    }
   ],
   "source": [
    "# lowest s in prev part\n",
    "epsilon_func([0.14644660940672624, 0.3535533905932736, 0.35355339059327384, 0.14644660940672627])"
   ]
  },
  {
   "cell_type": "code",
   "execution_count": 21,
   "id": "c08d8af1-d7d5-4f85-bda9-7705af7fd8d7",
   "metadata": {},
   "outputs": [
    {
     "name": "stdout",
     "output_type": "stream",
     "text": [
      "1.0\n"
     ]
    },
    {
     "data": {
      "text/plain": [
       "0.00032762458915125154"
      ]
     },
     "execution_count": 21,
     "metadata": {},
     "output_type": "execute_result"
    }
   ],
   "source": [
    "# minimized values\n",
    "print(s1+s2+s3+s4)\n",
    "epsilon_func([s1,s2,s3,s4])\n"
   ]
  },
  {
   "cell_type": "code",
   "execution_count": 22,
   "id": "3bc68add-04c3-49a8-9479-6bb6282df1c9",
   "metadata": {},
   "outputs": [
    {
     "name": "stdout",
     "output_type": "stream",
     "text": [
      "2.028214954896133e-07\n",
      "2.0229474581783525e-07\n",
      "1.000003292836711\n"
     ]
    },
    {
     "data": {
      "text/plain": [
       "9.336118121897684e-08"
      ]
     },
     "execution_count": 22,
     "metadata": {},
     "output_type": "execute_result"
    }
   ],
   "source": [
    "print(epsilon_func([0.14002269377036433,0.3471307048304575,0.35994513617231017,0.1529014652268681] ))\n",
    "print(epsilon_func([0.14852368879439615,0.35548431730913477,0.3514863478995621,0.144505645996907]))\n",
    "#lowest found\n",
    "\n",
    "#s1 =  0.14002269377036433\n",
    "#s2 =  0.3471307048304575  \n",
    "#s3 =  0.35994513617231017  \n",
    "#s4 =  0.1529014652268681\n",
    "# 2.0282149550342433e-07\n",
    "\n",
    "#s1 =  0.14852368879439615  \n",
    "#s2 =  0.35548431730913477  \n",
    "#s3 =  0.3514863478995621  \n",
    "#s4 =  0.144505645996907\n",
    "# 2.022947457958505e-07\n",
    "\n",
    "\n",
    "\n",
    "s1 =  0.03765566095204766  \n",
    "s2 =  0.27063906421385175  \n",
    "s3 =  0.4618681202205331  \n",
    "s4 =  0.22984044745027865\n",
    "print(s1+s2+s3+s4)\n",
    "epsilon_func([s1,s2,s3,s4])"
   ]
  },
  {
   "cell_type": "markdown",
   "id": "ab5e6bfb-ddf2-451f-bc36-44d06499134d",
   "metadata": {},
   "source": [
    "### When m = 6\n",
    "Fix T, $\\lambda\\$ and m = 6"
   ]
  },
  {
   "cell_type": "code",
   "execution_count": 23,
   "id": "2b8fe0f1-dc7a-4014-b742-7ca39b49a78d",
   "metadata": {},
   "outputs": [],
   "source": [
    "# Defining the funtion epsilon\n",
    "def epsilon_func(s_values):\n",
    "    s1 = s_values[0]\n",
    "    s2 = s_values[1]\n",
    "    s3 = s_values[2]\n",
    "    s4 = s_values[3]\n",
    "    s5 = s_values[4]\n",
    "    s6 = s_values[5]\n",
    "    lambda_value = 0.1\n",
    "    T = 0.1\n",
    "    A = np.dot(expm(-1j*(Z+lambda_value*X)*s1*T), expm(-1j*(Z-lambda_value*X)*s2*T))\n",
    "    B = np.dot(expm(-1j*(Z+lambda_value*X)*s3*T), expm(-1j*(Z-lambda_value*X)*s4*T))\n",
    "    C = np.dot(expm(-1j*(Z+lambda_value*X)*s5*T), expm(-1j*(Z-lambda_value*X)*s6*T))\n",
    "    D = np.dot(np.dot(A,B),C)\n",
    "    \n",
    "    difference = D - expm(-1j*Z*T)\n",
    "    eigenvalues = svd(difference, compute_uv = False)\n",
    "    epsilon = np.max(eigenvalues)\n",
    "    return epsilon   "
   ]
  },
  {
   "cell_type": "code",
   "execution_count": 24,
   "id": "d21b2998-1a67-4fa8-b943-896003aef27e",
   "metadata": {},
   "outputs": [
    {
     "name": "stdout",
     "output_type": "stream",
     "text": [
      "Optimization terminated successfully    (Exit mode 0)\n",
      "            Current function value: 8.495974204043192e-07\n",
      "            Iterations: 11\n",
      "            Function evaluations: 86\n",
      "            Gradient evaluations: 11\n",
      "s1 =  0.04386697579268919  s2 =  0.2583678622480234  s3 =  0.08461020293905265  s4 =  0.02004688268643499  s5 =  0.37108020359374977  s6 =  0.22202787274005004\n"
     ]
    }
   ],
   "source": [
    "# Starting guess\n",
    "s_values_start = [np.random.random(), np.random.random(), np.random.random(), np.random.random(), np.random.random(), np.random.random() ]\n",
    "\n",
    "# Constraints -> s1 + s2 + s3 + s4 + s5 + s6 = 1 \n",
    "const = ({'type':'eq',\n",
    "          'fun' : lambda s_values : (s_values[0] + s_values[1] + s_values[2] + s_values[3] + s_values[4] + s_values[5] - 1)})\n",
    "# Bounds\n",
    "bounds = ((0.0,1.0),(0.0,1.0),(0.0,1.0),(0.0, 1.0),(0.0,1.0),(0.0, 1.0))\n",
    "\n",
    "# optimizing\n",
    "result =  spo.minimize(epsilon_func, s_values_start,options={\"disp\":True}, constraints = const, bounds = bounds)\n",
    "\n",
    "# print result\n",
    "s_values = result.x\n",
    "s1 = s_values[0]\n",
    "s2 = s_values[1]\n",
    "s3 = s_values[2]\n",
    "s4 = s_values[3]\n",
    "s5 = s_values[4]\n",
    "s6 = s_values[5]\n",
    "print(\"s1 = \", s1, \" s2 = \", s2, \" s3 = \", s3, \" s4 = \", s4,\" s5 = \", s5, \" s6 = \", s6)"
   ]
  },
  {
   "cell_type": "code",
   "execution_count": 25,
   "id": "9c6a5aba-cd34-4577-8679-d461e6e14c56",
   "metadata": {},
   "outputs": [
    {
     "data": {
      "text/plain": [
       "8.175186759985748e-08"
      ]
     },
     "execution_count": 25,
     "metadata": {},
     "output_type": "execute_result"
    }
   ],
   "source": [
    "# lowest s in prev part\n",
    "epsilon_func([0.06698729810778066, 0.1830127018922193, 0.24999999999999994, 0.25, 0.18301270189221952, 0.06698729810778059])"
   ]
  },
  {
   "cell_type": "code",
   "execution_count": 26,
   "id": "490bedcf-1426-4190-8392-7195a7110cdc",
   "metadata": {},
   "outputs": [
    {
     "name": "stdout",
     "output_type": "stream",
     "text": [
      "1.0\n"
     ]
    },
    {
     "data": {
      "text/plain": [
       "8.495974204043192e-07"
      ]
     },
     "execution_count": 26,
     "metadata": {},
     "output_type": "execute_result"
    }
   ],
   "source": [
    "# minimized values\n",
    "print(s1+s2+s3+s4+s5+s6)\n",
    "epsilon_func([s1,s2,s3,s4,s5,s6])\n"
   ]
  },
  {
   "cell_type": "code",
   "execution_count": 27,
   "id": "cd54c874-bad9-474d-b1c4-48b4e8feda15",
   "metadata": {},
   "outputs": [
    {
     "name": "stdout",
     "output_type": "stream",
     "text": [
      "1.0\n"
     ]
    },
    {
     "data": {
      "text/plain": [
       "8.495974204043192e-07"
      ]
     },
     "execution_count": 27,
     "metadata": {},
     "output_type": "execute_result"
    }
   ],
   "source": [
    "#lowest found\n",
    "\n",
    "print(s1+s2+s3+s4+s5+s6)\n",
    "epsilon_func([s1,s2,s3,s4,s5,s6])"
   ]
  },
  {
   "cell_type": "markdown",
   "id": "c4e72471-ad22-4d49-9fe6-b6db442a704f",
   "metadata": {},
   "source": [
    "### When m = 10\n",
    "Fix T, $\\lambda\\$ and m = 10"
   ]
  },
  {
   "cell_type": "code",
   "execution_count": 28,
   "id": "7dd2933a-a165-46de-ab72-d03d3bc9db29",
   "metadata": {},
   "outputs": [],
   "source": [
    "# Defining the funtion epsilon\n",
    "def epsilon_func(s_values):\n",
    "    s1 = s_values[0]\n",
    "    s2 = s_values[1]\n",
    "    s3 = s_values[2]\n",
    "    s4 = s_values[3]\n",
    "    s5 = s_values[4]\n",
    "    s6 = s_values[5]\n",
    "    s7 = s_values[6]\n",
    "    s8 = s_values[7]\n",
    "    s9 = s_values[8]\n",
    "    s10 = s_values[9]\n",
    "    lambda_value = 0.1\n",
    "    T = 0.1\n",
    "    A = np.dot(expm(-1j*(Z+lambda_value*X)*s1*T), expm(-1j*(Z-lambda_value*X)*s2*T))\n",
    "    B = np.dot(expm(-1j*(Z+lambda_value*X)*s3*T), expm(-1j*(Z-lambda_value*X)*s4*T))\n",
    "    C = np.dot(expm(-1j*(Z+lambda_value*X)*s5*T), expm(-1j*(Z-lambda_value*X)*s6*T))\n",
    "    D = np.dot(expm(-1j*(Z+lambda_value*X)*s7*T), expm(-1j*(Z-lambda_value*X)*s8*T))\n",
    "    E = np.dot(expm(-1j*(Z+lambda_value*X)*s9*T), expm(-1j*(Z-lambda_value*X)*s10*T))\n",
    "    \n",
    "    F = np.dot(np.dot(A,B),C)\n",
    "    G = np.dot(np.dot(F,D),E)\n",
    "    \n",
    "    difference = G - expm(-1j*Z*T)\n",
    "    eigenvalues = svd(difference, compute_uv = False)\n",
    "    epsilon = np.max(eigenvalues)\n",
    "    return epsilon   "
   ]
  },
  {
   "cell_type": "code",
   "execution_count": 29,
   "id": "a3b7d046-f99f-46f1-a442-a821bae475fb",
   "metadata": {},
   "outputs": [
    {
     "name": "stdout",
     "output_type": "stream",
     "text": [
      "Optimization terminated successfully    (Exit mode 0)\n",
      "            Current function value: 7.702145372695376e-07\n",
      "            Iterations: 22\n",
      "            Function evaluations: 256\n",
      "            Gradient evaluations: 22\n",
      "s1 =  1.0893373603979561e-05  s2 =  0.0630205785740419  s3 =  0.0009652327607933854  s4 =  0.13013494788189153  s5 =  0.004925456308775413  s6 =  0.042941207495007724  s7 =  0.26073869414844963  s8 =  0.03174735541512714  s9 =  0.23275621410968478  s10 =  0.23275781702115464\n"
     ]
    }
   ],
   "source": [
    "# Starting guess\n",
    "s_values_start = [np.random.random(), np.random.random(), np.random.random(), np.random.random(), np.random.random(), np.random.random(), np.random.random(), np.random.random(), np.random.random(), np.random.random()]\n",
    "\n",
    "# Constraints -> s1 + s2 + s3 + s4 + s5 + s6 + s7 + s8 + s9 + s10 = 1 \n",
    "const = ({'type':'eq',\n",
    "          'fun' : lambda s_values : (s_values[0] + s_values[1] + s_values[2] + s_values[3] + s_values[4] + s_values[5] + \n",
    "                                     s_values[6] + s_values[7] + s_values[9] + s_values[9]- 1)})\n",
    "# Bounds\n",
    "bounds = ((0.0,1.0),(0.0,1.0),(0.0,1.0),(0.0,1.0),(0.0,1.0),(0.0,1.0),(0.0,1.0),(0.0,1.0),(0.0,1.0),(0.0,1.0))\n",
    "\n",
    "# optimizing\n",
    "result =  spo.minimize(epsilon_func, s_values_start,options={\"disp\":True}, constraints = const, bounds = bounds)\n",
    "\n",
    "# print result\n",
    "s_values = result.x\n",
    "s1 = s_values[0]\n",
    "s2 = s_values[1]\n",
    "s3 = s_values[2]\n",
    "s4 = s_values[3]\n",
    "s5 = s_values[4]\n",
    "s6 = s_values[5]\n",
    "s7 = s_values[6]\n",
    "s8 = s_values[7]\n",
    "s9 = s_values[8]\n",
    "s10 = s_values[9]\n",
    "print(\"s1 = \", s1, \" s2 = \", s2, \" s3 = \", s3, \" s4 = \", s4,\" s5 = \", s5, \" s6 = \", s6, \" s7 = \", s7, \" s8 = \", s8,\" s9 = \", s9, \" s10 = \", s10)"
   ]
  },
  {
   "cell_type": "code",
   "execution_count": 30,
   "id": "60b750cf-7793-4ed2-8dfb-b4c965e93711",
   "metadata": {},
   "outputs": [
    {
     "data": {
      "text/plain": [
       "2.8110323751715706e-08"
      ]
     },
     "execution_count": 30,
     "metadata": {},
     "output_type": "execute_result"
    }
   ],
   "source": [
    "# lowest s in prev part\n",
    "epsilon_func([0.024471741852423214, 0.07101976096010307, 0.11061587104123718, 0.13938412895876282, 0.15450849718747361, 0.15450849718747384, 0.13938412895876295, 0.11061587104123694, 0.0710197609601032, 0.02447174185242318])"
   ]
  },
  {
   "cell_type": "code",
   "execution_count": 31,
   "id": "dfa5abd3-b8e7-4a5f-8492-0e600886d32c",
   "metadata": {},
   "outputs": [
    {
     "name": "stdout",
     "output_type": "stream",
     "text": [
      "0.9999983970885302\n"
     ]
    },
    {
     "data": {
      "text/plain": [
       "7.702145372695376e-07"
      ]
     },
     "execution_count": 31,
     "metadata": {},
     "output_type": "execute_result"
    }
   ],
   "source": [
    "# minimized values\n",
    "print(s1+s2+s3+s4+s5+s6+s7+s8+s9+s10)\n",
    "epsilon_func([s1,s2,s3,s4,s5,s6,s7,s8,s9,s10])\n"
   ]
  },
  {
   "cell_type": "code",
   "execution_count": 32,
   "id": "6c6e28cb-736a-4ede-ac1c-4f9c4f4332b9",
   "metadata": {},
   "outputs": [
    {
     "name": "stdout",
     "output_type": "stream",
     "text": [
      "0.9999983970885302\n"
     ]
    },
    {
     "data": {
      "text/plain": [
       "7.702145372695376e-07"
      ]
     },
     "execution_count": 32,
     "metadata": {},
     "output_type": "execute_result"
    }
   ],
   "source": [
    "#lowest found\n",
    "\n",
    "\n",
    "\n",
    "print(s1+s2+s3+s4+s5+s6+s7+s8+s9+s10)\n",
    "epsilon_func([s1,s2,s3,s4,s5,s6,s7,s8,s9,s10])"
   ]
  },
  {
   "cell_type": "code",
   "execution_count": null,
   "id": "f3a63b4a-1a54-4856-8a49-f6b49df4df93",
   "metadata": {},
   "outputs": [],
   "source": []
  }
 ],
 "metadata": {
  "kernelspec": {
   "display_name": "Python 3 (ipykernel)",
   "language": "python",
   "name": "python3"
  },
  "language_info": {
   "codemirror_mode": {
    "name": "ipython",
    "version": 3
   },
   "file_extension": ".py",
   "mimetype": "text/x-python",
   "name": "python",
   "nbconvert_exporter": "python",
   "pygments_lexer": "ipython3",
   "version": "3.10.12"
  }
 },
 "nbformat": 4,
 "nbformat_minor": 5
}
