{
 "cells": [
  {
   "cell_type": "markdown",
   "id": "73d2a7c0-7029-421d-a11a-8535909b58dd",
   "metadata": {},
   "source": [
    "# Dynamical Decoupling (DD) Simulation"
   ]
  },
  {
   "cell_type": "markdown",
   "id": "a996c953-783a-40b6-b675-0c6c2adbee12",
   "metadata": {},
   "source": [
    "Ideal system:  **$e^{-iZt}$** \\\n",
    "Noisy system: **$e^{-i(Z+\\lambda{X})t}$**\n",
    "#### Want to prove: \n",
    "**$e^{-i(Z+\\lambda{X})t}Ze^{-i(Z+\\lambda{X})t}Z \\approx e^{-2iZt}$** "
   ]
  },
  {
   "cell_type": "markdown",
   "id": "e7ee53e4-a449-4aa9-96af-b1e62b8e1bde",
   "metadata": {},
   "source": [
    "### Libraries and Pauli Matrices "
   ]
  },
  {
   "cell_type": "code",
   "execution_count": 1,
   "id": "61559f1e-f7f4-4e2d-ba57-f2f1aa92000d",
   "metadata": {},
   "outputs": [],
   "source": [
    "import numpy as np\n",
    "import scipy\n",
    "import math\n",
    "from scipy.linalg import expm\n",
    "import matplotlib.pyplot as plt"
   ]
  },
  {
   "cell_type": "code",
   "execution_count": 2,
   "id": "de9f6d65-ebc3-40e5-be24-c76939e5350c",
   "metadata": {},
   "outputs": [],
   "source": [
    "X, Z, I = np.matrix([[0, 1],[1, 0]]), np.matrix([[1, 0],[0, -1]]), np.matrix([[1, 0],[0, 1]])"
   ]
  },
  {
   "cell_type": "markdown",
   "id": "128d9900-ab39-4ebe-b6ae-13278d6fff6b",
   "metadata": {},
   "source": [
    "### Simulation code"
   ]
  },
  {
   "cell_type": "code",
   "execution_count": 3,
   "id": "d040cba3-5d80-4806-92a0-d6f26ef5ddc6",
   "metadata": {},
   "outputs": [
    {
     "ename": "TypeError",
     "evalue": "'float' object cannot be interpreted as an integer",
     "output_type": "error",
     "traceback": [
      "\u001b[0;31m---------------------------------------------------------------------------\u001b[0m",
      "\u001b[0;31mTypeError\u001b[0m                                 Traceback (most recent call last)",
      "Cell \u001b[0;32mIn[3], line 9\u001b[0m\n\u001b[1;32m      6\u001b[0m lambda_value \u001b[38;5;241m=\u001b[39m \u001b[38;5;241m0.1\u001b[39m\n\u001b[1;32m      8\u001b[0m \u001b[38;5;66;03m# simulating the equation for every 0.1s for the first 10s.\u001b[39;00m\n\u001b[0;32m----> 9\u001b[0m \u001b[38;5;28;01mfor\u001b[39;00m t \u001b[38;5;129;01min\u001b[39;00m \u001b[43mnp\u001b[49m\u001b[38;5;241;43m.\u001b[39;49m\u001b[43mlinspace\u001b[49m\u001b[43m(\u001b[49m\u001b[38;5;241;43m0\u001b[39;49m\u001b[43m,\u001b[49m\u001b[38;5;241;43m1\u001b[39;49m\u001b[43m,\u001b[49m\u001b[38;5;241;43m0.01\u001b[39;49m\u001b[43m)\u001b[49m:\n\u001b[1;32m     10\u001b[0m     A \u001b[38;5;241m=\u001b[39m expm(\u001b[38;5;241m-\u001b[39m\u001b[38;5;241m1\u001b[39mj\u001b[38;5;241m*\u001b[39m(Z\u001b[38;5;241m+\u001b[39mlambda_value\u001b[38;5;241m*\u001b[39mX)\u001b[38;5;241m*\u001b[39mt)\u001b[38;5;241m*\u001b[39mZ\u001b[38;5;241m*\u001b[39mexpm(\u001b[38;5;241m-\u001b[39m\u001b[38;5;241m1\u001b[39mj\u001b[38;5;241m*\u001b[39m(Z\u001b[38;5;241m+\u001b[39mlambda_value\u001b[38;5;241m*\u001b[39mX)\u001b[38;5;241m*\u001b[39mt)\u001b[38;5;241m*\u001b[39mZ\n\u001b[1;32m     11\u001b[0m     B \u001b[38;5;241m=\u001b[39m expm(\u001b[38;5;241m-\u001b[39m\u001b[38;5;241m2\u001b[39mj\u001b[38;5;241m*\u001b[39mZ\u001b[38;5;241m*\u001b[39mt)\n",
      "File \u001b[0;32m<__array_function__ internals>:5\u001b[0m, in \u001b[0;36mlinspace\u001b[0;34m(*args, **kwargs)\u001b[0m\n",
      "File \u001b[0;32m/usr/lib/python3/dist-packages/numpy/core/function_base.py:120\u001b[0m, in \u001b[0;36mlinspace\u001b[0;34m(start, stop, num, endpoint, retstep, dtype, axis)\u001b[0m\n\u001b[1;32m     23\u001b[0m \u001b[38;5;129m@array_function_dispatch\u001b[39m(_linspace_dispatcher)\n\u001b[1;32m     24\u001b[0m \u001b[38;5;28;01mdef\u001b[39;00m \u001b[38;5;21mlinspace\u001b[39m(start, stop, num\u001b[38;5;241m=\u001b[39m\u001b[38;5;241m50\u001b[39m, endpoint\u001b[38;5;241m=\u001b[39m\u001b[38;5;28;01mTrue\u001b[39;00m, retstep\u001b[38;5;241m=\u001b[39m\u001b[38;5;28;01mFalse\u001b[39;00m, dtype\u001b[38;5;241m=\u001b[39m\u001b[38;5;28;01mNone\u001b[39;00m,\n\u001b[1;32m     25\u001b[0m              axis\u001b[38;5;241m=\u001b[39m\u001b[38;5;241m0\u001b[39m):\n\u001b[1;32m     26\u001b[0m \u001b[38;5;250m    \u001b[39m\u001b[38;5;124;03m\"\"\"\u001b[39;00m\n\u001b[1;32m     27\u001b[0m \u001b[38;5;124;03m    Return evenly spaced numbers over a specified interval.\u001b[39;00m\n\u001b[1;32m     28\u001b[0m \n\u001b[0;32m   (...)\u001b[0m\n\u001b[1;32m    118\u001b[0m \n\u001b[1;32m    119\u001b[0m \u001b[38;5;124;03m    \"\"\"\u001b[39;00m\n\u001b[0;32m--> 120\u001b[0m     num \u001b[38;5;241m=\u001b[39m \u001b[43moperator\u001b[49m\u001b[38;5;241;43m.\u001b[39;49m\u001b[43mindex\u001b[49m\u001b[43m(\u001b[49m\u001b[43mnum\u001b[49m\u001b[43m)\u001b[49m\n\u001b[1;32m    121\u001b[0m     \u001b[38;5;28;01mif\u001b[39;00m num \u001b[38;5;241m<\u001b[39m \u001b[38;5;241m0\u001b[39m:\n\u001b[1;32m    122\u001b[0m         \u001b[38;5;28;01mraise\u001b[39;00m \u001b[38;5;167;01mValueError\u001b[39;00m(\u001b[38;5;124m\"\u001b[39m\u001b[38;5;124mNumber of samples, \u001b[39m\u001b[38;5;132;01m%s\u001b[39;00m\u001b[38;5;124m, must be non-negative.\u001b[39m\u001b[38;5;124m\"\u001b[39m \u001b[38;5;241m%\u001b[39m num)\n",
      "\u001b[0;31mTypeError\u001b[0m: 'float' object cannot be interpreted as an integer"
     ]
    }
   ],
   "source": [
    "# creating the variables\n",
    "time = []\n",
    "epsilon = []\n",
    "\n",
    "# set the value of lambda\n",
    "lambda_value = 0.1\n",
    "\n",
    "# simulating the equation for every 0.1s for the first 10s.\n",
    "for t in np.linspace(0,1,0.01):\n",
    "    A = expm(-1j*(Z+lambda_value*X)*t)*Z*expm(-1j*(Z+lambda_value*X)*t)*Z\n",
    "    B = expm(-2j*Z*t)\n",
    "\n",
    "    # calculate the difference between the ideal and noisy system\n",
    "    difference = A - B\n",
    "    # get the maximum eigen value of the difference matrix\n",
    "    eigenvalues,_ = np.linalg.eig(difference)\n",
    "    max_eigenvalue = eigenvalues.max()\n",
    "    # add the maximum eigen value to the array epsilon\n",
    "    epsilon.append(max_eigenvalue)\n",
    "    #print(epsilon)\n",
    "    #print(A)\n",
    "    #print(B)\n",
    "    #print(difference)\n",
    "    time.append(t)\n"
   ]
  },
  {
   "cell_type": "code",
   "execution_count": null,
   "id": "cc636c7e-4a2b-4d35-aaae-d282f2a5446f",
   "metadata": {},
   "outputs": [],
   "source": [
    "# simulating expression for the error matrix obtained from hand-calculation\n",
    "\n",
    "error_matrix = []\n",
    "\n",
    "\n",
    "for t in range(0,100,1):\n",
    "    E = I*math.sin(t*math.sqrt(1+lambda_value**2))**2 + (-1*math.sin(t*math.sqrt(1+lambda_value**2))**2)*(I*(1-lambda_value**2)+2*lambda_value*X*Z)/math.sqrt(1+lambda_value**2)\n",
    "    \n",
    "    # get maximum eigen value\n",
    "    ev,_ = np.linalg.eig(E)\n",
    "    max_ev = ev.max()\n",
    "\n",
    "    # add maximum eigen value to the array error_matrix\n",
    "    error_matrix.append(max_ev)\n",
    "\n",
    "    #print(E)"
   ]
  },
  {
   "cell_type": "code",
   "execution_count": null,
   "id": "2686b4e4-8cb2-422d-a244-3a73b9c88b11",
   "metadata": {},
   "outputs": [],
   "source": [
    "other_A = []\n",
    "for t in range(0,100,1):\n",
    "    #A1 = (I*math.cos(t*math.sqrt(1+lambda_value**2))-1j*math.sin(t*math.sqrt(1+lambda_value**2))*(Z+lambda_value*X)/math.sqrt(1+lambda_value**2))\n",
    "    #A2 = (I*math.cos(t*math.sqrt(1+lambda_value**2))-1j*math.sin(t*math.sqrt(1+lambda_value**2))*(Z-lambda_value*X)/math.sqrt(1+lambda_value**2))\n",
    "\n",
    "    #works ->\n",
    "    #A1 = I*math.cos(t*math.sqrt(1+lambda_value**2))**2 - 1j*math.cos(t*math.sqrt(1+lambda_value**2))*math.sin(t*math.sqrt(1+lambda_value**2))*(Z-lambda_value**2)/math.sqrt(1+lambda_value**2)\n",
    "    #A2 = -1j*math.sin(t*math.sqrt(1+lambda_value**2))*math.cos(t*math.sqrt(1+lambda_value**2))*(Z+lambda_value**2)/math.sqrt(1+lambda_value**2)\n",
    "    #A3 = (-1*math.sin(t*math.sqrt(1+lambda_value**2))**2)*(Z+lambda_value*X)*(Z-lambda_value*X)/math.sqrt(1+lambda_value**2) \n",
    "   \n",
    "    #A1 = I*math.cos(t*math.sqrt(1+lambda_value**2))**2 -2j*math.cos(t*math.sqrt(1+lambda_value**2))*math.sin(t*math.sqrt(1+lambda_value**2))*Z\n",
    "    #A2 = (-1*math.sin(t*math.sqrt(1+lambda_value**2))**2)*(I+2*lambda_value*X*Z-I*lambda_value**2)/math.sqrt(1+lambda_value**2)\n",
    "\n",
    "    #A1 = I*math.cos(t*math.sqrt(1+lambda_value**2))**2 -1j*math.sin(2*t*math.sqrt(1+lambda_value**2))*Z/math.sqrt(1+lambda_value**2)\n",
    "    #A2 = (-1*math.sin(t*math.sqrt(1+lambda_value**2))**2)*(I+2*lambda_value*X*Z-I*lambda_value**2)/math.sqrt(1+lambda_value**2)\n",
    "\n",
    "    #A1 = I/2 + I*math.cos(2*t*math.sqrt(1+lambda_value**2))/2 -1j*math.sin(2*t*math.sqrt(1+lambda_value**2))*Z/math.sqrt(1+lambda_value**2)\n",
    "    #A2 = (-1*math.sin(t*math.sqrt(1+lambda_value**2))**2)*(I*(1-lambda_value**2)+2*lambda_value*X*Z)/math.sqrt(1+lambda_value**2)\n",
    "\n",
    "    #A1 = I*math.cos(2*t*math.sqrt(1+lambda_value**2))-1j*math.sin(2*t*math.sqrt(1+lambda_value**2))*Z/math.sqrt(1+lambda_value**2)\n",
    "    #A2 = I/2 - I*math.cos(2*t*math.sqrt(1+lambda_value**2))/2 + (-1*math.sin(t*math.sqrt(1+lambda_value**2))**2)*(I*(1-lambda_value**2)+2*lambda_value*X*Z)/math.sqrt(1+lambda_value**2)\n",
    "\n",
    "    A1 = I*math.cos(2*t*math.sqrt(1+lambda_value**2))-1j*math.sin(2*t*math.sqrt(1+lambda_value**2))*Z/math.sqrt(1+lambda_value**2)\n",
    "    A2 = I*math.sin(t*math.sqrt(1+lambda_value**2))**2 + (-1*math.sin(t*math.sqrt(1+lambda_value**2))**2)*(I*(1-lambda_value**2)+2*lambda_value*X*Z)/math.sqrt(1+lambda_value**2)\n",
    "\n",
    "    #A1 = expm(-2j*Z*t)\n",
    "    #A2 = I*math.sin(t*math.sqrt(1+lambda_value**2))**2 + (-1*math.sin(t*math.sqrt(1+lambda_value**2))**2)*(I*(1-lambda_value**2)+2*lambda_value*X*Z)/math.sqrt(1+lambda_value**2)\n",
    "    \n",
    "    #A1 = I - 1j*(Z+lambda_value*X)*t + 0.5*(1j*(Z+lambda_value*X)*t)**2 \n",
    "    #A2 = I - 1j*(Z-lambda_value*X)*t + 0.5*(1j*(Z-lambda_value*X)*t)**2 \n",
    "\n",
    "    \n",
    "    B = expm(-2j*Z*t)\n",
    "    \n",
    "    #difference = (A1*A2) - B\n",
    "    difference = (A1 + A2) - B\n",
    "    # get the maximum eigen value of the difference matrix\n",
    "    eigenvalues,_ = np.linalg.eig(difference)\n",
    "    max_eigenvalue = eigenvalues.max()\n",
    "    other_A.append(max_eigenvalue)\n",
    "    #print(difference)"
   ]
  },
  {
   "cell_type": "markdown",
   "id": "d4bbc585-1b7d-4596-a328-92882fa08c7b",
   "metadata": {},
   "source": [
    "## Graph t vs $\\epsilon$"
   ]
  },
  {
   "cell_type": "code",
   "execution_count": null,
   "id": "f141df2e-d60c-4971-837b-1f9f0cabe2f9",
   "metadata": {},
   "outputs": [],
   "source": [
    "# graph the changes in epsilon respect to the time\n",
    "plt.plot(time, epsilon, label = \"Epsilon\")\n",
    "#plt.plot(time, error_matrix, label = \"Remainder function\")\n",
    "#plt.plot(time, other_A, label = \"epsilon using sine/cos\")\n",
    "\n",
    "plt.xlabel('Time')\n",
    "plt.ylabel('$\\epsilon$')\n",
    "plt.legend()\n",
    "\n",
    "plt.savefig('my_graph.png')\n",
    "plt.show()\n",
    "\n",
    "print(time)\n",
    "print(epsilon)\n"
   ]
  },
  {
   "cell_type": "code",
   "execution_count": null,
   "id": "5035d4ff-8bea-4644-8bad-24ab20d6545c",
   "metadata": {},
   "outputs": [],
   "source": []
  }
 ],
 "metadata": {
  "kernelspec": {
   "display_name": "Python 3 (ipykernel)",
   "language": "python",
   "name": "python3"
  },
  "language_info": {
   "codemirror_mode": {
    "name": "ipython",
    "version": 3
   },
   "file_extension": ".py",
   "mimetype": "text/x-python",
   "name": "python",
   "nbconvert_exporter": "python",
   "pygments_lexer": "ipython3",
   "version": "3.10.12"
  }
 },
 "nbformat": 4,
 "nbformat_minor": 5
}
