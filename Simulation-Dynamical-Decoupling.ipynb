{
 "cells": [
  {
   "cell_type": "markdown",
   "id": "73d2a7c0-7029-421d-a11a-8535909b58dd",
   "metadata": {},
   "source": [
    "# Dynamical Decoupling (DD) Simulation\n",
    "## Specific case: m=2 and t1=t2=t\n",
    "Ideal system:  **$e^{-iZt}$** \\\n",
    "Noisy system: **$e^{-i(Z+\\lambda{X})t}$**\n",
    "#### Want to prove: \n",
    "**$e^{-i(Z+\\lambda{X})t}Ze^{-i(Z+\\lambda{X})t}Z \\approx e^{-2iZt}$** "
   ]
  },
  {
   "cell_type": "markdown",
   "id": "e7ee53e4-a449-4aa9-96af-b1e62b8e1bde",
   "metadata": {},
   "source": [
    "### Libraries and Pauli Matrices "
   ]
  },
  {
   "cell_type": "code",
   "execution_count": 3,
   "id": "61559f1e-f7f4-4e2d-ba57-f2f1aa92000d",
   "metadata": {},
   "outputs": [],
   "source": [
    "import numpy as np\n",
    "import scipy\n",
    "import math\n",
    "from scipy.linalg import expm, svd\n",
    "import matplotlib.pyplot as plt\n",
    "import scipy.optimize as spo"
   ]
  },
  {
   "cell_type": "code",
   "execution_count": 4,
   "id": "de9f6d65-ebc3-40e5-be24-c76939e5350c",
   "metadata": {},
   "outputs": [],
   "source": [
    "X, Z, I = np.matrix([[0, 1],[1, 0]]), np.matrix([[1, 0],[0, -1]]), np.matrix([[1, 0],[0, 1]])"
   ]
  },
  {
   "cell_type": "markdown",
   "id": "128d9900-ab39-4ebe-b6ae-13278d6fff6b",
   "metadata": {},
   "source": [
    "### Simulation code"
   ]
  },
  {
   "cell_type": "code",
   "execution_count": 6,
   "id": "d040cba3-5d80-4806-92a0-d6f26ef5ddc6",
   "metadata": {},
   "outputs": [
    {
     "name": "stdout",
     "output_type": "stream",
     "text": [
      "error at t1 = t2 = 0.05 is 0.0004995820845829024\n"
     ]
    }
   ],
   "source": [
    "# creating the variables\n",
    "time = []\n",
    "epsilon = []\n",
    "\n",
    "# set the value of lambda\n",
    "lambda_value = 0.1\n",
    "\n",
    "# simulating the equation for every 0.01s for 1s.\n",
    "for t in np.linspace(0.0,1.0,num=101):\n",
    "    A = expm(-1j*(Z+lambda_value*X)*t)*Z*expm(-1j*(Z+lambda_value*X)*t)*Z\n",
    "    B = expm(-2j*Z*t)\n",
    "    # calculate the difference between the ideal and noisy system\n",
    "    difference = A - B\n",
    "    # get the maximum eigen value of the difference matrix\n",
    "    eigenvalues,_ = svd(difference, compute_uv = False)\n",
    "    max_eigenvalue = np.max(eigenvalues)\n",
    "    # add the maximum eigen value to the array epsilon\n",
    "    epsilon.append(max_eigenvalue)\n",
    "    time.append(t) \n",
    "    \n",
    "print(\"error at t1 = t2 = \" + str(time[5]) + \" is \" + str(epsilon[5]))"
   ]
  },
  {
   "cell_type": "markdown",
   "id": "d6e3ea1d-aeff-4b42-9eb5-255393cadd48",
   "metadata": {},
   "source": [
    "### Graph t vs $\\epsilon$"
   ]
  },
  {
   "cell_type": "code",
   "execution_count": 8,
   "id": "f141df2e-d60c-4971-837b-1f9f0cabe2f9",
   "metadata": {},
   "outputs": [
    {
     "data": {
      "image/png": "[encoded data removed]",
      "text/plain": [
       "<Figure size 640x480 with 1 Axes>"
      ]
     },
     "metadata": {},
     "output_type": "display_data"
    }
   ],
   "source": [
    "# graph the changes in epsilon respect to the time\n",
    "plt.plot(time, epsilon, label = \"Epsilon\")\n",
    "\n",
    "plt.xlabel('Time')\n",
    "plt.ylabel('$\\epsilon$')\n",
    "plt.legend()\n",
    "\n",
    "plt.savefig('first_simulation.png')\n",
    "plt.show()\n"
   ]
  },
  {
   "cell_type": "markdown",
   "id": "a042471d-873d-47a0-98e9-2d37bd2ad6fe",
   "metadata": {},
   "source": [
    "## General case\n",
    "The generalization of the previous case is the following:\\\n",
    "Ideal system: **$e^{-iZs_1T}e^{-iZs_2T}e^{-iZs_3T}...e^{-iZs_mT}$** \\\n",
    "Noisy system: **$e^{-i(Z+\\lambda{X})s_1T}e^{-i(Z+\\lambda{X})s_2T}e^{-i(Z+\\lambda{X})s_3T}...e^{-i(Z+\\lambda{X})s_mT}$**\n",
    "##### Error function:\n",
    "**$\\epsilon=||(e^{-i(Z+\\lambda{X})s_1T}Ze^{-i(Z+\\lambda{X})s_2T}Ze^{-i(Z+\\lambda{X})s_3T}Ze^{-i(Z+\\lambda{X})s_4T}Z...Ze^{-i(Z+\\lambda{X})s_mT}Z) - e^{-iZT}||$**\n",
    "### Simulation\n"
   ]
  },
  {
   "cell_type": "code",
   "execution_count": 10,
   "id": "814a80f5-453b-4db9-8303-2a8156c0a594",
   "metadata": {},
   "outputs": [],
   "source": [
    "def error_calculation(lambda_value, m, T, areEqual, s_values):\n",
    "    prev_A = I\n",
    "    \n",
    "    # Case 1: Periodic DD when s1 = s2 = ... = sm \n",
    "    if (areEqual == True):\n",
    "        for i in np.linspace(1,m,num=m):\n",
    "            # even numbers\n",
    "            if (i%2 == 0): \n",
    "                A = np.dot(prev_A, expm(-1j*(Z-lambda_value*X)*T/m)) \n",
    "                #prev_A * expm(-1j*(Z-lambda_value*X)*T/m)\n",
    "            # odd numbers\n",
    "            else:\n",
    "                A = np.dot(prev_A, expm(-1j*(Z+lambda_value*X)*T/m))\n",
    "                #prev_A * expm(-1j*(Z+lambda_value*X)*T/m)\n",
    "            # updating the matrix A\n",
    "            prev_A = A\n",
    "    \n",
    "    # Case 2: Concatenated DD or Uhrig DD when s has a different values       \n",
    "    else:\n",
    "        i = 1\n",
    "        # simulating the equation \n",
    "        for s in s_values:\n",
    "            # even numbers\n",
    "            if (i%2 == 0):\n",
    "                A = np.dot(prev_A, expm(-1j*(Z-lambda_value*X)*s*T))\n",
    "                # prev_A * expm(-1j*(Z-lambda_value*X)*s*T)   \n",
    "            # odd numbers\n",
    "            else:\n",
    "                A = np.dot(prev_A, expm(-1j*(Z+lambda_value*X)*s*T))\n",
    "                # prev_A * expm(-1j*(Z+lambda_value*X)*s*T)\n",
    "            # updating variables\n",
    "            #print(A)\n",
    "            prev_A = A \n",
    "            i+=1 \n",
    "            \n",
    "    B = expm(-1j*Z*T) \n",
    "    # calculate the difference between the ideal and noisy system\n",
    "    difference = A - B\n",
    "    # get the maximum eigen value of the difference matrix\n",
    "    eigenvalues = svd(difference, compute_uv = False)\n",
    "    max_eigenvalue = np.max(eigenvalues)\n",
    "    #print(\"The error is \", max_eigenvalue)\n",
    "    return max_eigenvalue\n",
    "\n",
    "def UDD_calculate_s_values(m):\n",
    "    s_values = []\n",
    "    prev_t = 0\n",
    "    for j in range(1, m+1):\n",
    "        t = np.power(np.sin(j*np.pi/(2*m)), 2)\n",
    "        s_values.append(t-prev_t)\n",
    "        prev_t = t\n",
    "    return s_values        \n"
   ]
  },
  {
   "cell_type": "code",
   "execution_count": 11,
   "id": "3334b562-9402-4ec6-8b92-4adb123a00f4",
   "metadata": {},
   "outputs": [
    {
     "name": "stdout",
     "output_type": "stream",
     "text": [
      "Case 1 (PDD) Even ##########################\n",
      "For m = 2 the error is 0.0004995820845829024\n",
      "For m = 4 the error is 0.0002496353782160249\n",
      "For m = 6 the error is 0.00016640438462257455\n",
      "For m = 8 the error is 0.0001247982491792856\n",
      "For m = 10 the error is 9.983673349871192e-05\n",
      "\n",
      "Case 2 (CDD) ##########################\n",
      "For m = 2 the error is 0.0004995820845829024\n",
      "For m = 3 the error is 1.249909813324557e-05\n",
      "For m = 6 the error is 1.8775597696427797e-07\n",
      "For m = 11 the error is 2.606462738292785e-08\n",
      "\n",
      "Case 3 (UDD) ##########################\n",
      "For m = 2 the error is 0.0004995820845829024\n",
      "For m = 3 the error is 1.2499098133243837e-05\n",
      "For m = 4 the error is 2.9031863259118986e-07\n",
      "For m = 6 the error is 8.175186760529897e-08\n",
      "[0.06698729810778066, 0.1830127018922193, 0.24999999999999994, 0.25, 0.18301270189221952, 0.06698729810778059]\n",
      "For m = 8 the error is 4.455600939580585e-08\n",
      "[0.03806023374435662, 0.10838637566236962, 0.16221167441072884, 0.1913417161825448, 0.19134171618254503, 0.1622116744107288, 0.10838637566236964, 0.03806023374435663]\n",
      "For m = 10 the error is 2.811032373227265e-08\n",
      "[0.024471741852423214, 0.07101976096010307, 0.11061587104123718, 0.13938412895876282, 0.15450849718747361, 0.15450849718747384, 0.13938412895876295, 0.11061587104123694, 0.0710197609601032, 0.02447174185242318]\n"
     ]
    }
   ],
   "source": [
    "# creating the variables\n",
    "m_value_c1 = []\n",
    "m_value_c2 = [2,3,6,11]\n",
    "m_value_c3 = [2,3,4,6,8,10]\n",
    "error_c1 = []\n",
    "error_c2 = []\n",
    "error_c3 = []\n",
    "\n",
    "# set the value of lambda and T\n",
    "lambda_value = 0.1\n",
    "T = 0.1\n",
    "\n",
    "print(\"Case 1 (PDD) Even ##########################\")\n",
    "for m in range(2,11,2):\n",
    "    error_c1.append(error_calculation(lambda_value, m, T, True, []))\n",
    "    m_value_c1.append(m)\n",
    "    print(\"For m = \" + str(m) + \" the error is \" + str(error_calculation(lambda_value, m, T, True, [])))\n",
    "\n",
    "print(\"\\nCase 2 (CDD) ##########################\")\n",
    "error_c2.append(error_calculation(lambda_value, 2, T, False, [1/2,1/2]))\n",
    "print(\"For m = 2 the error is \" + str(error_c2[0]))\n",
    "\n",
    "error_c2.append(error_calculation(lambda_value, 3, T, False, [1/4,1/2,1/4]))\n",
    "print(\"For m = 3 the error is \" + str(error_c2[1]))\n",
    "\n",
    "error_c2.append(error_calculation(lambda_value, 6, T, False, [1/8,1/4,1/8,1/8,1/4,1/8]))\n",
    "print(\"For m = 6 the error is \" + str(error_c2[2]))\n",
    "\n",
    "error_c2.append(error_calculation(lambda_value, 11, T, False, [1/16,1/8,1/16,1/16,1/8,1/8,1/8,1/16,1/16,1/8,1/16]))\n",
    "print(\"For m = 11 the error is \" + str(error_c2[3]))\n",
    "\n",
    "\n",
    "print(\"\\nCase 3 (UDD) ##########################\")\n",
    "error_c3.append(error_calculation(lambda_value, 2, T, False, UDD_calculate_s_values(2)))\n",
    "print(\"For m = 2 the error is \" + str(error_c3[0]))\n",
    "\n",
    "error_c3.append(error_calculation(lambda_value, 3, T, False, UDD_calculate_s_values(3)))\n",
    "print(\"For m = 3 the error is \" + str(error_c3[1]))\n",
    "\n",
    "error_c3.append(error_calculation(lambda_value, 4, T, False, UDD_calculate_s_values(4)))\n",
    "print(\"For m = 4 the error is \" + str(error_c3[2]))\n",
    "\n",
    "error_c3.append(error_calculation(lambda_value, 6, T, False, UDD_calculate_s_values(6)))\n",
    "print(\"For m = 6 the error is \" + str(error_c3[3]))\n",
    "print(UDD_calculate_s_values(6))\n",
    "\n",
    "error_c3.append(error_calculation(lambda_value, 6, T, False, UDD_calculate_s_values(8)))\n",
    "print(\"For m = 8 the error is \" + str(error_c3[4]))\n",
    "print(UDD_calculate_s_values(8))\n",
    "\n",
    "\n",
    "error_c3.append(error_calculation(lambda_value, 10, T, False, UDD_calculate_s_values(10)))\n",
    "print(\"For m = 10 the error is \" + str(error_c3[5]))\n",
    "print(UDD_calculate_s_values(10))\n"
   ]
  },
  {
   "cell_type": "code",
   "execution_count": 12,
   "id": "7e749dae-d1ee-4de2-b052-70555f4fdcd2",
   "metadata": {},
   "outputs": [],
   "source": [
    "# values found below\n",
    "\n",
    "m_values_optimized = [2,3,4,6,8,10]  \n",
    "error_optimized = [0.0004995710092228119,4.571626303785287e-10,1.3185843644749708e-09,6.570497960815582e-10,1.303151245245274e-09,6.195767679163424e-10]"
   ]
  },
  {
   "cell_type": "markdown",
   "id": "d4bbc585-1b7d-4596-a328-92882fa08c7b",
   "metadata": {},
   "source": [
    "### Graph t vs $\\epsilon$"
   ]
  },
  {
   "cell_type": "code",
   "execution_count": 14,
   "id": "431d643f-81ba-4eef-9a67-5da44cacdbc6",
   "metadata": {},
   "outputs": [
    {
     "data": {
      "image/png": "[encoded data removed]",
      "text/plain": [
       "<Figure size 640x480 with 1 Axes>"
      ]
     },
     "metadata": {},
     "output_type": "display_data"
    }
   ],
   "source": [
    "# graph the changes of the error for different values of m\n",
    "\n",
    "plt.plot(m_value_c1, error_c1, color='navy', marker='o', label = \"PDD\")\n",
    "plt.plot(m_value_c2, error_c2, color='blueviolet', marker='o', label = \"CDD\")\n",
    "plt.plot(m_value_c3, error_c3, color='crimson', marker='o', label = \"UDD\")\n",
    "plt.plot(m_values_optimized, error_optimized, marker='o', label = \"minimization results\")\n",
    "\n",
    "\n",
    "plt.title('$\\epsilon$ vs m')\n",
    "plt.xlabel('m')\n",
    "plt.ylabel('$\\epsilon$')\n",
    "plt.yscale(\"log\")\n",
    "\n",
    "plt.legend()\n",
    "plt.grid()\n",
    "\n",
    "plt.savefig('general_simulation.png')\n",
    "plt.show()\n"
   ]
  },
  {
   "cell_type": "markdown",
   "id": "b16dd4ff-8583-4d36-9178-70ebb7067d46",
   "metadata": {},
   "source": [
    "## Minimize the $\\epsilon$ function for a fixed T and m"
   ]
  },
  {
   "cell_type": "markdown",
   "id": "bd755c3b-dc82-49b0-9c24-0b87d8995cb3",
   "metadata": {},
   "source": [
    "### When m = 2"
   ]
  },
  {
   "cell_type": "markdown",
   "id": "6bf8733e-b207-4fc5-bacd-167b628b54d1",
   "metadata": {},
   "source": [
    "Fix T, $\\lambda\\$ and m = 2"
   ]
  },
  {
   "cell_type": "code",
   "execution_count": 18,
   "id": "dbfce62f-a968-4bc5-b88b-1fbef62a91b6",
   "metadata": {},
   "outputs": [],
   "source": [
    "# Defining the funtion epsilon\n",
    "def epsilon_func(s_values):\n",
    "    s1 = s_values[0]\n",
    "    s2 = s_values[1]\n",
    "    lambda_value = 0.1\n",
    "    T = 0.1\n",
    "    A = expm(-1j*(Z+lambda_value*X)*s1*T) @ expm(-1j*(Z-lambda_value*X)*s2*T)\n",
    "    difference = A - expm(-1j*Z*T)\n",
    "    eigenvalues = svd(difference, compute_uv = False)\n",
    "    epsilon = np.max(eigenvalues)\n",
    "    return epsilon    "
   ]
  },
  {
   "cell_type": "code",
   "execution_count": 19,
   "id": "d457df4b-e6c8-483b-99e5-2a9b16ce2a95",
   "metadata": {},
   "outputs": [
    {
     "name": "stdout",
     "output_type": "stream",
     "text": [
      "RUNNING THE L-BFGS-B CODE\n",
      "\n",
      "           * * *\n",
      "\n",
      "Machine precision = 2.220D-16\n",
      " N =            2     M =           10\n",
      "\n",
      "At X0         0 variables are exactly at the bounds\n",
      "\n",
      "At iterate    0    f=  1.47548D-02    |proj g|=  8.89622D-02\n",
      "\n",
      "At iterate    1    f=  9.13173D-03    |proj g|=  5.66884D-02\n",
      "\n",
      "At iterate    2    f=  8.12106D-03    |proj g|=  2.97699D-02\n",
      "\n",
      "At iterate    3    f=  7.88544D-03    |proj g|=  1.05894D-02\n",
      "\n",
      "At iterate    4    f=  7.77074D-03    |proj g|=  1.45123D-02\n",
      "\n",
      "At iterate    5    f=  6.32323D-03    |proj g|=  5.70231D-02\n",
      "\n",
      "At iterate    6    f=  4.73720D-03    |proj g|=  8.53845D-02\n",
      "\n",
      "At iterate    7    f=  3.94101D-03    |proj g|=  4.53967D-02\n",
      "\n",
      "At iterate    8    f=  8.09283D-04    |proj g|=  7.90200D-02\n",
      "\n",
      "At iterate    9    f=  6.32444D-04    |proj g|=  1.01627D-02\n",
      "\n",
      "At iterate   10    f=  5.28803D-04    |proj g|=  2.69720D-02\n",
      "s1 = 0.4999836368662254 s2 = 0.49998350136824116\n",
      "\n",
      "At iterate   11    f=  5.12538D-04    |proj g|=  1.63890D-02\n",
      "\n",
      "At iterate   12    f=  4.99579D-04    |proj g|=  9.41174D-05\n",
      "\n",
      "At iterate   13    f=  4.99571D-04    |proj g|=  6.40500D-05\n",
      "\n",
      "At iterate   14    f=  4.99571D-04    |proj g|=  8.19489D-06\n",
      "\n",
      "           * * *\n",
      "\n",
      "Tit   = total number of iterations\n",
      "Tnf   = total number of function evaluations\n",
      "Tnint = total number of segments explored during Cauchy searches\n",
      "Skip  = number of BFGS updates skipped\n",
      "Nact  = number of active bounds at final generalized Cauchy point\n",
      "Projg = norm of the final projected gradient\n",
      "F     = final function value\n",
      "\n",
      "           * * *\n",
      "\n",
      "   N    Tit     Tnf  Tnint  Skip  Nact     Projg        F\n",
      "    2     14     17     14     0     0   8.195D-06   4.996D-04\n",
      "  F =   4.9957101084976377E-004\n",
      "\n",
      "CONVERGENCE: NORM_OF_PROJECTED_GRADIENT_<=_PGTOL            \n"
     ]
    },
    {
     "name": "stderr",
     "output_type": "stream",
     "text": [
      "/opt/anaconda3/lib/python3.11/site-packages/scipy/optimize/_minimize.py:576: RuntimeWarning: Method L-BFGS-B cannot handle constraints.\n",
      "  warn('Method %s cannot handle constraints.' % method,\n"
     ]
    }
   ],
   "source": [
    "# Starting guess\n",
    "s_values_start = [np.random.random(), np.random.random()]\n",
    "\n",
    "# Constraints -> s1 + s2 = 1 \n",
    "const = ({'type':'eq',\n",
    "          'fun' : lambda s_values : (s_values[0] + s_values[1] - 1)})\n",
    "# Bounds\n",
    "bounds = ((0.0,1.0),(0.0,1.0))\n",
    "\n",
    "# optimizing\n",
    "result =  spo.minimize(epsilon_func, s_values_start, method='L-BFGS-B', options={'disp':True}, constraints = const, bounds = bounds)\n",
    "\n",
    "# print result\n",
    "s_values = result.x\n",
    "s1 = s_values[0]\n",
    "s2 = s_values[1]\n",
    "print(\"s1 = \" + str(s1) + \" s2 = \" + str(s2))"
   ]
  },
  {
   "cell_type": "code",
   "execution_count": 20,
   "id": "12066f72-f530-4fdf-86ac-7e65e5a6887a",
   "metadata": {},
   "outputs": [
    {
     "data": {
      "text/plain": [
       "0.0004995820845829024"
      ]
     },
     "execution_count": 20,
     "metadata": {},
     "output_type": "execute_result"
    }
   ],
   "source": [
    "# lowest value found above - lowest so Far\n",
    "epsilon_func([0.5, 0.5])"
   ]
  },
  {
   "cell_type": "code",
   "execution_count": 21,
   "id": "7d209ec5-5c25-4826-be36-aede3cf1ef1f",
   "metadata": {},
   "outputs": [
    {
     "name": "stdout",
     "output_type": "stream",
     "text": [
      "0.4999836368662254 0.49998350136824116\n",
      "0.9999671382344666\n"
     ]
    },
    {
     "data": {
      "text/plain": [
       "0.0004995710108497638"
      ]
     },
     "execution_count": 21,
     "metadata": {},
     "output_type": "execute_result"
    }
   ],
   "source": [
    "# minimized value\n",
    "print(s1,s2)\n",
    "print(s1+s2)\n",
    "epsilon_func([s1,s2])\n"
   ]
  },
  {
   "cell_type": "code",
   "execution_count": 22,
   "id": "6c6d3967-a0e9-48d3-8dee-877fac67027d",
   "metadata": {},
   "outputs": [
    {
     "name": "stdout",
     "output_type": "stream",
     "text": [
      "0.0004995710115871328\n",
      "0.0004995710106577283\n",
      "0.0004995710092230183\n",
      "0.0004995710092228119\n"
     ]
    }
   ],
   "source": [
    "print(epsilon_func([0.49998361065319974, 0.49998361065319974]))\n",
    "print(epsilon_func([0.4999837890188431, 0.4999833220272216]))\n",
    "print(epsilon_func([0.49998336258508624,0.49998337866864523]))\n",
    "print(epsilon_func([0.4999833648036424,0.499983365617878]))\n"
   ]
  },
  {
   "cell_type": "markdown",
   "id": "5c33786f-8ca2-408d-9505-bc165fafcdb1",
   "metadata": {},
   "source": [
    "### When m = 3\n",
    "Fix T, $\\lambda\\$ and m = 3"
   ]
  },
  {
   "cell_type": "code",
   "execution_count": 24,
   "id": "159d5bb4-f422-4e57-a66c-0cd433c54038",
   "metadata": {},
   "outputs": [],
   "source": [
    "# Defining the funtion epsilon\n",
    "def epsilon_func(s_values):\n",
    "    s1 = s_values[0]\n",
    "    s2 = s_values[1]\n",
    "    s3 = s_values[2]\n",
    "    lambda_value = 0.1\n",
    "    T = 0.1\n",
    "    A = expm(-1j*(Z+lambda_value*X)*s1*T) @ expm(-1j*(Z-lambda_value*X)*s2*T)\n",
    "    B = A @ expm(-1j*(Z+lambda_value*X)*s3*T)\n",
    "    difference = B - expm(-1j*Z*T)\n",
    "    eigenvalues = svd(difference, compute_uv = False)\n",
    "    epsilon = np.max(eigenvalues)\n",
    "    return epsilon   "
   ]
  },
  {
   "cell_type": "code",
   "execution_count": 25,
   "id": "e21f43e1-5087-49d2-a133-9f160bc1f52e",
   "metadata": {},
   "outputs": [
    {
     "name": "stdout",
     "output_type": "stream",
     "text": [
      "RUNNING THE L-BFGS-B CODE\n",
      "\n",
      "           * * *\n",
      "\n",
      "Machine precision = 2.220D-16\n",
      " N =            3     M =           10\n",
      "\n",
      "At X0         0 variables are exactly at the bounds\n",
      "\n",
      "At iterate    0    f=  4.19327D-02    |proj g|=  1.00454D-01\n",
      "\n",
      "At iterate    1    f=  1.44520D-02    |proj g|=  9.54794D-02\n",
      "\n",
      "At iterate    2    f=  7.63704D-03    |proj g|=  8.34886D-02\n",
      "\n",
      "At iterate    3    f=  4.65651D-03    |proj g|=  1.81620D-02\n",
      "\n",
      "At iterate    4    f=  4.57029D-03    |proj g|=  2.41785D-02\n",
      "\n",
      "At iterate    5    f=  4.19908D-03    |proj g|=  1.14166D-02\n",
      "\n",
      "At iterate    6    f=  2.74728D-03    |proj g|=  8.70156D-02\n",
      "\n",
      "At iterate    7    f=  1.29653D-03    |proj g|=  9.80761D-02\n",
      "\n",
      "At iterate    8    f=  4.66871D-04    |proj g|=  7.35873D-02\n",
      "\n",
      "At iterate    9    f=  3.03353D-04    |proj g|=  3.33480D-02\n",
      "\n",
      "At iterate   10    f=  2.35335D-04    |proj g|=  3.05487D-02\n",
      "\n",
      "At iterate   11    f=  2.32694D-04    |proj g|=  2.95778D-02\n",
      "\n",
      "At iterate   12    f=  2.23737D-04    |proj g|=  2.35191D-03\n",
      "\n",
      "At iterate   13    f=  2.23230D-04    |proj g|=  1.96324D-03\n",
      "\n",
      "At iterate   14    f=  2.20696D-04    |proj g|=  1.48545D-03\n",
      "\n",
      "At iterate   15    f=  2.04823D-04    |proj g|=  7.62261D-03\n",
      "\n",
      "At iterate   16    f=  1.78714D-04    |proj g|=  1.51022D-02\n",
      "\n",
      "At iterate   17    f=  1.25886D-04    |proj g|=  2.72232D-02\n",
      "\n",
      "At iterate   18    f=  6.69076D-05    |proj g|=  2.50752D-02\n",
      "\n",
      "At iterate   19    f=  3.42203D-05    |proj g|=  4.99957D-03\n",
      "\n",
      "At iterate   20    f=  1.70798D-05    |proj g|=  2.08599D-02\n",
      "\n",
      "At iterate   21    f=  8.64977D-06    |proj g|=  2.52683D-02\n",
      "\n",
      "At iterate   22    f=  4.92431D-06    |proj g|=  5.43097D-02\n",
      "\n",
      "At iterate   23    f=  3.08409D-06    |proj g|=  1.56614D-02\n",
      "\n",
      "At iterate   24    f=  1.74632D-06    |proj g|=  1.95631D-02\n",
      "\n",
      "At iterate   25    f=  1.35193D-06    |proj g|=  7.92274D-02\n",
      "\n",
      "At iterate   26    f=  7.51669D-07    |proj g|=  8.92263D-03\n",
      "\n",
      "At iterate   27    f=  3.62929D-07    |proj g|=  6.99718D-02\n",
      "\n",
      "At iterate   28    f=  1.95826D-07    |proj g|=  9.14205D-02\n",
      "\n",
      "At iterate   29    f=  1.14066D-07    |proj g|=  6.63586D-03\n",
      "\n",
      "At iterate   30    f=  9.05788D-08    |proj g|=  2.45435D-02\n",
      "\n",
      "At iterate   31    f=  4.77008D-08    |proj g|=  8.10078D-02\n",
      "\n",
      "At iterate   32    f=  2.40362D-08    |proj g|=  5.03313D-02\n",
      "\n",
      "At iterate   33    f=  1.31668D-08    |proj g|=  1.80582D-02\n",
      "s1 =  0.25031248254681976  s2 =  0.49937645064328906  s3 =  0.2503151941424652\n",
      "\n",
      "At iterate   34    f=  8.35912D-09    |proj g|=  8.67619D-02\n",
      "\n",
      "At iterate   35    f=  6.26400D-09    |proj g|=  5.87011D-02\n",
      "\n",
      "           * * *\n",
      "\n",
      "Tit   = total number of iterations\n",
      "Tnf   = total number of function evaluations\n",
      "Tnint = total number of segments explored during Cauchy searches\n",
      "Skip  = number of BFGS updates skipped\n",
      "Nact  = number of active bounds at final generalized Cauchy point\n",
      "Projg = norm of the final projected gradient\n",
      "F     = final function value\n",
      "\n",
      "           * * *\n",
      "\n",
      "   N    Tit     Tnf  Tnint  Skip  Nact     Projg        F\n",
      "    3     35     61     39     0     0   5.870D-02   6.264D-09\n",
      "  F =   6.2639980558758486E-009\n",
      "\n",
      "CONVERGENCE: REL_REDUCTION_OF_F_<=_FACTR*EPSMCH             \n"
     ]
    },
    {
     "name": "stderr",
     "output_type": "stream",
     "text": [
      "\n",
      " Nonpositive definiteness in Cholesky factorization in formk;\n",
      "   refresh the lbfgs memory and restart the iteration.\n"
     ]
    }
   ],
   "source": [
    "# Starting guess\n",
    "s_values_start = [np.random.random(),np.random.random(), np.random.random()]\n",
    "\n",
    "# Constraints -> s1 + s2 + s3 = 1 \n",
    "const = ({'type':'eq',\n",
    "          'fun' : lambda s_values : (s_values[0] + s_values[1] + s_values[2] - 1)})\n",
    "# Bounds\n",
    "bounds = ((0.0,1.0),(0.0,1.0),(0.0,1.0))\n",
    "\n",
    "# optimizing\n",
    "result =  spo.minimize(epsilon_func, s_values_start, method='L-BFGS-B', options={'disp':True}, constraints = const, bounds = bounds)\n",
    "\n",
    "# print result\n",
    "s_values = result.x\n",
    "s1 = s_values[0]\n",
    "s2 = s_values[1]\n",
    "s3 = s_values[2]\n",
    "print(\"s1 = \", s1, \" s2 = \", s2, \" s3 = \", s3)"
   ]
  },
  {
   "cell_type": "code",
   "execution_count": 26,
   "id": "0f251f03-8314-4db7-abdc-8be206ffcdd9",
   "metadata": {},
   "outputs": [
    {
     "data": {
      "text/plain": [
       "1.249909813324557e-05"
      ]
     },
     "execution_count": 26,
     "metadata": {},
     "output_type": "execute_result"
    }
   ],
   "source": [
    "# lowest value found above\n",
    "epsilon_func([1/4,1/2,1/4])"
   ]
  },
  {
   "cell_type": "code",
   "execution_count": 27,
   "id": "81cfe310-b5f1-42b8-ba0a-07329491c8af",
   "metadata": {},
   "outputs": [
    {
     "name": "stdout",
     "output_type": "stream",
     "text": [
      "1.0000041273325742\n",
      "s1=  0.25031248254681976 s2 =  0.49937645064328906 s3= 0.2503151941424652\n"
     ]
    },
    {
     "data": {
      "text/plain": [
       "6.263998055875849e-09"
      ]
     },
     "execution_count": 27,
     "metadata": {},
     "output_type": "execute_result"
    }
   ],
   "source": [
    "# minimized value\n",
    "print(s1+s2+s3)\n",
    "print(\"s1= \", s1, \"s2 = \", s2, \"s3=\", s3)\n",
    "epsilon_func([s1,s2,s3])\n"
   ]
  },
  {
   "cell_type": "code",
   "execution_count": 28,
   "id": "b935014b-3d51-44cb-a3d2-e78897f88a43",
   "metadata": {},
   "outputs": [
    {
     "name": "stdout",
     "output_type": "stream",
     "text": [
      "0.25031248254681976 0.49937645064328906 0.2503151941424652\n",
      "2.7011641425558947e-09\n",
      "4.16299704372454e-07\n",
      "9.637770643047125e-10\n",
      "4.571626303785287e-10\n",
      "1.0\n"
     ]
    },
    {
     "data": {
      "text/plain": [
       "4.165208333609877e-07"
      ]
     },
     "execution_count": 28,
     "metadata": {},
     "output_type": "execute_result"
    }
   ],
   "source": [
    "# lowest found\n",
    "print(s1,s2,s3)\n",
    "print(epsilon_func([0.2503131326075795, 0.4993768041187886, 0.25031423701763944]))\n",
    "#s1 =  0.25031269456576893  s2 =  0.49937461113734705  s3 =  0.2503126942968841\n",
    "#4.16299704372454e-07\n",
    "print(epsilon_func([0.25031269456576893,0.49937461113734705,0.2503126942968841]))\n",
    "print(epsilon_func([0.2503139951814718,0.49937672578019454,0.2503134407280822]))\n",
    "print(epsilon_func([0.250313782188061,0.4993766735025422,0.2503137106126561]))\n",
    "\n",
    "s1 =  0.2503130334449466  \n",
    "s2 =  0.49937393184986445  \n",
    "s3 =  0.250313034705189\n",
    "print(s1+s2+s3)\n",
    "epsilon_func([s1,s2,s3])"
   ]
  },
  {
   "cell_type": "markdown",
   "id": "9cd68bdd-ab57-45c4-9af5-3e6562bb37bc",
   "metadata": {},
   "source": [
    "### When m = 4\n",
    "Fix T, $\\lambda\\$ and m = 4"
   ]
  },
  {
   "cell_type": "code",
   "execution_count": 30,
   "id": "99696099-cfce-4ef1-b68f-73b1295dbbbd",
   "metadata": {},
   "outputs": [],
   "source": [
    "# Defining the funtion epsilon\n",
    "def epsilon_func(s_values):\n",
    "    s1 = s_values[0]\n",
    "    s2 = s_values[1]\n",
    "    s3 = s_values[2]\n",
    "    s4 = s_values[3]\n",
    "    lambda_value = 0.1\n",
    "    T = 0.1\n",
    "    A = expm(-1j*(Z+lambda_value*X)*s1*T)@ expm(-1j*(Z-lambda_value*X)*s2*T) @ expm(-1j*(Z+lambda_value*X)*s3*T)@ expm(-1j*(Z-lambda_value*X)*s4*T)\n",
    "    difference = A - expm(-1j*Z*T)\n",
    "    eigenvalues = svd(difference, compute_uv = False)\n",
    "    epsilon = np.max(eigenvalues)\n",
    "    return epsilon   "
   ]
  },
  {
   "cell_type": "code",
   "execution_count": 31,
   "id": "474a9b77-610a-4cd0-9734-5c7a714d637b",
   "metadata": {},
   "outputs": [
    {
     "name": "stderr",
     "output_type": "stream",
     "text": [
      "\n",
      " Nonpositive definiteness in Cholesky factorization in formk;\n",
      "   refresh the lbfgs memory and restart the iteration.\n"
     ]
    },
    {
     "name": "stdout",
     "output_type": "stream",
     "text": [
      "RUNNING THE L-BFGS-B CODE\n",
      "\n",
      "           * * *\n",
      "\n",
      "Machine precision = 2.220D-16\n",
      " N =            4     M =           10\n",
      "\n",
      "At X0         0 variables are exactly at the bounds\n",
      "\n",
      "At iterate    0    f=  6.50574D-02    |proj g|=  1.00432D-01\n",
      "\n",
      "At iterate    1    f=  3.08090D-02    |proj g|=  1.00287D-01\n",
      "\n",
      "At iterate    2    f=  4.06931D-03    |proj g|=  4.15649D-02\n",
      "\n",
      "At iterate    3    f=  3.77316D-03    |proj g|=  1.44256D-02\n",
      "\n",
      "At iterate    4    f=  2.94260D-03    |proj g|=  5.51612D-02\n",
      "\n",
      "At iterate    5    f=  1.74596D-03    |proj g|=  9.64784D-02\n",
      "\n",
      "At iterate    6    f=  4.95738D-04    |proj g|=  2.79111D-02\n",
      "\n",
      "At iterate    7    f=  4.23806D-04    |proj g|=  3.14543D-02\n",
      "\n",
      "At iterate    8    f=  4.03176D-04    |proj g|=  2.76298D-03\n",
      "\n",
      "At iterate    9    f=  4.02998D-04    |proj g|=  6.50521D-04\n",
      "\n",
      "At iterate   10    f=  4.02987D-04    |proj g|=  5.37269D-04\n",
      "\n",
      "At iterate   11    f=  4.02937D-04    |proj g|=  4.79368D-04\n",
      "\n",
      "At iterate   12    f=  4.02443D-04    |proj g|=  1.75647D-03\n",
      "\n",
      "At iterate   13    f=  4.01537D-04    |proj g|=  3.41727D-03\n",
      "\n",
      "At iterate   14    f=  3.98738D-04    |proj g|=  6.66788D-03\n",
      "\n",
      "At iterate   15    f=  3.91682D-04    |proj g|=  1.19240D-02\n",
      "\n",
      "At iterate   16    f=  3.72275D-04    |proj g|=  2.19702D-02\n",
      "\n",
      "At iterate   17    f=  3.29172D-04    |proj g|=  4.11091D-02\n",
      "\n",
      "At iterate   18    f=  2.73383D-04    |proj g|=  5.26523D-02\n",
      "\n",
      "At iterate   19    f=  1.65503D-04    |proj g|=  3.89952D-02\n",
      "\n",
      "At iterate   20    f=  7.98510D-05    |proj g|=  4.96670D-02\n",
      "\n",
      "At iterate   21    f=  4.27272D-05    |proj g|=  9.83312D-02\n",
      "\n",
      "At iterate   22    f=  2.01706D-05    |proj g|=  7.34897D-02\n",
      "\n",
      "At iterate   23    f=  1.34658D-05    |proj g|=  6.96149D-03\n",
      "\n",
      "At iterate   24    f=  9.06834D-06    |proj g|=  7.13902D-02\n",
      "\n",
      "At iterate   25    f=  4.75695D-06    |proj g|=  9.94334D-02\n",
      "\n",
      "At iterate   26    f=  2.57243D-06    |proj g|=  5.71136D-02\n",
      "\n",
      "At iterate   27    f=  1.48906D-06    |proj g|=  2.76223D-02\n",
      "\n",
      "At iterate   28    f=  9.73013D-07    |proj g|=  8.63694D-02\n",
      "\n",
      "At iterate   29    f=  6.10999D-07    |proj g|=  9.49436D-02\n",
      "\n",
      "At iterate   30    f=  3.12314D-07    |proj g|=  3.39919D-02\n",
      "\n",
      "At iterate   31    f=  1.73671D-07    |proj g|=  5.29392D-02\n",
      "\n",
      "At iterate   32    f=  1.07243D-07    |proj g|=  9.82116D-02\n",
      "\n",
      "At iterate   33    f=  6.73892D-08    |proj g|=  7.11352D-02\n",
      "\n",
      "At iterate   34    f=  4.00266D-08    |proj g|=  1.15714D-02\n",
      "\n",
      "At iterate   35    f=  2.10849D-08    |proj g|=  7.77397D-02\n",
      "\n",
      "At iterate   36    f=  1.27793D-08    |proj g|=  9.07029D-02\n",
      "\n",
      "At iterate   37    f=  8.21297D-09    |proj g|=  6.20302D-02\n",
      "\n",
      "At iterate   38    f=  4.60455D-09    |proj g|=  3.57832D-02\n",
      "\n",
      "At iterate   39    f=  2.11086D-09    |proj g|=  8.19636D-02\n",
      "\n",
      "At iterate   40    f=  7.68245D-10    |proj g|=  8.31164D-02\n",
      "s1 =  0.16006624314636198  s2 =  0.36749355457507377  s3 =  0.3400038084277212  s4 =  0.13243844538176264\n",
      "\n",
      "At iterate   41    f=  6.93879D-10    |proj g|=  7.23518D-02\n",
      "\n",
      "           * * *\n",
      "\n",
      "Tit   = total number of iterations\n",
      "Tnf   = total number of function evaluations\n",
      "Tnint = total number of segments explored during Cauchy searches\n",
      "Skip  = number of BFGS updates skipped\n",
      "Nact  = number of active bounds at final generalized Cauchy point\n",
      "Projg = norm of the final projected gradient\n",
      "F     = final function value\n",
      "\n",
      "           * * *\n",
      "\n",
      "   N    Tit     Tnf  Tnint  Skip  Nact     Projg        F\n",
      "    4     41     71     46     0     0   7.235D-02   6.939D-10\n",
      "  F =   6.9387930256677481E-010\n",
      "\n",
      "CONVERGENCE: REL_REDUCTION_OF_F_<=_FACTR*EPSMCH             \n"
     ]
    }
   ],
   "source": [
    "# Starting guess\n",
    "#s_values_start = [0,0,0,0]\n",
    "s_values_start = [np.random.random(), np.random.random(), np.random.random(), np.random.random()]\n",
    "\n",
    "# Constraints -> s1 + s2 + s3 + s4 = 1 \n",
    "const = ({'type':'eq',\n",
    "          'fun' : lambda s_values : (s_values[0] + s_values[1] + s_values[2] + s_values[3]- 1)})\n",
    "# Bounds\n",
    "bounds = ((0.0,1.0),(0.0,1.0),(0.0,1.0),(0.0, 1.0))\n",
    "\n",
    "# optimizing\n",
    "result =  spo.minimize(epsilon_func, s_values_start, method='L-BFGS-B', options={'disp':True,'ftol': 1e-10}, constraints = const, bounds = bounds)\n",
    "\n",
    "# print result\n",
    "s_values = result.x\n",
    "s1 = s_values[0]\n",
    "s2 = s_values[1]\n",
    "s3 = s_values[2]\n",
    "s4 = s_values[3]\n",
    "print(\"s1 = \", s1, \" s2 = \", s2, \" s3 = \", s3, \" s4 = \", s4)"
   ]
  },
  {
   "cell_type": "code",
   "execution_count": 32,
   "id": "18ff4ff2-19c5-4f83-8130-3d86f93dafdb",
   "metadata": {},
   "outputs": [
    {
     "data": {
      "text/plain": [
       "2.9031863259118986e-07"
      ]
     },
     "execution_count": 32,
     "metadata": {},
     "output_type": "execute_result"
    }
   ],
   "source": [
    "# lowest s in prev part\n",
    "epsilon_func([0.14644660940672624, 0.3535533905932736, 0.35355339059327384, 0.14644660940672627])"
   ]
  },
  {
   "cell_type": "code",
   "execution_count": 33,
   "id": "c08d8af1-d7d5-4f85-bda9-7705af7fd8d7",
   "metadata": {},
   "outputs": [
    {
     "name": "stdout",
     "output_type": "stream",
     "text": [
      "1.0000020515309196\n",
      "0.16006624314636198 0.36749355457507377 0.3400038084277212 0.13243844538176264\n"
     ]
    },
    {
     "data": {
      "text/plain": [
       "6.938793025667748e-10"
      ]
     },
     "execution_count": 33,
     "metadata": {},
     "output_type": "execute_result"
    }
   ],
   "source": [
    "# minimized values\n",
    "print(s1+s2+s3+s4)\n",
    "print(s1, s2, s3, s4)\n",
    "epsilon_func([s1,s2,s3,s4])\n"
   ]
  },
  {
   "cell_type": "code",
   "execution_count": 34,
   "id": "3bc68add-04c3-49a8-9479-6bb6282df1c9",
   "metadata": {},
   "outputs": [
    {
     "name": "stdout",
     "output_type": "stream",
     "text": [
      "2.028214955034198e-07\n",
      "2.0229474578497696e-07\n",
      "3.5239377130349133e-09\n",
      "1.8201361302785667e-09\n",
      "1.5676595736022162e-09\n",
      "1.3185843644749708e-09\n",
      "1.000003292836711\n"
     ]
    },
    {
     "data": {
      "text/plain": [
       "9.336118110792099e-08"
      ]
     },
     "execution_count": 34,
     "metadata": {},
     "output_type": "execute_result"
    }
   ],
   "source": [
    "print(epsilon_func([0.14002269377036433,0.3471307048304575,0.35994513617231017,0.1529014652268681] ))\n",
    "print(epsilon_func([0.14852368879439615,0.35548431730913477,0.3514863478995621,0.144505645996907]))\n",
    "print(epsilon_func([0.18260355134222295,0.3934429524912896,0.31758791595654123,0.10636778240906868]))\n",
    "print(epsilon_func([0.11201090406009984,0.3221869714667899,0.3878254228854342,0.17797886271369787]))\n",
    "print(epsilon_func([0.15660249719595007,0.36380421129713986,0.3434496115008143,0.13614572318190296]))\n",
    "print(epsilon_func([0.16772630320693488,0.37592124270119004,0.3323840437689914,0.12397048978012597]))\n",
    "print(epsilon_func([0.16006624314636198,0.36749355457507377,0.3400038084277212,0.13243844538176264]))\n",
    "#lowest found\n",
    "\n",
    "#s1 =  0.14002269377036433\n",
    "#s2 =  0.3471307048304575  \n",
    "#s3 =  0.35994513617231017  \n",
    "#s4 =  0.1529014652268681\n",
    "# 2.0282149550342433e-07\n",
    "\n",
    "#s1 =  0.14852368879439615  \n",
    "#s2 =  0.35548431730913477  \n",
    "#s3 =  0.3514863478995621  \n",
    "#s4 =  0.144505645996907\n",
    "# 2.022947457958505e-07\n",
    "\n",
    "s1 =  0.03765566095204766  \n",
    "s2 =  0.27063906421385175  \n",
    "s3 =  0.4618681202205331  \n",
    "s4 =  0.22984044745027865\n",
    "print(s1+s2+s3+s4)\n",
    "epsilon_func([s1,s2,s3,s4])"
   ]
  },
  {
   "cell_type": "markdown",
   "id": "ab5e6bfb-ddf2-451f-bc36-44d06499134d",
   "metadata": {},
   "source": [
    "### When m = 6\n",
    "Fix T, $\\lambda\\$ and m = 6"
   ]
  },
  {
   "cell_type": "code",
   "execution_count": 36,
   "id": "2b8fe0f1-dc7a-4014-b742-7ca39b49a78d",
   "metadata": {},
   "outputs": [],
   "source": [
    "# Defining the funtion epsilon\n",
    "def epsilon_func(s_values):\n",
    "    s1 = s_values[0]\n",
    "    s2 = s_values[1]\n",
    "    s3 = s_values[2]\n",
    "    s4 = s_values[3]\n",
    "    s5 = s_values[4]\n",
    "    s6 = s_values[5]\n",
    "    lambda_value = 0.1\n",
    "    T = 0.1\n",
    "    A = expm(-1j*(Z+lambda_value*X)*s1*T) @ expm(-1j*(Z-lambda_value*X)*s2*T) @ expm(-1j*(Z+lambda_value*X)*s3*T) @ expm(-1j*(Z-lambda_value*X)*s4*T) @ expm(-1j*(Z+lambda_value*X)*s5*T) @ expm(-1j*(Z-lambda_value*X)*s6*T)\n",
    "    \n",
    "    difference = A - expm(-1j*Z*T)\n",
    "    eigenvalues = svd(difference, compute_uv = False)\n",
    "    epsilon = np.max(eigenvalues)\n",
    "    return epsilon   "
   ]
  },
  {
   "cell_type": "code",
   "execution_count": 37,
   "id": "d21b2998-1a67-4fa8-b943-896003aef27e",
   "metadata": {},
   "outputs": [
    {
     "name": "stdout",
     "output_type": "stream",
     "text": [
      "RUNNING THE L-BFGS-B CODE\n",
      "\n",
      "           * * *\n",
      "\n",
      "Machine precision = 2.220D-16\n",
      " N =            6     M =           10\n",
      "\n",
      "At X0         0 variables are exactly at the bounds\n",
      "\n",
      "At iterate    0    f=  2.39171D-01    |proj g|=  9.93721D-02\n",
      "\n",
      "At iterate    1    f=  1.81480D-01    |proj g|=  9.97126D-02\n",
      "  ys=-1.741E-04  -gs= 5.760E-02 BFGS update SKIPPED\n",
      "\n",
      "At iterate    2    f=  2.04585D-02    |proj g|=  9.88474D-02\n",
      "\n",
      "At iterate    3    f=  5.48428D-03    |proj g|=  6.30327D-02\n",
      "\n",
      "At iterate    4    f=  4.69098D-03    |proj g|=  3.56732D-02\n",
      "\n",
      "At iterate    5    f=  4.49983D-03    |proj g|=  1.13212D-02\n",
      "\n",
      "At iterate    6    f=  4.32396D-03    |proj g|=  1.53910D-02\n",
      "\n",
      "At iterate    7    f=  4.13351D-03    |proj g|=  1.01357D-02\n",
      "\n",
      "At iterate    8    f=  3.43549D-03    |proj g|=  1.00482D-01\n",
      "\n",
      "At iterate    9    f=  2.13193D-03    |proj g|=  7.64595D-02\n",
      "\n",
      "At iterate   10    f=  1.38296D-03    |proj g|=  5.68801D-02\n",
      "\n",
      "At iterate   11    f=  8.76696D-04    |proj g|=  3.95132D-02\n",
      "\n",
      "At iterate   12    f=  3.83267D-04    |proj g|=  9.70750D-02\n",
      "\n",
      "At iterate   13    f=  2.02361D-04    |proj g|=  8.19755D-02\n",
      "\n",
      "At iterate   14    f=  9.97716D-05    |proj g|=  1.07418D-02\n",
      "\n",
      "At iterate   15    f=  4.88009D-05    |proj g|=  9.40728D-02\n",
      "\n",
      "At iterate   16    f=  2.43696D-05    |proj g|=  9.55069D-02\n",
      "\n",
      "At iterate   17    f=  1.19453D-05    |proj g|=  1.35081D-02\n",
      "\n",
      "At iterate   18    f=  6.17387D-06    |proj g|=  7.85149D-02\n",
      "\n",
      "At iterate   19    f=  3.11893D-06    |proj g|=  8.90425D-02\n",
      "\n"
     ]
    },
    {
     "name": "stderr",
     "output_type": "stream",
     "text": [
      "\n",
      " Nonpositive definiteness in Cholesky factorization in formk;\n",
      "   refresh the lbfgs memory and restart the iteration.\n"
     ]
    },
    {
     "name": "stdout",
     "output_type": "stream",
     "text": [
      "At iterate   20    f=  1.86714D-06    |proj g|=  3.29147D-02\n",
      "\n",
      "At iterate   21    f=  1.36872D-06    |proj g|=  2.01395D-02\n",
      "\n",
      "At iterate   22    f=  1.30068D-06    |proj g|=  1.81485D-03\n",
      "\n",
      "At iterate   23    f=  1.30040D-06    |proj g|=  1.28788D-03\n",
      "\n",
      "At iterate   24    f=  1.29983D-06    |proj g|=  2.31157D-03\n",
      "\n",
      "At iterate   25    f=  1.29718D-06    |proj g|=  5.35771D-03\n",
      "\n",
      "At iterate   26    f=  1.29142D-06    |proj g|=  9.42226D-03\n",
      "\n",
      "At iterate   27    f=  1.27541D-06    |proj g|=  1.65333D-02\n",
      "\n",
      "At iterate   28    f=  1.23590D-06    |proj g|=  2.76594D-02\n",
      "\n",
      "At iterate   29    f=  1.13944D-06    |proj g|=  4.55801D-02\n",
      "\n",
      "At iterate   30    f=  9.36003D-07    |proj g|=  7.18001D-02\n",
      "\n",
      "At iterate   31    f=  6.22134D-07    |proj g|=  9.13234D-02\n",
      "\n",
      "At iterate   32    f=  3.26319D-07    |proj g|=  1.75433D-02\n",
      "\n",
      "At iterate   33    f=  1.29463D-07    |proj g|=  6.89371D-02\n",
      "\n",
      "At iterate   34    f=  7.69441D-08    |proj g|=  6.86135D-02\n",
      "\n",
      "At iterate   35    f=  5.02055D-08    |proj g|=  5.03056D-02\n",
      "\n",
      "At iterate   36    f=  2.50103D-08    |proj g|=  4.75932D-02\n",
      "\n",
      "At iterate   37    f=  1.38880D-08    |proj g|=  7.25372D-02\n",
      "\n",
      "At iterate   38    f=  7.88419D-09    |proj g|=  8.02925D-02\n",
      "\n",
      "At iterate   39    f=  5.45661D-09    |proj g|=  1.36267D-02\n",
      "\n",
      "At iterate   40    f=  3.56000D-09    |proj g|=  5.42287D-02\n",
      "\n",
      "At iterate   41    f=  2.34565D-09    |proj g|=  8.92829D-02\n",
      "\n",
      "At iterate   42    f=  1.10377D-09    |proj g|=  2.94013D-03\n",
      "\n",
      "At iterate   43    f=  7.47058D-10    |proj g|=  8.39127D-03\n",
      "\n",
      "At iterate   44    f=  3.08921D-10    |proj g|=  4.46619D-02\n",
      "s1 = \n",
      "At iterate   45    f=  3.08921D-10    |proj g|=  4.46619D-02\n",
      "\n",
      "           * * *\n",
      "\n",
      "Tit   = total number of iterations\n",
      "Tnf   = total number of function evaluations\n",
      "Tnint = total number of segments explored during Cauchy searches\n",
      "Skip  = number of BFGS updates skipped\n",
      "Nact  = number of active bounds at final generalized Cauchy point\n",
      "Projg = norm of the final projected gradient\n",
      "F     = final function value\n",
      "\n",
      "           * * *\n",
      "\n",
      "   N    Tit     Tnf  Tnint  Skip  Nact     Projg        F\n",
      "    6     45     87     52     1     0   4.466D-02   3.089D-10\n",
      "  F =   3.0892130263261764E-010\n",
      "\n",
      "CONVERGENCE: REL_REDUCTION_OF_F_<=_FACTR*EPSMCH             \n",
      " 1.527397593863873e-07  s2 =  0.09772390764327207  s3 =  0.26297382248757434  s4 =  0.3211920751616943  s5 =  0.2370595182619856  s6 =  0.08105182450709249\n"
     ]
    },
    {
     "name": "stderr",
     "output_type": "stream",
     "text": [
      "\n",
      " Warning:  more than 10 function and gradient\n",
      "   evaluations in the last line search.  Termination\n",
      "   may possibly be caused by a bad search direction.\n"
     ]
    }
   ],
   "source": [
    "# Starting guess\n",
    "s_values_start = [np.random.random(), np.random.random(), np.random.random(), np.random.random(), np.random.random(), np.random.random()]\n",
    "\n",
    "# Constraints -> s1 + s2 + s3 + s4 + s5 + s6 = 1 \n",
    "const = ({'type':'eq',\n",
    "          'fun' : lambda s_values : (s_values[0] + s_values[1] + s_values[2] + s_values[3] + s_values[4] + s_values[5] - 1)})\n",
    "# Bounds\n",
    "bounds = ((0.0,1.0),(0.0,1.0),(0.0,1.0),(0.0, 1.0),(0.0,1.0),(0.0, 1.0))\n",
    "\n",
    "# optimizing\n",
    "result =  spo.minimize(epsilon_func, s_values_start, method='L-BFGS-B', options={'disp':True, 'ftol': 1e-10}, constraints = const, bounds = bounds)\n",
    "\n",
    "# print result\n",
    "s_values = result.x\n",
    "s1 = s_values[0]\n",
    "s2 = s_values[1]\n",
    "s3 = s_values[2]\n",
    "s4 = s_values[3]\n",
    "s5 = s_values[4]\n",
    "s6 = s_values[5]\n",
    "print(\"s1 = \", s1, \" s2 = \", s2, \" s3 = \", s3, \" s4 = \", s4,\" s5 = \", s5, \" s6 = \", s6)"
   ]
  },
  {
   "cell_type": "code",
   "execution_count": 38,
   "id": "9c6a5aba-cd34-4577-8679-d461e6e14c56",
   "metadata": {},
   "outputs": [
    {
     "data": {
      "text/plain": [
       "8.175186760529897e-08"
      ]
     },
     "execution_count": 38,
     "metadata": {},
     "output_type": "execute_result"
    }
   ],
   "source": [
    "# lowest s in prev part\n",
    "epsilon_func([0.06698729810778066, 0.1830127018922193, 0.24999999999999994, 0.25, 0.18301270189221952, 0.06698729810778059])"
   ]
  },
  {
   "cell_type": "code",
   "execution_count": 39,
   "id": "490bedcf-1426-4190-8392-7195a7110cdc",
   "metadata": {},
   "outputs": [
    {
     "name": "stdout",
     "output_type": "stream",
     "text": [
      "1.0000013008013782\n",
      "1.527397593863873e-07 0.09772390764327207 0.26297382248757434 0.3211920751616943 0.2370595182619856 0.08105182450709249\n"
     ]
    },
    {
     "data": {
      "text/plain": [
       "3.0892130263261764e-10"
      ]
     },
     "execution_count": 39,
     "metadata": {},
     "output_type": "execute_result"
    }
   ],
   "source": [
    "# minimized values\n",
    "print(s1+s2+s3+s4+s5+s6)\n",
    "print(s1,s2,s3,s4,s5,s6)\n",
    "epsilon_func([s1,s2,s3,s4,s5,s6])\n"
   ]
  },
  {
   "cell_type": "code",
   "execution_count": 40,
   "id": "cd54c874-bad9-474d-b1c4-48b4e8feda15",
   "metadata": {},
   "outputs": [
    {
     "name": "stdout",
     "output_type": "stream",
     "text": [
      "1.0000007644360716\n"
     ]
    },
    {
     "data": {
      "text/plain": [
       "6.570497960815582e-10"
      ]
     },
     "execution_count": 40,
     "metadata": {},
     "output_type": "execute_result"
    }
   ],
   "source": [
    "print(epsilon_func([1.527397593863873e-07,0.09772390764327207,0.26297382248757434,0.3211920751616943,0.2370595182619856,0.08105182450709249]))\n",
    "#lowest found\n",
    "s1 =  0.10910226983427064  \n",
    "s2 =  0.22407462624604563  \n",
    "s3 =  0.16682131132939915  \n",
    "s4 =  0.16682177187577263  \n",
    "s5 =  0.2240768041956014  \n",
    "s6 =  0.10910398095498218\n",
    "print(s1+s2+s3+s4+s5+s6)\n",
    "epsilon_func([s1,s2,s3,s4,s5,s6])\n"
   ]
  },
  {
   "cell_type": "markdown",
   "id": "70011b33-7fcc-49bb-9040-8167f99a9281",
   "metadata": {},
   "source": [
    "### When m = 8\n",
    "Fix T, $\\lambda\\$ and m = 8"
   ]
  },
  {
   "cell_type": "code",
   "execution_count": 42,
   "id": "0e1285e0-1ae1-4c6f-9f58-90f0de956bfe",
   "metadata": {},
   "outputs": [],
   "source": [
    "# Defining the funtion epsilon\n",
    "def epsilon_func(s_values):\n",
    "    s1 = s_values[0]\n",
    "    s2 = s_values[1]\n",
    "    s3 = s_values[2]\n",
    "    s4 = s_values[3]\n",
    "    s5 = s_values[4]\n",
    "    s6 = s_values[5]\n",
    "    s7 = s_values[6]\n",
    "    s8 = s_values[7]\n",
    "    lambda_value = 0.1\n",
    "    T = 0.1\n",
    "    A = expm(-1j*(Z+lambda_value*X)*s1*T) @ expm(-1j*(Z-lambda_value*X)*s2*T) @ expm(-1j*(Z+lambda_value*X)*s3*T) @ expm(-1j*(Z-lambda_value*X)*s4*T) @ expm(-1j*(Z+lambda_value*X)*s5*T) @ expm(-1j*(Z-lambda_value*X)*s6*T)@ expm(-1j*(Z-lambda_value*X)*s7*T) @ expm(-1j*(Z+lambda_value*X)*s8*T)\n",
    "    \n",
    "    difference = A - expm(-1j*Z*T)\n",
    "    eigenvalues = svd(difference, compute_uv = False)\n",
    "    epsilon = np.max(eigenvalues)\n",
    "    return epsilon   "
   ]
  },
  {
   "cell_type": "code",
   "execution_count": 43,
   "id": "c697701d-923f-4ae8-a36e-39733a873d0f",
   "metadata": {},
   "outputs": [
    {
     "name": "stdout",
     "output_type": "stream",
     "text": [
      "RUNNING THE L-BFGS-B CODE\n",
      "\n",
      "           * * *\n",
      "\n",
      "Machine precision = 2.220D-16\n",
      " N =            8     M =           10\n",
      "\n",
      "At X0         0 variables are exactly at the bounds\n",
      "\n",
      "At iterate    0    f=  3.74895D-01    |proj g|=  9.84245D-02\n",
      "\n",
      "At iterate    1    f=  2.99971D-01    |proj g|=  9.91028D-02\n",
      "  ys=-4.809E-04  -gs= 7.467E-02 BFGS update SKIPPED\n",
      "\n",
      "At iterate    2    f=  4.54200D-02    |proj g|=  1.00468D-01\n",
      "  ys=-1.928E-03  -gs= 2.529E-01 BFGS update SKIPPED\n",
      "\n",
      "At iterate    3    f=  3.00133D-03    |proj g|=  3.50844D-02\n",
      "\n",
      "At iterate    4    f=  2.90066D-03    |proj g|=  1.10540D-02\n",
      "\n",
      "At iterate    5    f=  2.57795D-03    |proj g|=  1.08420D-02\n",
      "\n",
      "At iterate    6    f=  2.43994D-03    |proj g|=  1.63635D-02\n",
      "\n",
      "At iterate    7    f=  1.89331D-03    |proj g|=  9.88255D-02\n",
      "\n",
      "At iterate    8    f=  1.15288D-03    |proj g|=  7.74506D-02\n",
      "\n",
      "At iterate    9    f=  7.13403D-04    |proj g|=  1.79441D-02\n",
      "\n",
      "At iterate   10    f=  5.81273D-04    |proj g|=  6.84420D-02\n",
      "\n",
      "At iterate   11    f=  3.74010D-04    |proj g|=  1.47085D-02\n",
      "\n",
      "At iterate   12    f=  3.36509D-04    |proj g|=  9.75488D-03\n",
      "\n",
      "At iterate   13    f=  3.34712D-04    |proj g|=  6.58167D-03\n",
      "\n",
      "At iterate   14    f=  3.34216D-04    |proj g|=  3.15425D-03\n",
      "\n",
      "At iterate   15    f=  3.33587D-04    |proj g|=  1.47234D-03\n",
      "\n",
      "At iterate   16    f=  3.31374D-04    |proj g|=  7.41831D-03\n",
      "\n",
      "At iterate   17    f=  3.26296D-04    |proj g|=  1.59556D-02\n",
      "\n",
      "At iterate   18    f=  3.12713D-04    |proj g|=  3.08524D-02\n",
      "\n",
      "At iterate   19    f=  2.80889D-04    |proj g|=  5.52211D-02\n",
      "  Positive dir derivative in projection \n",
      "  Using the backtracking step \n",
      "\n",
      "At iterate   20    f=  2.33474D-04    |proj g|=  6.92081D-02\n",
      "\n",
      "At iterate   21    f=  1.88700D-04    |proj g|=  4.65746D-02\n",
      "\n",
      "At iterate   22    f=  1.79943D-04    |proj g|=  4.47200D-02\n",
      "\n",
      "At iterate   23    f=  1.60346D-04    |proj g|=  3.23468D-03\n",
      "\n",
      "At iterate   24    f=  1.60245D-04    |proj g|=  3.77898D-03\n",
      "\n",
      "At iterate   25    f=  1.59422D-04    |proj g|=  2.46715D-03\n",
      "\n",
      "At iterate   26    f=  1.29299D-04    |proj g|=  4.64239D-02\n",
      "\n",
      "At iterate   27    f=  1.16945D-04    |proj g|=  6.55555D-03\n",
      "\n",
      "At iterate   28    f=  1.16924D-04    |proj g|=  4.57919D-03\n",
      "\n",
      "At iterate   29    f=  8.49272D-05    |proj g|=  1.50087D-02\n",
      "\n",
      "At iterate   30    f=  3.84739D-05    |proj g|=  1.82053D-02\n",
      "\n",
      "At iterate   31    f=  2.00120D-05    |proj g|=  3.81435D-03\n",
      "\n",
      "At iterate   32    f=  8.62934D-06    |proj g|=  1.44099D-02\n",
      "\n",
      "At iterate   33    f=  4.64285D-06    |proj g|=  1.63978D-02\n",
      "\n",
      "At iterate   34    f=  2.25167D-06    |proj g|=  5.00523D-03\n",
      "\n",
      "At iterate   35    f=  1.70998D-06    |proj g|=  7.27041D-02\n",
      "\n",
      "At iterate   36    f=  1.32753D-06    |proj g|=  4.05257D-02\n",
      "\n",
      "At iterate   37    f=  5.46189D-07    |proj g|=  9.74128D-03\n",
      "\n",
      "At iterate   38    f=  3.10052D-07    |proj g|=  5.94147D-02\n",
      "\n",
      "At iterate   39    f=  1.61838D-07    |proj g|=  4.14962D-02\n",
      "\n",
      "At iterate   40    f=  1.19144D-07    |proj g|=  5.28358D-02\n",
      "\n",
      "At iterate   41    f=  8.23565D-08    |proj g|=  3.63799D-02\n",
      "\n",
      "At iterate   42    f=  3.73242D-08    |proj g|=  6.96182D-02\n",
      "\n",
      "At iterate   43    f=  1.98403D-08    |proj g|=  6.98278D-02\n",
      "\n",
      "At iterate   44    f=  1.18030D-08    |proj g|=  1.66087D-02\n",
      "\n",
      "At iterate   45    f=  8.77504D-09    |proj g|=  3.46303D-02\n",
      "\n",
      "At iterate   46    f=  5.88834D-09    |proj g|=  7.62743D-02\n",
      "\n",
      "At iterate   47    f=  2.83334D-09    |proj g|=  4.28660D-02\n",
      "\n",
      "At iterate   48    f=  1.48755D-09    |proj g|=  4.80054D-03\n",
      "\n",
      "At iterate   49    f=  5.09599D-10    |proj g|=  7.93820D-02\n",
      "\n",
      "At iterate   50    f=  3.95080D-10    |proj g|=  7.56479D-02\n",
      "\n",
      "At iterate   51    f=  2.92025D-10    |proj g|=  4.97498D-02\n",
      "s1 = \n",
      "           * * *\n",
      "\n",
      "Tit   = total number of iterations\n",
      "Tnf   = total number of function evaluations\n",
      "Tnint = total number of segments explored during Cauchy searches\n",
      "Skip  = number of BFGS updates skipped\n",
      "Nact  = number of active bounds at final generalized Cauchy point\n",
      "Projg = norm of the final projected gradient\n",
      "F     = final function value\n",
      "\n",
      "           * * *\n",
      "\n",
      "   N    Tit     Tnf  Tnint  Skip  Nact     Projg        F\n",
      "    8     52    131     72     2     4   4.975D-02   2.920D-10\n",
      "  F =   2.9202515066857817E-010\n",
      "\n",
      "ABNORMAL_TERMINATION_IN_LNSRCH                              \n",
      " 0.22818448601442973  s2 =  2.1794178738107623e-07  s3 =  0.02030379866209226  s4 =  0.48240324388500255  s5 =  0.05358857562972795  s6 =  6.787158485257207e-08  s7 =  0.016982815913091198  s8 =  0.19854079771028224\n"
     ]
    },
    {
     "name": "stderr",
     "output_type": "stream",
     "text": [
      "\n",
      " Bad direction in the line search;\n",
      "   refresh the lbfgs memory and restart the iteration.\n",
      "\n",
      " Line search cannot locate an adequate point after MAXLS\n",
      "  function and gradient evaluations.\n",
      "  Previous x, f and g restored.\n",
      " Possible causes: 1 error in function or gradient evaluation;\n",
      "                  2 rounding error dominate computation.\n"
     ]
    }
   ],
   "source": [
    "# Starting guess\n",
    "s_values_start = [np.random.random(), np.random.random(), np.random.random(), np.random.random(), np.random.random(), np.random.random(), np.random.random(), np.random.random() ]\n",
    "\n",
    "# Constraints -> s1 + s2 + s3 + s4 + s5 + s6 + s7 + s8 = 1 \n",
    "const = ({'type':'eq',\n",
    "          'fun' : lambda s_values : (s_values[0] + s_values[1] + s_values[2] + s_values[3] + s_values[4] + s_values[5] + s_values[6] + s_values[7]- 1)})\n",
    "# Bounds\n",
    "bounds = ((0.0,1.0),(0.0,1.0),(0.0,1.0),(0.0,1.0),(0.0,1.0),(0.0,1.0),(0.0,1.0),(0.0,1.0))\n",
    "\n",
    "# optimizing\n",
    "result =  spo.minimize(epsilon_func, s_values_start, method='L-BFGS-B', jac='4-point', options={'disp':True,'ftol': 1e-10}, constraints = const, bounds = bounds)\n",
    "\n",
    "# print result\n",
    "s_values = result.x\n",
    "s1 = s_values[0]\n",
    "s2 = s_values[1]\n",
    "s3 = s_values[2]\n",
    "s4 = s_values[3]\n",
    "s5 = s_values[4]\n",
    "s6 = s_values[5]\n",
    "s7 = s_values[6]\n",
    "s8 = s_values[7]\n",
    "print(\"s1 = \", s1, \" s2 = \", s2, \" s3 = \", s3, \" s4 = \", s4,\" s5 = \", s5, \" s6 = \", s6, \" s7 = \", s7, \" s8 = \", s8)"
   ]
  },
  {
   "cell_type": "code",
   "execution_count": 44,
   "id": "e6a39ad5-ccc8-4575-ae5b-51dcbe5f6f0d",
   "metadata": {},
   "outputs": [
    {
     "data": {
      "text/plain": [
       "0.0014066079135575398"
      ]
     },
     "execution_count": 44,
     "metadata": {},
     "output_type": "execute_result"
    }
   ],
   "source": [
    "# lowest s in prev part\n",
    "epsilon_func([0.03806023374435662, 0.10838637566236962, 0.16221167441072884, 0.1913417161825448, 0.19134171618254503, 0.1622116744107288, 0.10838637566236964, 0.03806023374435663]\n",
    ")"
   ]
  },
  {
   "cell_type": "code",
   "execution_count": 45,
   "id": "38ec76b4-b7f7-4a72-a846-219533fcce53",
   "metadata": {},
   "outputs": [
    {
     "name": "stdout",
     "output_type": "stream",
     "text": [
      "1.0000040036279982\n",
      "0.22818448601442973 2.1794178738107623e-07 0.02030379866209226 0.48240324388500255 0.05358857562972795 6.787158485257207e-08 0.016982815913091198 0.19854079771028224\n"
     ]
    },
    {
     "data": {
      "text/plain": [
       "2.9202515066857817e-10"
      ]
     },
     "execution_count": 45,
     "metadata": {},
     "output_type": "execute_result"
    }
   ],
   "source": [
    "# minimized values\n",
    "print(s1+s2+s3+s4+s5+s6+s7+s8)\n",
    "print(s1,s2,s3,s4,s5,s6,s7,s8)\n",
    "epsilon_func([s1,s2,s3,s4,s5,s6,s7,s8])\n"
   ]
  },
  {
   "cell_type": "code",
   "execution_count": 46,
   "id": "38bc7a25-49ff-421d-aea6-cb549dc36ffa",
   "metadata": {},
   "outputs": [
    {
     "name": "stdout",
     "output_type": "stream",
     "text": [
      "1.6026960554008968e-09\n",
      "1.303151245245274e-09\n"
     ]
    }
   ],
   "source": [
    "#lowest found\n",
    "print(epsilon_func([0.2352207313189638,0.24912740659407398,0.026743852621483974,0.23750863275233675,0.06523158186699833,1.5882458524719435e-06,0.012783438691303965,0.173386168165332]))\n",
    "print(epsilon_func([0.038832142871271964,0.10566971911225455,0.04091821414586422,0.1523694169142003,0.3692303858938831,3.852577102062163e-09,0.2422070517329396,0.05077481628188628]))\n"
   ]
  },
  {
   "cell_type": "markdown",
   "id": "c4e72471-ad22-4d49-9fe6-b6db442a704f",
   "metadata": {},
   "source": [
    "### When m = 10\n",
    "Fix T, $\\lambda\\$ and m = 10"
   ]
  },
  {
   "cell_type": "code",
   "execution_count": 48,
   "id": "7dd2933a-a165-46de-ab72-d03d3bc9db29",
   "metadata": {},
   "outputs": [],
   "source": [
    "# Defining the funtion epsilon\n",
    "def epsilon_func(s_values):\n",
    "    s1 = s_values[0]\n",
    "    s2 = s_values[1]\n",
    "    s3 = s_values[2]\n",
    "    s4 = s_values[3]\n",
    "    s5 = s_values[4]\n",
    "    s6 = s_values[5]\n",
    "    s7 = s_values[6]\n",
    "    s8 = s_values[7]\n",
    "    s9 = s_values[8]\n",
    "    s10 = s_values[9]\n",
    "    lambda_value = 0.1\n",
    "    T = 0.1\n",
    "    A = expm(-1j*(Z+lambda_value*X)*s1*T) @ expm(-1j*(Z-lambda_value*X)*s2*T) @ expm(-1j*(Z+lambda_value*X)*s3*T) @ expm(-1j*(Z-lambda_value*X)*s4*T) @expm(-1j*(Z+lambda_value*X)*s5*T) @ expm(-1j*(Z-lambda_value*X)*s6*T) @ expm(-1j*(Z+lambda_value*X)*s7*T) @ expm(-1j*(Z-lambda_value*X)*s8*T) @ expm(-1j*(Z+lambda_value*X)*s9*T) @ expm(-1j*(Z-lambda_value*X)*s10*T)\n",
    "    difference = A - expm(-1j*Z*T)\n",
    "    eigenvalues = svd(difference, compute_uv = False)\n",
    "    epsilon = np.max(eigenvalues)\n",
    "    return epsilon   "
   ]
  },
  {
   "cell_type": "code",
   "execution_count": 49,
   "id": "a3b7d046-f99f-46f1-a442-a821bae475fb",
   "metadata": {},
   "outputs": [
    {
     "name": "stdout",
     "output_type": "stream",
     "text": [
      "RUNNING THE L-BFGS-B CODE\n",
      "\n",
      "           * * *\n",
      "\n",
      "Machine precision = 2.220D-16\n",
      " N =           10     M =           10\n",
      "\n",
      "At X0         0 variables are exactly at the bounds\n",
      "\n",
      "At iterate    0    f=  2.83978D-01    |proj g|=  9.90301D-02\n",
      "\n",
      "At iterate    1    f=  2.04295D-01    |proj g|=  9.95317D-02\n",
      "  ys=-3.928E-04  -gs= 7.948E-02 BFGS update SKIPPED\n",
      "\n",
      "At iterate    2    f=  1.37451D-01    |proj g|=  9.98311D-02\n",
      "  ys=-1.916E-04  -gs= 6.674E-02 BFGS update SKIPPED\n",
      "\n",
      "At iterate    3    f=  5.53385D-02    |proj g|=  1.00121D-01\n",
      "  ys=-1.473E-04  -gs= 8.202E-02 BFGS update SKIPPED\n",
      "\n",
      "At iterate    4    f=  1.21613D-02    |proj g|=  1.00421D-01\n"
     ]
    },
    {
     "name": "stderr",
     "output_type": "stream",
     "text": [
      "\n",
      " Nonpositive definiteness in Cholesky factorization in formk;\n",
      "   refresh the lbfgs memory and restart the iteration.\n"
     ]
    },
    {
     "name": "stdout",
     "output_type": "stream",
     "text": [
      "\n",
      "At iterate    5    f=  2.28542D-03    |proj g|=  8.99380D-02\n",
      "\n",
      "At iterate    6    f=  1.20901D-03    |proj g|=  2.21466D-02\n",
      "\n",
      "At iterate    7    f=  1.18815D-03    |proj g|=  1.80218D-02\n",
      "\n",
      "At iterate    8    f=  1.09483D-03    |proj g|=  1.33306D-02\n",
      "\n",
      "At iterate    9    f=  1.07790D-03    |proj g|=  3.22015D-02\n",
      "  Positive dir derivative in projection \n",
      "  Using the backtracking step \n",
      "\n",
      "At iterate   10    f=  1.00763D-03    |proj g|=  1.77026D-02\n",
      "\n",
      "At iterate   11    f=  9.76335D-04    |proj g|=  1.85420D-02\n",
      "\n",
      "At iterate   12    f=  4.34812D-04    |proj g|=  1.66807D-02\n",
      "\n",
      "At iterate   13    f=  4.32553D-04    |proj g|=  1.74027D-02\n",
      "\n",
      "At iterate   14    f=  4.23237D-04    |proj g|=  3.32464D-03\n",
      "\n",
      "At iterate   15    f=  4.14337D-04    |proj g|=  8.95362D-03\n",
      "\n",
      "At iterate   16    f=  3.84225D-04    |proj g|=  3.02858D-02\n",
      "\n",
      "At iterate   17    f=  3.23013D-04    |proj g|=  5.82005D-02\n",
      "\n",
      "At iterate   18    f=  2.01183D-04    |proj g|=  9.97420D-02\n",
      "  Positive dir derivative in projection \n",
      "  Using the backtracking step \n",
      "\n",
      "At iterate   19    f=  7.46421D-05    |proj g|=  9.87332D-02\n",
      "\n",
      "At iterate   20    f=  1.30525D-05    |proj g|=  3.89238D-02\n",
      "\n",
      "At iterate   21    f=  1.16466D-05    |proj g|=  1.94436D-02\n",
      "\n",
      "At iterate   22    f=  1.13996D-05    |proj g|=  1.31311D-02\n",
      "\n",
      "At iterate   23    f=  1.09239D-05    |proj g|=  9.88397D-03\n",
      "\n",
      "At iterate   24    f=  3.64332D-06    |proj g|=  2.55170D-02\n",
      "\n",
      "At iterate   25    f=  1.16264D-06    |proj g|=  5.10715D-02\n",
      "\n",
      "At iterate   26    f=  6.60085D-07    |proj g|=  1.86299D-02\n",
      "\n",
      "At iterate   27    f=  3.04056D-07    |proj g|=  4.40808D-02\n",
      "\n",
      "At iterate   28    f=  2.88414D-07    |proj g|=  6.95250D-02\n",
      "\n",
      "At iterate   29    f=  1.46570D-07    |proj g|=  9.11672D-02\n",
      "\n",
      "At iterate   30    f=  8.23141D-08    |proj g|=  6.92413D-02\n",
      "\n",
      "At iterate   31    f=  5.37802D-08    |proj g|=  4.33445D-02\n",
      "\n",
      "At iterate   32    f=  3.77939D-08    |proj g|=  8.34990D-02\n",
      "\n",
      "At iterate   33    f=  1.90706D-08    |proj g|=  8.43336D-02\n",
      "\n",
      "At iterate   34    f=  9.79701D-09    |proj g|=  1.52829D-02\n",
      "\n",
      "At iterate   35    f=  5.48321D-09    |proj g|=  5.19913D-02\n",
      "\n",
      "At iterate   36    f=  2.73129D-09    |proj g|=  9.51667D-02\n",
      "\n",
      "At iterate   37    f=  2.12927D-09    |proj g|=  4.55489D-02\n",
      "\n",
      "At iterate   38    f=  1.36692D-09    |proj g|=  7.43750D-03\n",
      "\n",
      "At iterate   39    f=  1.24333D-09    |proj g|=  6.50845D-02\n",
      "\n",
      "At iterate   40    f=  9.82719D-10    |proj g|=  7.62188D-03\n",
      "\n",
      "At iterate   41    f=  7.50416D-10    |proj g|=  2.18115D-02\n",
      "s1 =  0.05792799375340684  s2 =  0.14411301582753647  s3 =  0.022029589107699147  s4 =  0.14609104697991762  s5 =  0.41968111989696577  s6 =  0.07012817894671318  s7 =  0.0  s8 =  0.07005329728202395  s9 =  0.0  s10 =  0.0699782968713782\n",
      "\n",
      "At iterate   42    f=  6.87053D-10    |proj g|=  1.68147D-02\n",
      "\n",
      "           * * *\n",
      "\n",
      "Tit   = total number of iterations\n",
      "Tnf   = total number of function evaluations\n",
      "Tnint = total number of segments explored during Cauchy searches\n",
      "Skip  = number of BFGS updates skipped\n",
      "Nact  = number of active bounds at final generalized Cauchy point\n",
      "Projg = norm of the final projected gradient\n",
      "F     = final function value\n",
      "\n",
      "           * * *\n",
      "\n",
      "   N    Tit     Tnf  Tnint  Skip  Nact     Projg        F\n",
      "   10     42     78     65     3     2   1.681D-02   6.871D-10\n",
      "  F =   6.8705315388573737E-010\n",
      "\n",
      "CONVERGENCE: REL_REDUCTION_OF_F_<=_FACTR*EPSMCH             \n"
     ]
    }
   ],
   "source": [
    "# Starting guess\n",
    "s_values_start = [np.random.random(), np.random.random(), np.random.random(), np.random.random(),np.random.random(), np.random.random(), np.random.random(), np.random.random(), np.random.random(), np.random.random()]\n",
    "\n",
    "# Constraints -> s1 + s2 + s3 + s4 + s5 + s6 + s7 + s8 + s9 + s10 = 1 \n",
    "const = ({'type':'eq',\n",
    "          'fun' : lambda s_values : (s_values[0] + s_values[1] + s_values[2] + s_values[3] + s_values[4] + s_values[5] + \n",
    "                                     s_values[6] + s_values[7] + s_values[9] + s_values[9]- 1)})\n",
    "# Bounds\n",
    "bounds = ((0.0,1.0),(0.0,1.0),(0.0,1.0),(0.0,1.0),(0.0,1.0),(0.0,1.0),(0.0,1.0),(0.0,1.0),(0.0,1.0),(0.0,1.0))\n",
    "\n",
    "# optimizing\n",
    "result =  spo.minimize(epsilon_func, s_values_start, method='L-BFGS-B',jac='2-point' ,options={'disp':True,'ftol': 1e-10}, constraints = const, bounds = bounds)\n",
    "\n",
    "# print result\n",
    "s_values = result.x\n",
    "s1 = s_values[0]\n",
    "s2 = s_values[1]\n",
    "s3 = s_values[2]\n",
    "s4 = s_values[3]\n",
    "s5 = s_values[4]\n",
    "s6 = s_values[5]\n",
    "s7 = s_values[6]\n",
    "s8 = s_values[7]\n",
    "s9 = s_values[8]\n",
    "s10 = s_values[9]\n",
    "print(\"s1 = \", s1, \" s2 = \", s2, \" s3 = \", s3, \" s4 = \", s4,\" s5 = \", s5, \" s6 = \", s6, \" s7 = \", s7, \" s8 = \", s8,\" s9 = \", s9, \" s10 = \", s10)"
   ]
  },
  {
   "cell_type": "code",
   "execution_count": 50,
   "id": "60b750cf-7793-4ed2-8dfb-b4c965e93711",
   "metadata": {},
   "outputs": [
    {
     "data": {
      "text/plain": [
       "2.811032373227265e-08"
      ]
     },
     "execution_count": 50,
     "metadata": {},
     "output_type": "execute_result"
    }
   ],
   "source": [
    "# lowest s in prev part\n",
    "epsilon_func([0.024471741852423214, 0.07101976096010307, 0.11061587104123718, 0.13938412895876282, 0.15450849718747361, 0.15450849718747384, 0.13938412895876295, 0.11061587104123694, 0.0710197609601032, 0.02447174185242318])"
   ]
  },
  {
   "cell_type": "code",
   "execution_count": 51,
   "id": "dfa5abd3-b8e7-4a5f-8492-0e600886d32c",
   "metadata": {},
   "outputs": [
    {
     "name": "stdout",
     "output_type": "stream",
     "text": [
      "1.000002538665641\n",
      "0.05792799375340684 0.14411301582753647 0.022029589107699147 0.14609104697991762 0.41968111989696577 0.07012817894671318 0.0 0.07005329728202395 0.0 0.0699782968713782\n"
     ]
    },
    {
     "data": {
      "text/plain": [
       "6.870531538857374e-10"
      ]
     },
     "execution_count": 51,
     "metadata": {},
     "output_type": "execute_result"
    }
   ],
   "source": [
    "# minimized values\n",
    "print(s1+s2+s3+s4+s5+s6+s7+s8+s9+s10)\n",
    "print(s1,s2,s3,s4,s5,s6,s7,s8,s9,s10)\n",
    "epsilon_func([s1,s2,s3,s4,s5,s6,s7,s8,s9,s10])\n"
   ]
  },
  {
   "cell_type": "code",
   "execution_count": 52,
   "id": "6c6e28cb-736a-4ede-ac1c-4f9c4f4332b9",
   "metadata": {},
   "outputs": [
    {
     "name": "stdout",
     "output_type": "stream",
     "text": [
      "1.0000003993199922\n",
      "2.6648916945411316e-09\n",
      "1.5548200284543092e-09\n",
      "6.195767679163424e-10\n",
      "9.470185647478117e-10\n"
     ]
    }
   ],
   "source": [
    "#lowest found\n",
    "\n",
    "s1 =  0.05364872685533633  \n",
    "s2 =  0.14721064956475943  \n",
    "s3 =  0.10233004848784125  \n",
    "s4 =  0.09337909913391204  \n",
    "s5 =  0.13074073761091892  \n",
    "s6 =  0.0986948049530884  \n",
    "s7 =  0.11486611070913687  \n",
    "s8 =  0.06256525581307926  \n",
    "s9 =  0.09828268275595599  \n",
    "s10 =  0.0982822834359638\n",
    "\n",
    "print(s1+s2+s3+s4+s5+s6+s7+s8+s9+s10)\n",
    "print(epsilon_func([s1,s2,s3,s4,s5,s6,s7,s8,s9,s10]))\n",
    "\n",
    "print(epsilon_func([1.3832143212538895e-05,0.020171240809496914,0.1442138957198114,0.03857411216316778,0.08901720196922741,0.3702780729681437,0.23488945296172076,0.0706718608067379,0.03217222452389344, 3.2959598175463414e-10]))\n",
    "print(epsilon_func([1.1248132237043405e-06,0.04512320843842305,0.024593384013038292,0.04527834728491069,0.2332676617591886,0.3199456675667349,0.16622576804101777,0.04481066813168081,0.07601596691112808,0.04473936994512728]))\n",
    "print(epsilon_func([0.1335324423107373,0.1128366236347572,1.640200449533966e-07,0.08020625700012156,1.8506368887844792e-07,0.0964908437805906,0.1397637537215577,0.08315948326908801,0.2267050393626389,0.12730643955023305]))\n",
    "\n",
    "#8.06804355409631e-10\n",
    "#epsilon_func([0.2351430703273727,0.3154665641681026,-0.1666701178852503,0.0380625427310032,0.03931095646774125,0.07261701465054925,0.412494548256661,0.18287678730659268 ,-0.0199685790907167,-0.1093275489862226])"
   ]
  },
  {
   "cell_type": "code",
   "execution_count": null,
   "id": "f3a63b4a-1a54-4856-8a49-f6b49df4df93",
   "metadata": {},
   "outputs": [],
   "source": []
  }
 ],
 "metadata": {
  "kernelspec": {
   "display_name": "Python 3 (ipykernel)",
   "language": "python",
   "name": "python3"
  },
  "language_info": {
   "codemirror_mode": {
    "name": "ipython",
    "version": 3
   },
   "file_extension": ".py",
   "mimetype": "text/x-python",
   "name": "python",
   "nbconvert_exporter": "python",
   "pygments_lexer": "ipython3",
   "version": "3.11.7"
  }
 },
 "nbformat": 4,
 "nbformat_minor": 5
}
