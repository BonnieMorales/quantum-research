{
 "cells": [
  {
   "cell_type": "markdown",
   "id": "73d2a7c0-7029-421d-a11a-8535909b58dd",
   "metadata": {},
   "source": [
    "# Dynamical Decoupling (DD) Simulation\n",
    "## Specific case: m=2 and t1=t2=t\n",
    "Ideal system:  **$e^{-iZt}$** \\\n",
    "Noisy system: **$e^{-i(Z+\\lambda{X})t}$**\n",
    "#### Want to prove: \n",
    "**$e^{-i(Z+\\lambda{X})t}Ze^{-i(Z+\\lambda{X})t}Z \\approx e^{-2iZt}$** "
   ]
  },
  {
   "cell_type": "markdown",
   "id": "e7ee53e4-a449-4aa9-96af-b1e62b8e1bde",
   "metadata": {},
   "source": [
    "### Libraries and Pauli Matrices "
   ]
  },
  {
   "cell_type": "code",
   "execution_count": 3,
   "id": "61559f1e-f7f4-4e2d-ba57-f2f1aa92000d",
   "metadata": {},
   "outputs": [],
   "source": [
    "import numpy as np\n",
    "import scipy\n",
    "import math\n",
    "from scipy.linalg import expm, svd\n",
    "import matplotlib.pyplot as plt\n",
    "import scipy.optimize as spo"
   ]
  },
  {
   "cell_type": "code",
   "execution_count": 4,
   "id": "de9f6d65-ebc3-40e5-be24-c76939e5350c",
   "metadata": {},
   "outputs": [],
   "source": [
    "X, Z, I = np.matrix([[0, 1],[1, 0]]), np.matrix([[1, 0],[0, -1]]), np.matrix([[1, 0],[0, 1]])"
   ]
  },
  {
   "cell_type": "markdown",
   "id": "128d9900-ab39-4ebe-b6ae-13278d6fff6b",
   "metadata": {},
   "source": [
    "### Simulation code"
   ]
  },
  {
   "cell_type": "code",
   "execution_count": 6,
   "id": "d040cba3-5d80-4806-92a0-d6f26ef5ddc6",
   "metadata": {},
   "outputs": [
    {
     "name": "stdout",
     "output_type": "stream",
     "text": [
      "error at t1 = t2 = 0.05 is 0.0004995820845829024\n"
     ]
    }
   ],
   "source": [
    "# creating the variables\n",
    "time = []\n",
    "epsilon = []\n",
    "\n",
    "# set the value of lambda\n",
    "lambda_value = 0.1\n",
    "\n",
    "# simulating the equation for every 0.01s for 1s.\n",
    "for t in np.linspace(0.0,1.0,num=101):\n",
    "    A = expm(-1j*(Z+lambda_value*X)*t)*Z*expm(-1j*(Z+lambda_value*X)*t)*Z\n",
    "    B = expm(-2j*Z*t)\n",
    "    # calculate the difference between the ideal and noisy system\n",
    "    difference = A - B\n",
    "    # get the maximum eigen value of the difference matrix\n",
    "    eigenvalues,_ = svd(difference, compute_uv = False)\n",
    "    max_eigenvalue = np.max(eigenvalues)\n",
    "    # add the maximum eigen value to the array epsilon\n",
    "    epsilon.append(max_eigenvalue)\n",
    "    time.append(t) \n",
    "    \n",
    "print(\"error at t1 = t2 = \" + str(time[5]) + \" is \" + str(epsilon[5]))"
   ]
  },
  {
   "cell_type": "markdown",
   "id": "d6e3ea1d-aeff-4b42-9eb5-255393cadd48",
   "metadata": {},
   "source": [
    "### Graph t vs $\\epsilon$"
   ]
  },
  {
   "cell_type": "code",
   "execution_count": 8,
   "id": "f141df2e-d60c-4971-837b-1f9f0cabe2f9",
   "metadata": {},
   "outputs": [
    {
     "data": {
      "image/png": "[encoded data removed]",
      "text/plain": [
       "<Figure size 640x480 with 1 Axes>"
      ]
     },
     "metadata": {},
     "output_type": "display_data"
    }
   ],
   "source": [
    "# graph the changes in epsilon respect to the time\n",
    "plt.plot(time, epsilon, label = \"Epsilon\")\n",
    "\n",
    "plt.xlabel('Time')\n",
    "plt.ylabel('$\\epsilon$')\n",
    "plt.legend()\n",
    "\n",
    "plt.savefig('first_simulation.png')\n",
    "plt.show()\n"
   ]
  },
  {
   "cell_type": "markdown",
   "id": "a042471d-873d-47a0-98e9-2d37bd2ad6fe",
   "metadata": {},
   "source": [
    "## General case\n",
    "The generalization of the previous case is the following:\\\n",
    "Ideal system: **$e^{-iZs_1T}e^{-iZs_2T}e^{-iZs_3T}...e^{-iZs_mT}$** \\\n",
    "Noisy system: **$e^{-i(Z+\\lambda{X})s_1T}e^{-i(Z+\\lambda{X})s_2T}e^{-i(Z+\\lambda{X})s_3T}...e^{-i(Z+\\lambda{X})s_mT}$**\n",
    "##### Error function:\n",
    "**$\\epsilon=||(e^{-i(Z+\\lambda{X})s_1T}Ze^{-i(Z+\\lambda{X})s_2T}Ze^{-i(Z+\\lambda{X})s_3T}Ze^{-i(Z+\\lambda{X})s_4T}Z...Ze^{-i(Z+\\lambda{X})s_mT}Z) - e^{-iZT}||$**\n",
    "### Simulation\n"
   ]
  },
  {
   "cell_type": "code",
   "execution_count": 10,
   "id": "814a80f5-453b-4db9-8303-2a8156c0a594",
   "metadata": {},
   "outputs": [],
   "source": [
    "def error_calculation(lambda_value, m, T, areEqual, s_values):\n",
    "    prev_A = I\n",
    "    \n",
    "    # Case 1: Periodic DD when s1 = s2 = ... = sm \n",
    "    if (areEqual == True):\n",
    "        for i in np.linspace(1,m,num=m):\n",
    "            # even numbers\n",
    "            if (i%2 == 0): \n",
    "                A = np.dot(prev_A, expm(-1j*(Z-lambda_value*X)*T/m)) \n",
    "                #prev_A * expm(-1j*(Z-lambda_value*X)*T/m)\n",
    "            # odd numbers\n",
    "            else:\n",
    "                A = np.dot(prev_A, expm(-1j*(Z+lambda_value*X)*T/m))\n",
    "                #prev_A * expm(-1j*(Z+lambda_value*X)*T/m)\n",
    "            # updating the matrix A\n",
    "            prev_A = A\n",
    "    \n",
    "    # Case 2: Concatenated DD or Uhrig DD when s has a different values       \n",
    "    else:\n",
    "        i = 1\n",
    "        # simulating the equation \n",
    "        for s in s_values:\n",
    "            # even numbers\n",
    "            if (i%2 == 0):\n",
    "                A = np.dot(prev_A, expm(-1j*(Z-lambda_value*X)*s*T))\n",
    "                # prev_A * expm(-1j*(Z-lambda_value*X)*s*T)   \n",
    "            # odd numbers\n",
    "            else:\n",
    "                A = np.dot(prev_A, expm(-1j*(Z+lambda_value*X)*s*T))\n",
    "                # prev_A * expm(-1j*(Z+lambda_value*X)*s*T)\n",
    "            # updating variables\n",
    "            #print(A)\n",
    "            prev_A = A \n",
    "            i+=1 \n",
    "            \n",
    "    B = expm(-1j*Z*T) \n",
    "    # calculate the difference between the ideal and noisy system\n",
    "    difference = A - B\n",
    "    # get the maximum eigen value of the difference matrix\n",
    "    eigenvalues = svd(difference, compute_uv = False)\n",
    "    max_eigenvalue = np.max(eigenvalues)\n",
    "    #print(\"The error is \", max_eigenvalue)\n",
    "    return max_eigenvalue\n",
    "\n",
    "def UDD_calculate_s_values(m):\n",
    "    s_values = []\n",
    "    prev_t = 0\n",
    "    for j in range(1, m+1):\n",
    "        t = np.power(np.sin(j*np.pi/(2*m)), 2)\n",
    "        s_values.append(t-prev_t)\n",
    "        prev_t = t\n",
    "    return s_values        \n"
   ]
  },
  {
   "cell_type": "code",
   "execution_count": 11,
   "id": "3334b562-9402-4ec6-8b92-4adb123a00f4",
   "metadata": {},
   "outputs": [
    {
     "name": "stdout",
     "output_type": "stream",
     "text": [
      "Case 1 (PDD) Even ##########################\n",
      "For m = 2 the error is 0.0004995820845829024\n",
      "For m = 4 the error is 0.0002496353782160249\n",
      "For m = 6 the error is 0.00016640438462257455\n",
      "For m = 8 the error is 0.0001247982491792856\n",
      "For m = 10 the error is 9.983673349871192e-05\n",
      "\n",
      "Case 2 (CDD) ##########################\n",
      "For m = 2 the error is 0.0004995820845829024\n",
      "For m = 3 the error is 1.249909813324557e-05\n",
      "For m = 6 the error is 1.8775597696427797e-07\n",
      "For m = 11 the error is 2.606462738292785e-08\n",
      "\n",
      "Case 3 (UDD) ##########################\n",
      "For m = 2 the error is 0.0004995820845829024\n",
      "For m = 3 the error is 1.2499098133243837e-05\n",
      "For m = 4 the error is 2.9031863259118986e-07\n",
      "For m = 6 the error is 8.175186760529897e-08\n",
      "[0.06698729810778066, 0.1830127018922193, 0.24999999999999994, 0.25, 0.18301270189221952, 0.06698729810778059]\n",
      "For m = 8 the error is 4.455600939580585e-08\n",
      "[0.03806023374435662, 0.10838637566236962, 0.16221167441072884, 0.1913417161825448, 0.19134171618254503, 0.1622116744107288, 0.10838637566236964, 0.03806023374435663]\n",
      "For m = 10 the error is 2.811032373227265e-08\n",
      "[0.024471741852423214, 0.07101976096010307, 0.11061587104123718, 0.13938412895876282, 0.15450849718747361, 0.15450849718747384, 0.13938412895876295, 0.11061587104123694, 0.0710197609601032, 0.02447174185242318]\n"
     ]
    }
   ],
   "source": [
    "# creating the variables\n",
    "m_value_c1 = []\n",
    "m_value_c2 = [2,3,6,11]\n",
    "m_value_c3 = [2,3,4,6,8,10]\n",
    "error_c1 = []\n",
    "error_c2 = []\n",
    "error_c3 = []\n",
    "\n",
    "# set the value of lambda and T\n",
    "lambda_value = 0.1\n",
    "T = 0.1\n",
    "\n",
    "print(\"Case 1 (PDD) Even ##########################\")\n",
    "for m in range(2,11,2):\n",
    "    error_c1.append(error_calculation(lambda_value, m, T, True, []))\n",
    "    m_value_c1.append(m)\n",
    "    print(\"For m = \" + str(m) + \" the error is \" + str(error_calculation(lambda_value, m, T, True, [])))\n",
    "\n",
    "print(\"\\nCase 2 (CDD) ##########################\")\n",
    "error_c2.append(error_calculation(lambda_value, 2, T, False, [1/2,1/2]))\n",
    "print(\"For m = 2 the error is \" + str(error_c2[0]))\n",
    "\n",
    "error_c2.append(error_calculation(lambda_value, 3, T, False, [1/4,1/2,1/4]))\n",
    "print(\"For m = 3 the error is \" + str(error_c2[1]))\n",
    "\n",
    "error_c2.append(error_calculation(lambda_value, 6, T, False, [1/8,1/4,1/8,1/8,1/4,1/8]))\n",
    "print(\"For m = 6 the error is \" + str(error_c2[2]))\n",
    "\n",
    "error_c2.append(error_calculation(lambda_value, 11, T, False, [1/16,1/8,1/16,1/16,1/8,1/8,1/8,1/16,1/16,1/8,1/16]))\n",
    "print(\"For m = 11 the error is \" + str(error_c2[3]))\n",
    "\n",
    "\n",
    "print(\"\\nCase 3 (UDD) ##########################\")\n",
    "error_c3.append(error_calculation(lambda_value, 2, T, False, UDD_calculate_s_values(2)))\n",
    "print(\"For m = 2 the error is \" + str(error_c3[0]))\n",
    "\n",
    "error_c3.append(error_calculation(lambda_value, 3, T, False, UDD_calculate_s_values(3)))\n",
    "print(\"For m = 3 the error is \" + str(error_c3[1]))\n",
    "\n",
    "error_c3.append(error_calculation(lambda_value, 4, T, False, UDD_calculate_s_values(4)))\n",
    "print(\"For m = 4 the error is \" + str(error_c3[2]))\n",
    "\n",
    "error_c3.append(error_calculation(lambda_value, 6, T, False, UDD_calculate_s_values(6)))\n",
    "print(\"For m = 6 the error is \" + str(error_c3[3]))\n",
    "print(UDD_calculate_s_values(6))\n",
    "\n",
    "error_c3.append(error_calculation(lambda_value, 6, T, False, UDD_calculate_s_values(8)))\n",
    "print(\"For m = 8 the error is \" + str(error_c3[4]))\n",
    "print(UDD_calculate_s_values(8))\n",
    "\n",
    "\n",
    "error_c3.append(error_calculation(lambda_value, 10, T, False, UDD_calculate_s_values(10)))\n",
    "print(\"For m = 10 the error is \" + str(error_c3[5]))\n",
    "print(UDD_calculate_s_values(10))\n"
   ]
  },
  {
   "cell_type": "code",
   "execution_count": 12,
   "id": "7e749dae-d1ee-4de2-b052-70555f4fdcd2",
   "metadata": {},
   "outputs": [],
   "source": [
    "# values found below\n",
    "\n",
    "m_values_optimized = [2,3,4,6,8,10]  \n",
    "error_optimized = [0.0004995710092228119,4.571626303785287e-10,1.3185843644749708e-09,6.570497960815582e-10,1.303151245245274e-09,6.195767679163424e-10]"
   ]
  },
  {
   "cell_type": "markdown",
   "id": "d4bbc585-1b7d-4596-a328-92882fa08c7b",
   "metadata": {},
   "source": [
    "### Graph t vs $\\epsilon$"
   ]
  },
  {
   "cell_type": "code",
   "execution_count": 14,
   "id": "431d643f-81ba-4eef-9a67-5da44cacdbc6",
   "metadata": {},
   "outputs": [
    {
     "data": {
      "image/png": "[encoded data removed]",
      "text/plain": [
       "<Figure size 640x480 with 1 Axes>"
      ]
     },
     "metadata": {},
     "output_type": "display_data"
    }
   ],
   "source": [
    "# graph the changes of the error for different values of m\n",
    "\n",
    "plt.plot(m_value_c1, error_c1, color='navy', marker='o', label = \"PDD\")\n",
    "plt.plot(m_value_c2, error_c2, color='blueviolet', marker='o', label = \"CDD\")\n",
    "plt.plot(m_value_c3, error_c3, color='crimson', marker='o', label = \"UDD\")\n",
    "plt.plot(m_values_optimized, error_optimized, marker='o', label = \"minimization results\")\n",
    "\n",
    "\n",
    "plt.title('$\\epsilon$ vs m')\n",
    "plt.xlabel('m')\n",
    "plt.ylabel('$\\epsilon$')\n",
    "plt.yscale(\"log\")\n",
    "\n",
    "plt.legend()\n",
    "plt.grid()\n",
    "\n",
    "plt.savefig('general_simulation.png')\n",
    "plt.show()\n"
   ]
  },
  {
   "cell_type": "markdown",
   "id": "b16dd4ff-8583-4d36-9178-70ebb7067d46",
   "metadata": {},
   "source": [
    "## Minimize the $\\epsilon$ function for a fixed T = 0.1 and m\n"
   ]
  },
  {
   "cell_type": "markdown",
   "id": "6bf8733e-b207-4fc5-bacd-167b628b54d1",
   "metadata": {},
   "source": [
    "### $\\lambda\\$ = 0.1 "
   ]
  },
  {
   "cell_type": "code",
   "execution_count": 17,
   "id": "48b72130-b1c7-457b-9f4f-78a558e3ed5b",
   "metadata": {},
   "outputs": [],
   "source": [
    "def epsilon_func(s_values):\n",
    "    i = 1\n",
    "    prev_A = I\n",
    "    lambda_value = 0.1\n",
    "    T = 0.1\n",
    "    # simulating the equation \n",
    "    for s in s_values:\n",
    "        # even numbers\n",
    "        if (i%2 == 0):\n",
    "            A = prev_A @ expm(-1j*(Z-lambda_value*X)*s*T)   \n",
    "        # odd numbers\n",
    "        else:\n",
    "            A = prev_A @ expm(-1j*(Z+lambda_value*X)*s*T)\n",
    "        # updating variables\n",
    "        prev_A = A \n",
    "        i+=1 \n",
    "    difference = A - expm(-1j*Z*T)\n",
    "    eigenvalues = svd(difference, compute_uv = False)\n",
    "    epsilon = np.max(eigenvalues)\n",
    "    return epsilon   \n",
    "\n",
    "def minimize_epsilon_SLSQP(m, s_values_start):\n",
    "    s_result = []\n",
    "    # Define constraints\n",
    "    const = ({'type':'eq',\n",
    "              'fun' : lambda s_values : (np.sum(s_values) - 1)})\n",
    "    # Bounds of Si\n",
    "    bounds = ((0,1) for _ in range(m))\n",
    "\n",
    "    # Options\n",
    "    options = {'disp' : False,\n",
    "               'ftol' : 1e-12}\n",
    "\n",
    "    # Minimization\n",
    "    result = spo.minimize(epsilon_func, s_values_start, method='SLSQP', options=options, constraints = const, bounds = bounds)\n",
    "\n",
    "    epsilon = result.fun\n",
    "    for i in range(m):\n",
    "        si = result.x[i]\n",
    "        s_result.append(si)\n",
    "    \n",
    "    return s_result, epsilon \n",
    "\n",
    "def minimize_epsilon_BFGS(m, s_values_start):\n",
    "    s_result = []\n",
    "    # Bounds of Si\n",
    "    bounds = ((0,1) for _ in range(m))\n",
    "\n",
    "    # Options\n",
    "    options = {'disp'    : False,\n",
    "               'ftol'    : 1e-12,\n",
    "               'maxiter' : 1000}\n",
    "    \n",
    "    # Minimization\n",
    "    result = spo.minimize(epsilon_func, s_values_start, method='L-BFGS-B', options= options, bounds = bounds)\n",
    "\n",
    "    epsilon = result.fun\n",
    "    for i in range(m):\n",
    "        si = result.x[i]\n",
    "        s_result.append(si)\n",
    "        \n",
    "    return s_result, epsilon \n",
    "\n",
    "def return_min_value(iterations, m_value, method):\n",
    "    hashmap_epsilon_to_s = {}\n",
    "    if(method == 'SLSQP'):\n",
    "        # random initial values\n",
    "        for i in range(iterations):\n",
    "            s_values, epsilon = minimize_epsilon_SLSQP(m_value,[np.random.random() for _ in range(m_value)])\n",
    "            hashmap_epsilon_to_s[epsilon] = s_values\n",
    "        # evenly separated initial values\n",
    "        s_values, epsilon = minimize_epsilon_SLSQP(m_value, [1/m_value for _ in range(m_value)])\n",
    "        hashmap_epsilon_to_s[epsilon] = s_values\n",
    "        # s-values of UDD\n",
    "        s_values, epsilon = minimize_epsilon_SLSQP(m_value, UDD_calculate_s_values(m_value))\n",
    "        hashmap_epsilon_to_s[epsilon] = s_values\n",
    "        \n",
    "    elif(method == 'L-BFGS-B'):\n",
    "        # random initial values\n",
    "        for i in range(iterations):\n",
    "            s_values, epsilon = minimize_epsilon_BFGS(m_value,[np.random.random() for _ in range(m_value)])\n",
    "            hashmap_epsilon_to_s[epsilon] = s_values\n",
    "        # evenly separated initial values\n",
    "        s_values, epsilon = minimize_epsilon_BFGS(m_value, [1/m_value for _ in range(m_value)])\n",
    "        hashmap_epsilon_to_s[epsilon] = s_values\n",
    "        # s-values of UDD\n",
    "        s_values, epsilon = minimize_epsilon_BFGS(m_value, UDD_calculate_s_values(m_value))\n",
    "        hashmap_epsilon_to_s[epsilon] = s_values\n",
    "            \n",
    "    else:\n",
    "        print(\"invalid method\")\n",
    "\n",
    "    #print(hashmap_epsilon_to_s) \n",
    "    min_value = min(hashmap_epsilon_to_s)\n",
    "    \n",
    "    return min_value, hashmap_epsilon_to_s[min_value] \n"
   ]
  },
  {
   "cell_type": "markdown",
   "id": "bd755c3b-dc82-49b0-9c24-0b87d8995cb3",
   "metadata": {},
   "source": [
    "#### When m = 2"
   ]
  },
  {
   "cell_type": "code",
   "execution_count": 19,
   "id": "1ccfaf25-8abb-46fd-ab3d-aaed549a6f4f",
   "metadata": {},
   "outputs": [
    {
     "name": "stdout",
     "output_type": "stream",
     "text": [
      "SLSQP METHOD: Minimum error =  0.0004995820845829022  s_values:  [0.4999999999859441, 0.5000000000140559]\n",
      "L-BFGS-B METHOD: Minimum error =  0.000499571009222832  s_values:  [0.499983364564483, 0.4999833656527384]\n"
     ]
    }
   ],
   "source": [
    "m_value = 2\n",
    "\n",
    "epsilon, s_values = return_min_value(20, m_value, 'SLSQP')\n",
    "print(\"SLSQP METHOD: Minimum error = \", epsilon, \" s_values: \", s_values)\n",
    "\n",
    "epsilon, s_values = return_min_value(20, m_value, 'L-BFGS-B')\n",
    "print(\"L-BFGS-B METHOD: Minimum error = \", epsilon, \" s_values: \", s_values)"
   ]
  },
  {
   "cell_type": "code",
   "execution_count": 20,
   "id": "6c6d3967-a0e9-48d3-8dee-877fac67027d",
   "metadata": {},
   "outputs": [
    {
     "name": "stdout",
     "output_type": "stream",
     "text": [
      "0.0004995710115871328\n",
      "0.0004995710106577283\n",
      "0.0004995710092230183\n",
      "0.0004995710092228119\n",
      "Minimum values found by SLSQP Method\n",
      "0.0004995820845829024\n",
      "0.0004995820845829022\n",
      "Minimum values found by L-BFGS-B Method\n",
      "0.0004995710092227769\n",
      "0.0004995710092226035\n"
     ]
    }
   ],
   "source": [
    "print(epsilon_func([0.49998361065319974, 0.49998361065319974]))\n",
    "print(epsilon_func([0.4999837890188431, 0.4999833220272216]))\n",
    "print(epsilon_func([0.49998336258508624,0.49998337866864523]))\n",
    "print(epsilon_func([0.4999833648036424,0.499983365617878]))\n",
    "\n",
    "# Minimum values found by SLSQP Method\n",
    "print(\"Minimum values found by SLSQP Method\")\n",
    "print(epsilon_func([0.4999999999999999, 0.5000000000000001]))\n",
    "print(epsilon_func([0.49999999991086985, 0.50000000008913]))\n",
    "\n",
    "# Minimum values found by L-BFGS-B Method\n",
    "print(\"Minimum values found by L-BFGS-B Method\")\n",
    "print(epsilon_func([0.4999833655591059, 0.49998336523893533]))\n",
    "print(epsilon_func([0.4999833675827254, 0.4999833660701465]))"
   ]
  },
  {
   "cell_type": "markdown",
   "id": "5c33786f-8ca2-408d-9505-bc165fafcdb1",
   "metadata": {},
   "source": [
    "#### When m = 3"
   ]
  },
  {
   "cell_type": "code",
   "execution_count": 22,
   "id": "e21f43e1-5087-49d2-a133-9f160bc1f52e",
   "metadata": {},
   "outputs": [
    {
     "name": "stdout",
     "output_type": "stream",
     "text": [
      "SLSQP METHOD: Minimum error =  4.162997043622055e-07  s_values:  [0.2503126943683055, 0.499374611218172, 0.2503126944135225]\n",
      "L-BFGS-B METHOD: Minimum error =  7.817423136003157e-11  s_values:  [0.2503137074860753, 0.4993766861007775, 0.25031376904783176]\n"
     ]
    }
   ],
   "source": [
    "m_value = 3\n",
    "\n",
    "epsilon, s_values = return_min_value(20, m_value, 'SLSQP')\n",
    "print(\"SLSQP METHOD: Minimum error = \", epsilon, \" s_values: \", s_values)\n",
    "\n",
    "epsilon, s_values = return_min_value(20, m_value, 'L-BFGS-B')\n",
    "print(\"L-BFGS-B METHOD: Minimum error = \", epsilon, \" s_values: \", s_values)\n",
    "\n",
    "#options\n",
    "#options = {'disp'    : True,\n",
    "#           'eps'     : 1e-10,\n",
    "#           'maxiter' : 1000,\n",
    "#           'ftol'    : 1e-10}\n",
    "\n"
   ]
  },
  {
   "cell_type": "code",
   "execution_count": 23,
   "id": "b935014b-3d51-44cb-a3d2-e78897f88a43",
   "metadata": {},
   "outputs": [
    {
     "name": "stdout",
     "output_type": "stream",
     "text": [
      "2.7011641425558947e-09\n",
      "4.16299704372454e-07\n",
      "9.637770643047125e-10\n",
      "4.571626303785287e-10\n",
      "1.0\n",
      "Minimum values found by SLSQP Method\n",
      "4.1662514929427086e-07\n",
      "4.1629970465567674e-07\n",
      "4.162997043690417e-07\n",
      "4.1629970434291533e-07\n",
      "Minimum values found by L-BFGS-B Method\n",
      "7.413227887372243e-10\n",
      "1.6462962811950578e-10\n"
     ]
    }
   ],
   "source": [
    "# lowest found\n",
    "print(epsilon_func([0.2503131326075795, 0.4993768041187886, 0.25031423701763944]))\n",
    "#s1 =  0.25031269456576893  s2 =  0.49937461113734705  s3 =  0.2503126942968841\n",
    "#4.16299704372454e-07\n",
    "print(epsilon_func([0.25031269456576893,0.49937461113734705,0.2503126942968841]))\n",
    "print(epsilon_func([0.2503139951814718,0.49937672578019454,0.2503134407280822]))\n",
    "print(epsilon_func([0.250313782188061,0.4993766735025422,0.2503137106126561]))\n",
    "\n",
    "s1 =  0.2503130334449466  \n",
    "s2 =  0.49937393184986445  \n",
    "s3 =  0.250313034705189\n",
    "print(s1+s2+s3)\n",
    "epsilon_func([s1,s2,s3])\n",
    "\n",
    "# Minimum values found by SLSQP Method\n",
    "print(\"Minimum values found by SLSQP Method\")\n",
    "print(epsilon_func([0.2503122685933116, 0.4993754354643486, 0.2503122959423398]))\n",
    "print(epsilon_func([0.25031270183562715, 0.4993746113471729, 0.2503126868172]))\n",
    "print(epsilon_func([0.2503126942322201, 0.49937461122542787, 0.250312694542352]))\n",
    "print(epsilon_func([0.2503126942309021, 0.4993746112692983, 0.2503126944997997]))\n",
    "\n",
    "# Minimum values found by L-BFGS-B Method\n",
    "print(\"Minimum values found by L-BFGS-B Method\")\n",
    "print(epsilon_func([0.2503136846427681, 0.49937672289764024, 0.25031375395430067]))\n",
    "print(epsilon_func([0.250313761135165, 0.499376680102535, 0.25031372106888927]))\n",
    "print(epsilon_func([0.2503137074860753, 0.4993766861007775, 0.25031376904783176]))\n"
   ]
  },
  {
   "cell_type": "markdown",
   "id": "9cd68bdd-ab57-45c4-9af5-3e6562bb37bc",
   "metadata": {},
   "source": [
    "#### When m = 4\n"
   ]
  },
  {
   "cell_type": "code",
   "execution_count": 25,
   "id": "474a9b77-610a-4cd0-9734-5c7a714d637b",
   "metadata": {},
   "outputs": [
    {
     "name": "stdout",
     "output_type": "stream",
     "text": [
      "SLSQP METHOD: Minimum error =  2.022379330615787e-07  s_values:  [0.14652032059044803, 0.353479681868749, 0.3534796794126597, 0.14652031812814334]\n",
      "L-BFGS-B METHOD: Minimum error =  1.1587775829472187e-10  s_values:  [0.16614280597213285, 0.37414686793828494, 0.3339591267076344, 0.12575327870472833]\n"
     ]
    }
   ],
   "source": [
    "m_value = 4\n",
    "\n",
    "epsilon, s_values = return_min_value(20, m_value, 'SLSQP')\n",
    "print(\"SLSQP METHOD: Minimum error = \", epsilon, \" s_values: \", s_values)\n",
    "\n",
    "epsilon, s_values = return_min_value(20, m_value, 'L-BFGS-B')\n",
    "print(\"L-BFGS-B METHOD: Minimum error = \", epsilon, \" s_values: \", s_values)"
   ]
  },
  {
   "cell_type": "code",
   "execution_count": 26,
   "id": "3bc68add-04c3-49a8-9479-6bb6282df1c9",
   "metadata": {},
   "outputs": [
    {
     "name": "stdout",
     "output_type": "stream",
     "text": [
      "2.028214955034198e-07\n",
      "2.0229474578497696e-07\n",
      "3.5239377130349133e-09\n",
      "1.8201361302785667e-09\n",
      "1.5676595736022162e-09\n",
      "1.3185843644749708e-09\n",
      "6.938793025667748e-10\n",
      "1.000003292836711\n",
      "Minimum values found by SLSQP Method\n",
      "2.6139756841637346e-07\n",
      "2.022380466746723e-07\n",
      "2.022379330615787e-07\n",
      "Minimum values found by L-BFGS-B Method\n",
      "9.087513795412111e-10\n",
      "2.0078117387401649e-10\n",
      "1.8873173482955747e-10\n"
     ]
    }
   ],
   "source": [
    "print(epsilon_func([0.18260355134222295,0.3934429524912896,0.31758791595654123,0.10636778240906868]))\n",
    "print(epsilon_func([0.11201090406009984,0.3221869714667899,0.3878254228854342,0.17797886271369787]))\n",
    "print(epsilon_func([0.15660249719595007,0.36380421129713986,0.3434496115008143,0.13614572318190296]))\n",
    "print(epsilon_func([0.16772630320693488,0.37592124270119004,0.3323840437689914,0.12397048978012597]))\n",
    "print(epsilon_func([0.16006624314636198,0.36749355457507377,0.3400038084277212,0.13243844538176264]))\n",
    "#lowest found\n",
    "\n",
    "s1 =  0.03765566095204766  \n",
    "s2 =  0.27063906421385175  \n",
    "s3 =  0.4618681202205331  \n",
    "s4 =  0.22984044745027865\n",
    "print(s1+s2+s3+s4)\n",
    "epsilon_func([s1,s2,s3,s4]) \n",
    "\n",
    "# Minimum values found by SLSQP Method\n",
    "print(\"Minimum values found by SLSQP Method\")\n",
    "print(epsilon_func([0.14657893998012378, 0.35342105961862347, 0.3534210602510726, 0.1465789401501801]))\n",
    "print(epsilon_func([0.14652031525235185, 0.3534796416866653, 0.353479695264094, 0.1465203477968889]))\n",
    "print(epsilon_func([0.14652032059044803, 0.353479681868749, 0.3534796794126597, 0.14652031812814334]))\n",
    "\n",
    "# Minimum values found by L-BFGS-B Method\n",
    "print(\"Minimum values found by L-BFGS-B Method\")\n",
    "print(epsilon_func([0.15224834583694077, 0.35927255063565744, 0.3477815452388683, 0.14069958732248306]))\n",
    "print(epsilon_func([0.04593263522071234, 0.27550536294994166, 0.45362172125479183, 0.22494341195706952]))\n",
    "print(epsilon_func([0.19607840632180618, 0.4107887714557183, 0.3041904200903709, 0.08894482473741044]))\n",
    "print(epsilon_func([0.16614280597213285, 0.37414686793828494, 0.3339591267076344, 0.12575327870472833]))"
   ]
  },
  {
   "cell_type": "markdown",
   "id": "ab5e6bfb-ddf2-451f-bc36-44d06499134d",
   "metadata": {},
   "source": [
    "#### When m = 6"
   ]
  },
  {
   "cell_type": "code",
   "execution_count": 28,
   "id": "2b8fe0f1-dc7a-4014-b742-7ca39b49a78d",
   "metadata": {},
   "outputs": [
    {
     "name": "stdout",
     "output_type": "stream",
     "text": [
      "SLSQP METHOD: Minimum error =  6.973664578598431e-08  s_values:  [0.08115803715423694, 0.19088757688004415, 0.21217126097154654, 0.21792587193270252, 0.20666020397943302, 0.09119704908203678]\n",
      "L-BFGS-B METHOD: Minimum error =  1.5322952731012476e-10  s_values:  [0.18318333858053404, 0.19762749926476317, 0.0017600867329253978, 0.1976272306137198, 0.31525492323346144, 0.10454913737516315]\n"
     ]
    }
   ],
   "source": [
    "m_value = 6\n",
    "\n",
    "epsilon, s_values = return_min_value(20, m_value, 'SLSQP')\n",
    "print(\"SLSQP METHOD: Minimum error = \", epsilon, \" s_values: \", s_values)\n",
    "\n",
    "epsilon, s_values = return_min_value(20, m_value, 'L-BFGS-B')\n",
    "print(\"L-BFGS-B METHOD: Minimum error = \", epsilon, \" s_values: \", s_values)"
   ]
  },
  {
   "cell_type": "code",
   "execution_count": 29,
   "id": "cd54c874-bad9-474d-b1c4-48b4e8feda15",
   "metadata": {},
   "outputs": [
    {
     "name": "stdout",
     "output_type": "stream",
     "text": [
      "3.0892130263261764e-10\n",
      "1.0000007644360716\n",
      "Minimum values found by SLSQP Method\n",
      "8.175186760529897e-08\n",
      "7.705138206728516e-08\n",
      "7.252268247101637e-08\n",
      "Minimum values found by L-BFGS-B Method\n",
      "3.233640543200108e-10\n",
      "1.952486531829233e-10\n"
     ]
    }
   ],
   "source": [
    "# Minimum values found by SLSQP Method\n",
    "print(\"Minimum values found by SLSQP Method\")\n",
    "print(epsilon_func([0.06698729810778066, 0.1830127018922193, 0.24999999999999994, 0.25, 0.18301270189221952, 0.06698729810778059]))\n",
    "print(epsilon_func([0.10910832178667179, 0.22407446256631602, 0.16682740781295394, 0.16683724450407955, 0.22406431048024267, 0.10908825284973601]))\n",
    "print(epsilon_func([0.10588111287187135, 0.23477599597343882, 0.20813314114895248, 0.17445904822125238, 0.18598807981730012, 0.09076262196718503]))\n",
    "print(epsilon_func([0.08115803715423694, 0.19088757688004415, 0.21217126097154654, 0.21792587193270252, 0.20666020397943302, 0.09119704908203678]))\n",
    "\n",
    "# Minimum values found by L-BFGS-B Method\n",
    "print(\"Minimum values found by L-BFGS-B Method\")\n",
    "print(epsilon_func([0.06698743390385065, 0.18301283768880242, 0.2500001357958963, 0.25000013579589675, 0.1830128376888011, 0.06698743390385282]))\n",
    "print(epsilon_func([3.002568575565669e-11, 0.19226485891928957, 0.20052717820453525, 0.0968542222853414, 0.29898736358357786, 0.21136866390320677]))\n",
    "print(epsilon_func([0.18318333858053404, 0.19762749926476317, 0.0017600867329253978, 0.1976272306137198, 0.31525492323346144, 0.10454913737516315]))"
   ]
  },
  {
   "cell_type": "markdown",
   "id": "70011b33-7fcc-49bb-9040-8167f99a9281",
   "metadata": {},
   "source": [
    "#### When m = 8"
   ]
  },
  {
   "cell_type": "code",
   "execution_count": 31,
   "id": "0e1285e0-1ae1-4c6f-9f58-90f0de956bfe",
   "metadata": {},
   "outputs": [
    {
     "name": "stdout",
     "output_type": "stream",
     "text": [
      "SLSQP METHOD: Minimum error =  4.215670861686065e-08  s_values:  [0.08915004552240306, 0.16066103188805328, 0.11316580035396968, 0.13702439761109078, 0.13702366410074956, 0.11316639014088864, 0.1606604938519956, 0.08914817653084944]\n",
      "L-BFGS-B METHOD: Minimum error =  1.8551315873894768e-10  s_values:  [0.14414799983607154, 0.3508429282575305, 0.17130062659794726, 5.579211705300236e-10, 0.1685937176538608, 0.006520042633380491, 0.015947561354118688, 0.142649130823024]\n"
     ]
    }
   ],
   "source": [
    "m_value = 8\n",
    "\n",
    "epsilon, s_values = return_min_value(20, m_value, 'SLSQP')\n",
    "print(\"SLSQP METHOD: Minimum error = \", epsilon, \" s_values: \", s_values)\n",
    "\n",
    "epsilon, s_values = return_min_value(20, m_value, 'L-BFGS-B')\n",
    "print(\"L-BFGS-B METHOD: Minimum error = \", epsilon, \" s_values: \", s_values)"
   ]
  },
  {
   "cell_type": "code",
   "execution_count": 32,
   "id": "38bc7a25-49ff-421d-aea6-cb549dc36ffa",
   "metadata": {},
   "outputs": [
    {
     "name": "stdout",
     "output_type": "stream",
     "text": [
      "0.0032119266091353697\n",
      "0.0038287232725517832\n",
      "Minimum values found by SLSQP Method\n",
      "4.455600939580585e-08\n",
      "4.216038554660022e-08\n",
      "4.215670861686065e-08\n",
      "Minimum values found by L-BFGS-B Method\n",
      "2.0185906699373124e-10\n"
     ]
    }
   ],
   "source": [
    "# Minimum values found by SLSQP Method\n",
    "print(\"Minimum values found by SLSQP Method\")\n",
    "print(epsilon_func([0.03806023374435662, 0.10838637566236962, 0.16221167441072884, 0.1913417161825448, 0.19134171618254503, 0.1622116744107288, 0.10838637566236964, 0.03806023374435663]))\n",
    "print(epsilon_func([0.08915028332374811, 0.16066107804400595, 0.11316561091250425, 0.13702441164206514, 0.13702361737515267, 0.11316624492816715, 0.16066046721461813, 0.08914828655973867]))\n",
    "print(epsilon_func([0.08915004552240306, 0.16066103188805328, 0.11316580035396968, 0.13702439761109078, 0.13702366410074956, 0.11316639014088864, 0.1606604938519956, 0.08914817653084944]))\n",
    "\n",
    "# Minimum values found by L-BFGS-B Method\n",
    "print(\"Minimum values found by L-BFGS-B Method\")\n",
    "print(epsilon_func([0.038060289197624234, 0.10838643111560388, 0.16221172986391613, 0.19134177163569888, 0.19134177163570046, 0.16221172986391763, 0.10838643111560466, 0.03806028919762364]))\n",
    "print(epsilon_func([0.14414799983607154, 0.3508429282575305, 0.17130062659794726, 5.579211705300236e-10, 0.1685937176538608, 0.006520042633380491, 0.015947561354118688, 0.142649130823024]))"
   ]
  },
  {
   "cell_type": "markdown",
   "id": "c4e72471-ad22-4d49-9fe6-b6db442a704f",
   "metadata": {},
   "source": [
    "#### When m = 10"
   ]
  },
  {
   "cell_type": "code",
   "execution_count": 34,
   "id": "7dd2933a-a165-46de-ab72-d03d3bc9db29",
   "metadata": {},
   "outputs": [
    {
     "name": "stdout",
     "output_type": "stream",
     "text": [
      "SLSQP METHOD: Minimum error =  2.6777631758866682e-08  s_values:  [0.07568406622439884, 0.12416062524225233, 0.08791055975462658, 0.1121677280036812, 0.10007795514711366, 0.10007792212745426, 0.11216738715940267, 0.08791025208764376, 0.12416003600225003, 0.07568346825117656]\n",
      "L-BFGS-B METHOD: Minimum error =  1.5116691413025667e-10  s_values:  [0.024471769814348752, 0.07101978892202189, 0.1106158990031438, 0.13938415692065945, 0.1545085251493619, 0.15450852514936264, 0.1393841569206586, 0.11061589900314339, 0.07101978892202118, 0.02447176981434826]\n"
     ]
    }
   ],
   "source": [
    "m_value = 10\n",
    "\n",
    "epsilon, s_values = return_min_value(20, m_value, 'SLSQP')\n",
    "print(\"SLSQP METHOD: Minimum error = \", epsilon, \" s_values: \", s_values)\n",
    "\n",
    "epsilon, s_values = return_min_value(20, m_value, 'L-BFGS-B')\n",
    "print(\"L-BFGS-B METHOD: Minimum error = \", epsilon, \" s_values: \", s_values)"
   ]
  },
  {
   "cell_type": "code",
   "execution_count": 35,
   "id": "6c6e28cb-736a-4ede-ac1c-4f9c4f4332b9",
   "metadata": {},
   "outputs": [
    {
     "name": "stdout",
     "output_type": "stream",
     "text": [
      "1.0000003993199922\n",
      "2.6648916945411316e-09\n",
      "1.5548200284543092e-09\n",
      "6.195767679163424e-10\n",
      "9.470185647478117e-10\n",
      "Minimum values found by SLSQP Method\n",
      "2.811032373227265e-08\n",
      "2.6781363123041336e-08\n",
      "Minimum values found by L-BFGS-B Method\n",
      "1.5116691413025667e-10\n"
     ]
    }
   ],
   "source": [
    "#lowest found\n",
    "\n",
    "s1 =  0.05364872685533633  \n",
    "s2 =  0.14721064956475943  \n",
    "s3 =  0.10233004848784125  \n",
    "s4 =  0.09337909913391204  \n",
    "s5 =  0.13074073761091892  \n",
    "s6 =  0.0986948049530884  \n",
    "s7 =  0.11486611070913687  \n",
    "s8 =  0.06256525581307926  \n",
    "s9 =  0.09828268275595599  \n",
    "s10 =  0.0982822834359638\n",
    "\n",
    "print(s1+s2+s3+s4+s5+s6+s7+s8+s9+s10)\n",
    "print(epsilon_func([s1,s2,s3,s4,s5,s6,s7,s8,s9,s10]))\n",
    "\n",
    "print(epsilon_func([1.3832143212538895e-05,0.020171240809496914,0.1442138957198114,0.03857411216316778,0.08901720196922741,0.3702780729681437,0.23488945296172076,0.0706718608067379,0.03217222452389344, 3.2959598175463414e-10]))\n",
    "print(epsilon_func([1.1248132237043405e-06,0.04512320843842305,0.024593384013038292,0.04527834728491069,0.2332676617591886,0.3199456675667349,0.16622576804101777,0.04481066813168081,0.07601596691112808,0.04473936994512728]))\n",
    "print(epsilon_func([0.1335324423107373,0.1128366236347572,1.640200449533966e-07,0.08020625700012156,1.8506368887844792e-07,0.0964908437805906,0.1397637537215577,0.08315948326908801,0.2267050393626389,0.12730643955023305]))\n",
    "\n",
    "#8.06804355409631e-10\n",
    "#epsilon_func([0.2351430703273727,0.3154665641681026,-0.1666701178852503,0.0380625427310032,0.03931095646774125,0.07261701465054925,0.412494548256661,0.18287678730659268 ,-0.0199685790907167,-0.1093275489862226])\n",
    "\n",
    "# Minimum values found by SLSQP Method\n",
    "print(\"Minimum values found by SLSQP Method\")\n",
    "print(epsilon_func([0.024471741852423214, 0.07101976096010307, 0.11061587104123718, 0.13938412895876282, 0.15450849718747361, 0.15450849718747384, 0.13938412895876295, 0.11061587104123694, 0.0710197609601032, 0.02447174185242318]))\n",
    "print(epsilon_func([0.07568415407737258, 0.12416067526200436, 0.08791043655425992, 0.11216779819442363, 0.10007789726161764, 0.10007787505413628, 0.11216743558212058, 0.0879101280674159, 0.124160054918517, 0.0756835450281322]))\n",
    "print(epsilon_func([0.07568406622439884, 0.12416062524225233, 0.08791055975462658, 0.1121677280036812, 0.10007795514711366, 0.10007792212745426, 0.11216738715940267, 0.08791025208764376, 0.12416003600225003, 0.07568346825117656]))\n",
    "\n",
    "# Minimum values found by L-BFGS-B Method\n",
    "print(\"Minimum values found by L-BFGS-B Method\")\n",
    "print(epsilon_func([0.024471769814348752, 0.07101978892202189, 0.1106158990031438, 0.13938415692065945, 0.1545085251493619, 0.15450852514936264, 0.1393841569206586, 0.11061589900314339, 0.07101978892202118, 0.02447176981434826]))"
   ]
  }
 ],
 "metadata": {
  "kernelspec": {
   "display_name": "Python 3 (ipykernel)",
   "language": "python",
   "name": "python3"
  },
  "language_info": {
   "codemirror_mode": {
    "name": "ipython",
    "version": 3
   },
   "file_extension": ".py",
   "mimetype": "text/x-python",
   "name": "python",
   "nbconvert_exporter": "python",
   "pygments_lexer": "ipython3",
   "version": "3.11.7"
  }
 },
 "nbformat": 4,
 "nbformat_minor": 5
}
