{
 "cells": [
  {
   "cell_type": "markdown",
   "id": "73d2a7c0-7029-421d-a11a-8535909b58dd",
   "metadata": {},
   "source": [
    "# Dynamical Decoupling (DD) Simulation\n",
    "## Specific case: m=2 and t1=t2=t\n",
    "Ideal system:  **$e^{-iZt}$** \\\n",
    "Noisy system: **$e^{-i(Z+\\lambda{X})t}$**\n",
    "#### Want to prove: \n",
    "**$e^{-i(Z+\\lambda{X})t}Ze^{-i(Z+\\lambda{X})t}Z \\approx e^{-2iZt}$** "
   ]
  },
  {
   "cell_type": "markdown",
   "id": "e7ee53e4-a449-4aa9-96af-b1e62b8e1bde",
   "metadata": {},
   "source": [
    "### Libraries and Pauli Matrices "
   ]
  },
  {
   "cell_type": "code",
   "execution_count": 1,
   "id": "61559f1e-f7f4-4e2d-ba57-f2f1aa92000d",
   "metadata": {},
   "outputs": [],
   "source": [
    "import numpy as np\n",
    "import scipy\n",
    "import math\n",
    "from scipy.linalg import expm, svd\n",
    "import matplotlib.pyplot as plt\n",
    "import scipy.optimize as spo"
   ]
  },
  {
   "cell_type": "code",
   "execution_count": 2,
   "id": "de9f6d65-ebc3-40e5-be24-c76939e5350c",
   "metadata": {},
   "outputs": [],
   "source": [
    "X, Z, I = np.matrix([[0, 1],[1, 0]]), np.matrix([[1, 0],[0, -1]]), np.matrix([[1, 0],[0, 1]])"
   ]
  },
  {
   "cell_type": "markdown",
   "id": "128d9900-ab39-4ebe-b6ae-13278d6fff6b",
   "metadata": {},
   "source": [
    "### Simulation code"
   ]
  },
  {
   "cell_type": "code",
   "execution_count": 3,
   "id": "d040cba3-5d80-4806-92a0-d6f26ef5ddc6",
   "metadata": {},
   "outputs": [
    {
     "name": "stdout",
     "output_type": "stream",
     "text": [
      "error at t1 = t2 = 0.05 is 0.0004995820845830152\n"
     ]
    }
   ],
   "source": [
    "# creating the variables\n",
    "time = []\n",
    "epsilon = []\n",
    "\n",
    "# set the value of lambda\n",
    "lambda_value = 0.1\n",
    "\n",
    "# simulating the equation for every 0.01s for 1s.\n",
    "for t in np.linspace(0.0,1.0,num=101):\n",
    "    A = expm(-1j*(Z+lambda_value*X)*t)*Z*expm(-1j*(Z+lambda_value*X)*t)*Z\n",
    "    B = expm(-2j*Z*t)\n",
    "    # calculate the difference between the ideal and noisy system\n",
    "    difference = A - B\n",
    "    # get the maximum eigen value of the difference matrix\n",
    "    eigenvalues,_ = svd(difference, compute_uv = False)\n",
    "    max_eigenvalue = np.max(eigenvalues)\n",
    "    # add the maximum eigen value to the array epsilon\n",
    "    epsilon.append(max_eigenvalue)\n",
    "    time.append(t) \n",
    "    \n",
    "print(\"error at t1 = t2 = \" + str(time[5]) + \" is \" + str(epsilon[5]))"
   ]
  },
  {
   "cell_type": "markdown",
   "id": "d6e3ea1d-aeff-4b42-9eb5-255393cadd48",
   "metadata": {},
   "source": [
    "### Graph t vs $\\epsilon$"
   ]
  },
  {
   "cell_type": "code",
   "execution_count": 4,
   "id": "f141df2e-d60c-4971-837b-1f9f0cabe2f9",
   "metadata": {},
   "outputs": [
    {
     "data": {
      "image/png": "[encoded data removed]",
      "text/plain": [
       "<Figure size 640x480 with 1 Axes>"
      ]
     },
     "metadata": {},
     "output_type": "display_data"
    }
   ],
   "source": [
    "# graph the changes in epsilon respect to the time\n",
    "plt.plot(time, epsilon, label = \"Epsilon\")\n",
    "\n",
    "plt.xlabel('Time')\n",
    "plt.ylabel('$\\epsilon$')\n",
    "plt.legend()\n",
    "\n",
    "plt.savefig('first_simulation.png')\n",
    "plt.show()\n"
   ]
  },
  {
   "cell_type": "markdown",
   "id": "a042471d-873d-47a0-98e9-2d37bd2ad6fe",
   "metadata": {},
   "source": [
    "## General case\n",
    "The generalization of the previous case is the following:\\\n",
    "Ideal system: **$e^{-iZs_1T}e^{-iZs_2T}e^{-iZs_3T}...e^{-iZs_mT}$** \\\n",
    "Noisy system: **$e^{-i(Z+\\lambda{X})s_1T}e^{-i(Z+\\lambda{X})s_2T}e^{-i(Z+\\lambda{X})s_3T}...e^{-i(Z+\\lambda{X})s_mT}$**\n",
    "##### Error function:\n",
    "**$\\epsilon=||(e^{-i(Z+\\lambda{X})s_1T}Ze^{-i(Z+\\lambda{X})s_2T}Ze^{-i(Z+\\lambda{X})s_3T}Ze^{-i(Z+\\lambda{X})s_4T}Z...Ze^{-i(Z+\\lambda{X})s_mT}Z) - e^{-iZT}||$**\n",
    "### Simulation\n"
   ]
  },
  {
   "cell_type": "code",
   "execution_count": 5,
   "id": "814a80f5-453b-4db9-8303-2a8156c0a594",
   "metadata": {},
   "outputs": [],
   "source": [
    "def error_calculation(lambda_value, m, T, areEqual, s_values):\n",
    "    prev_A = I\n",
    "    \n",
    "    # Case 1: Periodic DD when s1 = s2 = ... = sm \n",
    "    if (areEqual == True):\n",
    "        for i in np.linspace(1,m,num=m):\n",
    "            # even numbers\n",
    "            if (i%2 == 0): \n",
    "                A = np.dot(prev_A, expm(-1j*(Z-lambda_value*X)*T/m))\n",
    "                #prev_A * expm(-1j*(Z-lambda_value*X)*T/m)\n",
    "            # odd numbers\n",
    "            else:\n",
    "                A = np.dot(prev_A, expm(-1j*(Z+lambda_value*X)*T/m))\n",
    "                #prev_A * expm(-1j*(Z+lambda_value*X)*T/m)\n",
    "            # updating the matrix A\n",
    "            prev_A = A\n",
    "    \n",
    "    # Case 2: Concatenated DD or Uhrig DD when s has a different values       \n",
    "    else:\n",
    "        i = 1\n",
    "        # simulating the equation \n",
    "        for s in s_values:\n",
    "            # even numbers\n",
    "            if (i%2 == 0):\n",
    "                A = np.dot(prev_A, expm(-1j*(Z-lambda_value*X)*s*T))\n",
    "                # prev_A * expm(-1j*(Z-lambda_value*X)*s*T)   \n",
    "            # odd numbers\n",
    "            else:\n",
    "                A = np.dot(prev_A, expm(-1j*(Z+lambda_value*X)*s*T))\n",
    "                # prev_A * expm(-1j*(Z+lambda_value*X)*s*T)\n",
    "            # updating variables\n",
    "            #print(A)\n",
    "            prev_A = A \n",
    "            i+=1 \n",
    "            \n",
    "    B = expm(-1j*Z*T) \n",
    "    # calculate the difference between the ideal and noisy system\n",
    "    difference = A - B\n",
    "    # get the maximum eigen value of the difference matrix\n",
    "    eigenvalues = svd(difference, compute_uv = False)\n",
    "    max_eigenvalue = np.max(eigenvalues)\n",
    "    #print(\"The error is \", max_eigenvalue)\n",
    "    return max_eigenvalue\n",
    "\n",
    "def UDD_calculate_s_values(m):\n",
    "    s_values = []\n",
    "    prev_t = 0\n",
    "    for j in range(1, m+1):\n",
    "        t = np.power(np.sin(j*np.pi/(2*m)), 2)\n",
    "        s_values.append(t-prev_t)\n",
    "        prev_t = t\n",
    "    return s_values        \n"
   ]
  },
  {
   "cell_type": "code",
   "execution_count": 6,
   "id": "3334b562-9402-4ec6-8b92-4adb123a00f4",
   "metadata": {},
   "outputs": [
    {
     "name": "stdout",
     "output_type": "stream",
     "text": [
      "Case 1 (PDD) ##########################\n",
      "For m = 2 the error is 0.0004995820845830152\n",
      "For m = 4 the error is 0.000249635378216025\n",
      "For m = 6 the error is 0.00016640438462290198\n",
      "For m = 8 the error is 0.00012479824917967564\n",
      "For m = 10 the error is 9.983673349921259e-05\n",
      "\n",
      "Case 2 (CDD) ##########################\n",
      "For m = 2 the error is 0.0004995820845830152\n",
      "For m = 3 the error is 1.2499098133246424e-05\n",
      "For m = 6 the error is 1.8775597711948834e-07\n",
      "For m = 11 the error is 2.6064627389811953e-08\n",
      "\n",
      "Case 3 (UDD) ##########################\n",
      "For m = 2 the error is 0.0004995820845830133\n",
      "For m = 3 the error is 1.249909813324385e-05\n",
      "For m = 4 the error is 2.903186326102563e-07\n",
      "For m = 6 the error is 8.175186759985752e-08\n",
      "For m = 10 the error is 2.8110323699019795e-08\n"
     ]
    }
   ],
   "source": [
    "# creating the variables\n",
    "m_value_c1 = []\n",
    "m_value_c2 = [2,3,6,11]\n",
    "m_value_c3 = [2,3,4,6,10]\n",
    "error_c1 = []\n",
    "error_c2 = []\n",
    "error_c3 = []\n",
    "\n",
    "# set the value of lambda and T\n",
    "lambda_value = 0.1\n",
    "T = 0.1\n",
    "\n",
    "print(\"Case 1 (PDD) ##########################\")\n",
    "for m in range(2,11,2):\n",
    "    error_c1.append(error_calculation(lambda_value, m, T, True, []))\n",
    "    m_value_c1.append(m)\n",
    "    print(\"For m = \" + str(m) + \" the error is \" + str(error_calculation(lambda_value, m, T, True, [])))\n",
    "\n",
    "\n",
    "print(\"\\nCase 2 (CDD) ##########################\")\n",
    "error_c2.append(error_calculation(lambda_value, 2, T, False, [1/2,1/2]))\n",
    "print(\"For m = 2 the error is \" + str(error_c2[0]))\n",
    "\n",
    "error_c2.append(error_calculation(lambda_value, 3, T, False, [1/4,1/2,1/4]))\n",
    "print(\"For m = 3 the error is \" + str(error_c2[1]))\n",
    "\n",
    "error_c2.append(error_calculation(lambda_value, 6, T, False, [1/8,1/4,1/8,1/8,1/4,1/8]))\n",
    "print(\"For m = 6 the error is \" + str(error_c2[2]))\n",
    "\n",
    "error_c2.append(error_calculation(lambda_value, 11, T, False, [1/16,1/8,1/16,1/16,1/8,1/8,1/8,1/16,1/16,1/8,1/16]))\n",
    "print(\"For m = 11 the error is \" + str(error_c2[3]))\n",
    "\n",
    "\n",
    "print(\"\\nCase 3 (UDD) ##########################\")\n",
    "error_c3.append(error_calculation(lambda_value, 2, T, False, UDD_calculate_s_values(2)))\n",
    "print(\"For m = 2 the error is \" + str(error_c3[0]))\n",
    "\n",
    "error_c3.append(error_calculation(lambda_value, 3, T, False, UDD_calculate_s_values(3)))\n",
    "print(\"For m = 3 the error is \" + str(error_c3[1]))\n",
    "\n",
    "error_c3.append(error_calculation(lambda_value, 4, T, False, UDD_calculate_s_values(4)))\n",
    "print(\"For m = 4 the error is \" + str(error_c3[2]))\n",
    "\n",
    "error_c3.append(error_calculation(lambda_value, 6, T, False, UDD_calculate_s_values(6)))\n",
    "print(\"For m = 6 the error is \" + str(error_c3[3]))\n",
    "\n",
    "error_c3.append(error_calculation(lambda_value, 10, T, False, UDD_calculate_s_values(10)))\n",
    "print(\"For m = 10 the error is \" + str(error_c3[4]))\n"
   ]
  },
  {
   "cell_type": "markdown",
   "id": "d4bbc585-1b7d-4596-a328-92882fa08c7b",
   "metadata": {},
   "source": [
    "### Graph t vs $\\epsilon$"
   ]
  },
  {
   "cell_type": "code",
   "execution_count": 7,
   "id": "431d643f-81ba-4eef-9a67-5da44cacdbc6",
   "metadata": {},
   "outputs": [
    {
     "data": {
      "image/png": "[encoded data removed]",
      "text/plain": [
       "<Figure size 640x480 with 1 Axes>"
      ]
     },
     "metadata": {},
     "output_type": "display_data"
    }
   ],
   "source": [
    "# graph the changes of the error for different values of m\n",
    "\n",
    "plt.plot(m_value_c1, error_c1, color='navy', marker='o', label = \"PDD\")\n",
    "plt.plot(m_value_c2, error_c2, color='blueviolet', marker='o', label = \"CDD\")\n",
    "plt.plot(m_value_c3, error_c3, color='crimson', marker='o', label = \"UDD\")\n",
    "\n",
    "plt.title('$\\epsilon$ vs m')\n",
    "plt.xlabel('m')\n",
    "plt.ylabel('$\\epsilon$')\n",
    "plt.yscale(\"log\")\n",
    "\n",
    "plt.legend()\n",
    "plt.grid()\n",
    "\n",
    "plt.savefig('general_simulation.png')\n",
    "plt.show()\n"
   ]
  },
  {
   "cell_type": "markdown",
   "id": "b16dd4ff-8583-4d36-9178-70ebb7067d46",
   "metadata": {},
   "source": [
    "## Minimize the $\\epsilon$ function for a fixed T and m"
   ]
  },
  {
   "cell_type": "markdown",
   "id": "bd755c3b-dc82-49b0-9c24-0b87d8995cb3",
   "metadata": {},
   "source": [
    "### When m = 2"
   ]
  },
  {
   "cell_type": "markdown",
   "id": "6bf8733e-b207-4fc5-bacd-167b628b54d1",
   "metadata": {},
   "source": [
    "Fix T, $\\lambda\\$ and m = 2"
   ]
  },
  {
   "cell_type": "code",
   "execution_count": 8,
   "id": "dbfce62f-a968-4bc5-b88b-1fbef62a91b6",
   "metadata": {},
   "outputs": [],
   "source": [
    "# Defining the funtion epsilon\n",
    "def epsilon_func(s_values):\n",
    "    s1 = s_values[0]\n",
    "    s2 = s_values[1]\n",
    "    lambda_value = 0.1\n",
    "    T = 0.1\n",
    "    A = np.dot(expm(-1j*(Z+lambda_value*X)*s1*T), expm(-1j*(Z-lambda_value*X)*s2*T))\n",
    "    difference = A - expm(-1j*Z*T)\n",
    "    eigenvalues = svd(difference, compute_uv = False)\n",
    "    epsilon = np.max(eigenvalues)\n",
    "    print(epsilon)\n",
    "    return epsilon    "
   ]
  },
  {
   "cell_type": "code",
   "execution_count": 9,
   "id": "d457df4b-e6c8-483b-99e5-2a9b16ce2a95",
   "metadata": {},
   "outputs": [
    {
     "name": "stdout",
     "output_type": "stream",
     "text": [
      "0.0004995820845830152\n",
      "0.0004995820945077682\n",
      "0.0004995820945077682\n",
      "Optimization terminated successfully    (Exit mode 0)\n",
      "            Current function value: 0.0004995820845830152\n",
      "            Iterations: 1\n",
      "            Function evaluations: 3\n",
      "            Gradient evaluations: 1\n",
      "s1 = 0.5 s2 = 0.5\n"
     ]
    }
   ],
   "source": [
    "# Starting guess\n",
    "s_values_start = [0.5, 0.5]\n",
    "\n",
    "# Constraints -> s1 + s2 = 1 \n",
    "const = ({'type':'eq',\n",
    "          'fun' : lambda s_values : (s_values[0] + s_values[1] - 1)})\n",
    "# Bounds\n",
    "bounds = ((0.0,1.0),(0.0,1.0))\n",
    "\n",
    "# optimizing\n",
    "result =  spo.minimize(epsilon_func, s_values_start, options={\"disp\":True}, constraints = const, bounds = bounds)\n",
    "\n",
    "# print result\n",
    "s_values = result.x\n",
    "s1 = s_values[0]\n",
    "s2 = s_values[1]\n",
    "print(\"s1 = \" + str(s1) + \" s2 = \" + str(s2))"
   ]
  },
  {
   "cell_type": "markdown",
   "id": "5c33786f-8ca2-408d-9505-bc165fafcdb1",
   "metadata": {},
   "source": [
    "### When m = 3\n",
    "Fix T, $\\lambda\\$ and m = 3"
   ]
  },
  {
   "cell_type": "code",
   "execution_count": 10,
   "id": "159d5bb4-f422-4e57-a66c-0cd433c54038",
   "metadata": {},
   "outputs": [],
   "source": [
    "# Defining the funtion epsilon\n",
    "def epsilon_func(s_values):\n",
    "    s1 = s_values[0]\n",
    "    s2 = s_values[1]\n",
    "    s3 = s_values[2]\n",
    "    lambda_value = 0.1\n",
    "    T = 0.1\n",
    "    A = np.dot(expm(-1j*(Z+lambda_value*X)*s1*T), expm(-1j*(Z-lambda_value*X)*s2*T))\n",
    "    B = np.dot(A, expm(-1j*(Z+lambda_value*X)*s3*T))\n",
    "    difference = B - expm(-1j*Z*T)\n",
    "    eigenvalues = svd(difference, compute_uv = False)\n",
    "    epsilon = np.max(eigenvalues)\n",
    "    return epsilon   "
   ]
  },
  {
   "cell_type": "code",
   "execution_count": 11,
   "id": "0f251f03-8314-4db7-abdc-8be206ffcdd9",
   "metadata": {},
   "outputs": [
    {
     "data": {
      "text/plain": [
       "1.2499098133246424e-05"
      ]
     },
     "execution_count": 11,
     "metadata": {},
     "output_type": "execute_result"
    }
   ],
   "source": [
    "epsilon_func([1/4,1/2,1/4])"
   ]
  },
  {
   "cell_type": "code",
   "execution_count": 12,
   "id": "e21f43e1-5087-49d2-a133-9f160bc1f52e",
   "metadata": {},
   "outputs": [
    {
     "name": "stdout",
     "output_type": "stream",
     "text": [
      "Optimization terminated successfully    (Exit mode 0)\n",
      "            Current function value: 4.165208430904028e-07\n",
      "            Iterations: 6\n",
      "            Function evaluations: 30\n",
      "            Gradient evaluations: 6\n",
      "s1 =  0.2503130725742426  s2 =  0.49937393184583934  s3 =  0.2503129955799181\n"
     ]
    }
   ],
   "source": [
    "# Starting guess\n",
    "s_values_start = [0.3, 0.3, 0.3]\n",
    "\n",
    "# Constraints -> s1 + s2 + s3 = 1 \n",
    "const = ({'type':'eq',\n",
    "          'fun' : lambda s_values : (s_values[0] + s_values[1] + s_values[2] - 1)})\n",
    "# Bounds\n",
    "bounds = ((0.0,1.0),(0.0,1.0),(0.0,1.0))\n",
    "\n",
    "# optimizing\n",
    "result =  spo.minimize(epsilon_func, s_values_start, options={\"disp\":True}, constraints = const, bounds = bounds)\n",
    "\n",
    "# print result\n",
    "s_values = result.x\n",
    "s1 = s_values[0]\n",
    "s2 = s_values[1]\n",
    "s3 = s_values[2]\n",
    "print(\"s1 = \", s1, \" s2 = \", s2, \" s3 = \", s3)"
   ]
  },
  {
   "cell_type": "markdown",
   "id": "9cd68bdd-ab57-45c4-9af5-3e6562bb37bc",
   "metadata": {},
   "source": [
    "### When m = 4\n",
    "Fix T, $\\lambda\\$ and m = 4"
   ]
  },
  {
   "cell_type": "code",
   "execution_count": 13,
   "id": "99696099-cfce-4ef1-b68f-73b1295dbbbd",
   "metadata": {},
   "outputs": [],
   "source": [
    "# Defining the funtion epsilon\n",
    "def epsilon_func(s_values):\n",
    "    s1 = s_values[0]\n",
    "    s2 = s_values[1]\n",
    "    s3 = s_values[2]\n",
    "    s4 = s_values[3]\n",
    "    lambda_value = 0.1\n",
    "    T = 0.1\n",
    "    A = np.dot(expm(-1j*(Z+lambda_value*X)*s1*T), expm(-1j*(Z-lambda_value*X)*s2*T))\n",
    "    B = np.dot(expm(-1j*(Z+lambda_value*X)*s3*T), expm(-1j*(Z-lambda_value*X)*s4*T))\n",
    "    C = np.dot(A,B)\n",
    "    difference = C - expm(-1j*Z*T)\n",
    "    eigenvalues = svd(difference, compute_uv = False)\n",
    "    epsilon = np.max(eigenvalues)\n",
    "    return epsilon   "
   ]
  },
  {
   "cell_type": "code",
   "execution_count": 14,
   "id": "18ff4ff2-19c5-4f83-8130-3d86f93dafdb",
   "metadata": {},
   "outputs": [
    {
     "data": {
      "text/plain": [
       "2.9031863262767787e-07"
      ]
     },
     "execution_count": 14,
     "metadata": {},
     "output_type": "execute_result"
    }
   ],
   "source": [
    "epsilon_func([0.14644660940672624, 0.3535533905932736, 0.35355339059327384, 0.14644660940672627])"
   ]
  },
  {
   "cell_type": "code",
   "execution_count": 15,
   "id": "3d38245a-84af-403f-a98f-24b2176ddb00",
   "metadata": {},
   "outputs": [
    {
     "data": {
      "text/plain": [
       "0.00024963537821602496"
      ]
     },
     "execution_count": 15,
     "metadata": {},
     "output_type": "execute_result"
    }
   ],
   "source": [
    "epsilon_func([1/4,1/4,1/4,1/4])"
   ]
  },
  {
   "cell_type": "code",
   "execution_count": 18,
   "id": "474a9b77-610a-4cd0-9734-5c7a714d637b",
   "metadata": {},
   "outputs": [
    {
     "name": "stdout",
     "output_type": "stream",
     "text": [
      "Optimization terminated successfully    (Exit mode 0)\n",
      "            Current function value: 2.1357686000351654e-07\n",
      "            Iterations: 4\n",
      "            Function evaluations: 21\n",
      "            Gradient evaluations: 4\n",
      "s1 =  0.14654465934958835  s2 =  0.35345536715333054  s3 =  0.3534553919878354  s4 =  0.14654458150924562\n"
     ]
    }
   ],
   "source": [
    "# Starting guess\n",
    "s_values_start = [0.15, 0.35, 0.35, 0.15]\n",
    "\n",
    "# Constraints -> s1 + s2 + s3 = 1 \n",
    "const = ({'type':'eq',\n",
    "          'fun' : lambda s_values : (s_values[0] + s_values[1] + s_values[2] + s_values[3]- 1)})\n",
    "# Bounds\n",
    "bounds = ((0.0,1.0),(0.0,1.0),(0.0,1.0),(0.0, 1.0))\n",
    "\n",
    "# optimizing\n",
    "result =  spo.minimize(epsilon_func, s_values_start, options={\"disp\":True}, constraints = const, bounds = bounds)\n",
    "\n",
    "# print result\n",
    "s_values = result.x\n",
    "s1 = s_values[0]\n",
    "s2 = s_values[1]\n",
    "s3 = s_values[2]\n",
    "s4 = s_values[3]\n",
    "print(\"s1 = \", s1, \" s2 = \", s2, \" s3 = \", s3, \" s4 = \", s4)"
   ]
  },
  {
   "cell_type": "code",
   "execution_count": null,
   "id": "c08d8af1-d7d5-4f85-bda9-7705af7fd8d7",
   "metadata": {},
   "outputs": [],
   "source": []
  }
 ],
 "metadata": {
  "kernelspec": {
   "display_name": "Python 3 (ipykernel)",
   "language": "python",
   "name": "python3"
  },
  "language_info": {
   "codemirror_mode": {
    "name": "ipython",
    "version": 3
   },
   "file_extension": ".py",
   "mimetype": "text/x-python",
   "name": "python",
   "nbconvert_exporter": "python",
   "pygments_lexer": "ipython3",
   "version": "3.10.12"
  }
 },
 "nbformat": 4,
 "nbformat_minor": 5
}
