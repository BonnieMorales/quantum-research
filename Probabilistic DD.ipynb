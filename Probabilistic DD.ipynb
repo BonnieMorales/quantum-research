{
 "cells": [
  {
   "cell_type": "markdown",
   "id": "03422e21-d7e3-41b4-a292-334c0ce22c0d",
   "metadata": {},
   "source": [
    "# Probabilistics Dynamical Decoupling"
   ]
  },
  {
   "cell_type": "markdown",
   "id": "7e24c271-1668-4e46-9322-fb2c17735a1b",
   "metadata": {},
   "source": [
    "## Basic example"
   ]
  },
  {
   "cell_type": "markdown",
   "id": "02ecabd7-735a-4340-863c-02cd0f775449",
   "metadata": {},
   "source": [
    "Ideal system:  **$e^{-iZt}$** \\\n",
    "Noisy implementation: **$e^{-i(Z+\\lambda{X})t}$**\n",
    "#### Want to prove: \n",
    "**$D=Ze^{-i(Z+\\lambda{X})s_2T}Ze^{-i(Z+\\lambda{X})s_1T}$** \\\n",
    "**$D^{rev}=e^{-i(Z+\\lambda{X})s_2T}Ze^{-i(Z+\\lambda{X})s_1T}Z$** \n",
    "\n",
    "**$\\vec{s}=[1/2,1/2] $**\n",
    "\n",
    "**$||e^{-i2Zt} - \\frac{1}{2}(D+D^{rev})|| $** "
   ]
  },
  {
   "cell_type": "markdown",
   "id": "748d2d51-2688-4e04-8a1b-fbf321899d2e",
   "metadata": {},
   "source": [
    "### Libraries and Pauli Matrices"
   ]
  },
  {
   "cell_type": "code",
   "execution_count": 5,
   "id": "08c49adf-684c-4733-b6e3-f435baec684b",
   "metadata": {},
   "outputs": [],
   "source": [
    "# Libraries\n",
    "import numpy as np\n",
    "import scipy\n",
    "import math\n",
    "from scipy.linalg import expm, svd\n",
    "import matplotlib.pyplot as plt\n",
    "import scipy.optimize as spo\n",
    "from scipy.integrate import quad"
   ]
  },
  {
   "cell_type": "code",
   "execution_count": 6,
   "id": "4f45af95-1475-427d-813c-5e8bb6d79279",
   "metadata": {},
   "outputs": [],
   "source": [
    "# Pauli Matrices\n",
    "X, Z, I = np.matrix([[0, 1],[1, 0]]), np.matrix([[1, 0],[0, -1]]), np.matrix([[1, 0],[0, 1]])"
   ]
  },
  {
   "cell_type": "code",
   "execution_count": 7,
   "id": "df11f83b-fbe2-4a99-8628-f9cf52c5d59b",
   "metadata": {},
   "outputs": [
    {
     "name": "stdout",
     "output_type": "stream",
     "text": [
      "Probabilistic error: 0.09995999106018982\n",
      "Error D: 0.09996123944929122\n",
      "Error Drev: 0.09996123944929122\n"
     ]
    }
   ],
   "source": [
    "T = 0.1\n",
    "lambda_value = 0.1\n",
    "\n",
    "# D evolution\n",
    "A = np.dot(expm(-1j*(Z+lambda_value*X)*T/2), expm(-1j*(Z-lambda_value*X)*T/2))\n",
    "B = expm(-2j*Z*T)\n",
    "# calculate the difference between the ideal and noisy system\n",
    "difference = A - B\n",
    "# get the maximum eigen value of the difference matrix\n",
    "eigenvalues = svd(difference, compute_uv = False)\n",
    "max_eigenvalue = np.max(eigenvalues)\n",
    "\n",
    "# D reverse evolution\n",
    "A_rev = np.dot(expm(-1j*(Z-lambda_value*X)*T/2),expm(-1j*(Z+lambda_value*X)*T/2))\n",
    "B = expm(-2j*Z*T)\n",
    "# calculate the difference between the ideal and noisy system\n",
    "difference_rev = A_rev - B\n",
    "# get the maximum eigen value of the difference matrix\n",
    "eigenvalues_rev = svd(difference_rev, compute_uv = False)\n",
    "max_eigenvalue_rev = np.max(eigenvalues_rev)\n",
    "\n",
    "# prbabilistic error\n",
    "A_prob = 1/2*(A + A_rev)\n",
    "# calculate the difference between the ideal and noisy system\n",
    "difference_prob = A_prob - B\n",
    "# get the maximum eigen value of the difference matrix\n",
    "eigenvalues_prob = svd(difference_prob, compute_uv = False)\n",
    "max_eigenvalue_prob = np.max(eigenvalues_prob)\n",
    "\n",
    "print(\"Probabilistic error: \" + str(max_eigenvalue_prob))\n",
    "print(\"Error D: \" + str(max_eigenvalue))\n",
    "print(\"Error Drev: \" + str(max_eigenvalue_rev))"
   ]
  },
  {
   "cell_type": "markdown",
   "id": "5517f4eb-17a4-4872-858b-2e91d04ad1b3",
   "metadata": {},
   "source": [
    "### Simulation"
   ]
  },
  {
   "cell_type": "markdown",
   "id": "1c4bf768-fa41-46f6-b20c-ff2c32d4e5ed",
   "metadata": {},
   "source": [
    "**$||e^{-iZt} - \\frac{1}{2}(UDD_{level 2} + UDD_{level 3})|| $** "
   ]
  },
  {
   "cell_type": "code",
   "execution_count": 10,
   "id": "838367bf-352e-467e-92e2-150fb07fd11d",
   "metadata": {},
   "outputs": [],
   "source": [
    "def probabilistic_error(DD_seq_array):\n",
    "    A = np.matrix([[0+0j, 0+0j],[0+0j, 0+0j]])\n",
    "    for DD in DD_seq_array:\n",
    "        A += DD\n",
    "        \n",
    "    A *= 1/2  \n",
    "    B = expm(-1j*Z*T) \n",
    "    # calculate the difference between the ideal and noisy system\n",
    "    difference = A - B\n",
    "    # get the maximum eigen value of the difference matrix\n",
    "    eigenvalues = svd(difference, compute_uv = False)\n",
    "    max_eigenvalue = np.max(eigenvalues)\n",
    "    #print(\"The error is \", max_eigenvalue)\n",
    "    return max_eigenvalue\n"
   ]
  },
  {
   "cell_type": "code",
   "execution_count": 11,
   "id": "54ca711e-c59f-494b-ad3c-dbcaad64cbaa",
   "metadata": {},
   "outputs": [
    {
     "ename": "NameError",
     "evalue": "name 'DD_sequence' is not defined",
     "output_type": "error",
     "traceback": [
      "\u001b[0;31m---------------------------------------------------------------------------\u001b[0m",
      "\u001b[0;31mNameError\u001b[0m                                 Traceback (most recent call last)",
      "Cell \u001b[0;32mIn[11], line 7\u001b[0m\n\u001b[1;32m      3\u001b[0m T \u001b[38;5;241m=\u001b[39m \u001b[38;5;241m0.1\u001b[39m\n\u001b[1;32m      6\u001b[0m \u001b[38;5;66;03m# For probabilistic error\u001b[39;00m\n\u001b[0;32m----> 7\u001b[0m UDD_2 \u001b[38;5;241m=\u001b[39m DD_sequence(lambda_value, \u001b[38;5;241m2\u001b[39m, T, \u001b[38;5;28;01mFalse\u001b[39;00m, UDD_calculate_s_values(\u001b[38;5;241m2\u001b[39m))\n\u001b[1;32m      8\u001b[0m UDD_3 \u001b[38;5;241m=\u001b[39m DD_sequence(lambda_value, \u001b[38;5;241m3\u001b[39m, T, \u001b[38;5;28;01mFalse\u001b[39;00m, UDD_calculate_s_values(\u001b[38;5;241m3\u001b[39m))\n\u001b[1;32m     10\u001b[0m \u001b[38;5;28mprint\u001b[39m(UDD_calculate_s_values(\u001b[38;5;241m2\u001b[39m))\n",
      "\u001b[0;31mNameError\u001b[0m: name 'DD_sequence' is not defined"
     ]
    }
   ],
   "source": [
    "# set the value of lambda and T\n",
    "lambda_value = 0.01\n",
    "T = 0.1\n",
    "\n",
    "\n",
    "# For probabilistic error\n",
    "UDD_2 = DD_sequence(lambda_value, 2, T, False, UDD_calculate_s_values(2))\n",
    "UDD_3 = DD_sequence(lambda_value, 3, T, False, UDD_calculate_s_values(3))\n",
    "\n",
    "print(UDD_calculate_s_values(2))\n",
    "print(UDD_calculate_s_values(3))\n",
    "\n",
    "DD_sequence = np.array([UDD_2, UDD_3])\n",
    "\n",
    "error_avg = probabilistic_error(DD_sequence)\n",
    "\n",
    "# Error of individual DD sequences\n",
    "error_UDD_2 = error_calculation(lambda_value, 2, T, False, UDD_calculate_s_values(2))\n",
    "error_UDD_3 = error_calculation(lambda_value, 3, T, False, UDD_calculate_s_values(3))\n",
    "\n",
    "print(\"Probabilistic error: \" + str(error_avg))\n",
    "print(\"Error UDD(2): \" + str(error_UDD_2))\n",
    "print(\"Error UDD(3): \" + str(error_UDD_3))"
   ]
  },
  {
   "cell_type": "code",
   "execution_count": null,
   "id": "db07fe71-32f1-4b2f-90f7-e8692315535d",
   "metadata": {},
   "outputs": [],
   "source": []
  }
 ],
 "metadata": {
  "kernelspec": {
   "display_name": "Python 3 (ipykernel)",
   "language": "python",
   "name": "python3"
  },
  "language_info": {
   "codemirror_mode": {
    "name": "ipython",
    "version": 3
   },
   "file_extension": ".py",
   "mimetype": "text/x-python",
   "name": "python",
   "nbconvert_exporter": "python",
   "pygments_lexer": "ipython3",
   "version": "3.11.7"
  }
 },
 "nbformat": 4,
 "nbformat_minor": 5
}
