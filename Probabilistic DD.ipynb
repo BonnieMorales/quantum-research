{
 "cells": [
  {
   "cell_type": "markdown",
   "id": "03422e21-d7e3-41b4-a292-334c0ce22c0d",
   "metadata": {},
   "source": [
    "# Probabilistics Dynamical Decoupling"
   ]
  },
  {
   "cell_type": "markdown",
   "id": "02ecabd7-735a-4340-863c-02cd0f775449",
   "metadata": {},
   "source": [
    "Ideal system:  **$e^{-iZt}$** \\\n",
    "Noisy implementation: **$e^{-i(Z+\\lambda{X})t}$**\n",
    "#### Want to prove: \n",
    "**$D=e^{-i(Z+\\lambda{X})t}Ze^{-i(Z+\\lambda{X})t}Z$** \\\n",
    "**$D_{rev}=Ze^{-i(Z+\\lambda{X})t}Ze^{-i(Z+\\lambda{X})t}$** \\\n",
    "\n",
    "**$||e^{-iZt} - \\sum Pr(DD_{sequences})|| $** "
   ]
  },
  {
   "cell_type": "markdown",
   "id": "748d2d51-2688-4e04-8a1b-fbf321899d2e",
   "metadata": {},
   "source": [
    "### Libraries and Pauli Matrices"
   ]
  },
  {
   "cell_type": "code",
   "execution_count": 4,
   "id": "08c49adf-684c-4733-b6e3-f435baec684b",
   "metadata": {},
   "outputs": [],
   "source": [
    "# Libraries\n",
    "import numpy as np\n",
    "import scipy\n",
    "import math\n",
    "from scipy.linalg import expm, svd\n",
    "import matplotlib.pyplot as plt\n",
    "import scipy.optimize as spo\n",
    "from scipy.integrate import quad"
   ]
  },
  {
   "cell_type": "code",
   "execution_count": 5,
   "id": "4f45af95-1475-427d-813c-5e8bb6d79279",
   "metadata": {},
   "outputs": [],
   "source": [
    "# Pauli Matrices\n",
    "X, Z, I = np.matrix([[0, 1],[1, 0]]), np.matrix([[1, 0],[0, -1]]), np.matrix([[1, 0],[0, 1]])"
   ]
  },
  {
   "cell_type": "code",
   "execution_count": 6,
   "id": "df11f83b-fbe2-4a99-8628-f9cf52c5d59b",
   "metadata": {},
   "outputs": [],
   "source": [
    "def UDD_calculate_s_values(m):\n",
    "    s_values = []\n",
    "    prev_t = 0\n",
    "    for j in range(1, m+1):\n",
    "        t = np.power(np.sin(j*np.pi/(2*m)), 2)\n",
    "        s_values.append(t-prev_t)\n",
    "        prev_t = t\n",
    "    return s_values\n",
    "\n",
    "def error_calculation(lambda_value, m, T, areEqual, s_values):\n",
    "    prev_A = I\n",
    "    \n",
    "    # Case 1: Periodic DD when s1 = s2 = ... = sm \n",
    "    if (areEqual == True):\n",
    "        for i in np.linspace(1,m,num=m):\n",
    "            # even numbers\n",
    "            if (i%2 == 0): \n",
    "                A = np.dot(prev_A, expm(-1j*(Z-lambda_value*X)*T/m)) \n",
    "                #prev_A * expm(-1j*(Z-lambda_value*X)*T/m)\n",
    "            # odd numbers\n",
    "            else:\n",
    "                A = np.dot(prev_A, expm(-1j*(Z+lambda_value*X)*T/m))\n",
    "                #prev_A * expm(-1j*(Z+lambda_value*X)*T/m)\n",
    "            # updating the matrix A\n",
    "            prev_A = A\n",
    "    \n",
    "    # Case 2: Concatenated DD or Uhrig DD when s has a different values       \n",
    "    else:\n",
    "        i = 1\n",
    "        # simulating the equation \n",
    "        for s in s_values:\n",
    "            # even numbers\n",
    "            if (i%2 == 0):\n",
    "                A = np.dot(prev_A, expm(-1j*(Z-lambda_value*X)*s*T))\n",
    "                # prev_A * expm(-1j*(Z-lambda_value*X)*s*T)   \n",
    "            # odd numbers\n",
    "            else:\n",
    "                A = np.dot(prev_A, expm(-1j*(Z+lambda_value*X)*s*T))\n",
    "                # prev_A * expm(-1j*(Z+lambda_value*X)*s*T)\n",
    "            # updating variables\n",
    "            #print(A)\n",
    "            prev_A = A \n",
    "            i+=1 \n",
    "            \n",
    "    B = expm(-1j*Z*T) \n",
    "    # calculate the difference between the ideal and noisy system\n",
    "    difference = A - B\n",
    "    # get the maximum eigen value of the difference matrix\n",
    "    eigenvalues = svd(difference, compute_uv = False)\n",
    "    max_eigenvalue = np.max(eigenvalues)\n",
    "    #print(\"The error is \", max_eigenvalue)\n",
    "    return max_eigenvalue\n",
    "    \n",
    "def DD_sequence(lambda_value, m, T, areEqual, s_values):\n",
    "    prev_A = I\n",
    "    \n",
    "    # Case 1: Periodic DD when s1 = s2 = ... = sm \n",
    "    if (areEqual == True):\n",
    "        for i in np.linspace(1,m,num=m):\n",
    "            # even numbers\n",
    "            if (i%2 == 0): \n",
    "                A = np.dot(prev_A, expm(-1j*(Z-lambda_value*X)*T/m)) \n",
    "                #prev_A * expm(-1j*(Z-lambda_value*X)*T/m)\n",
    "            # odd numbers\n",
    "            else:\n",
    "                A = np.dot(prev_A, expm(-1j*(Z+lambda_value*X)*T/m))\n",
    "                #prev_A * expm(-1j*(Z+lambda_value*X)*T/m)\n",
    "            # updating the matrix A\n",
    "            prev_A = A\n",
    "    \n",
    "    # Case 2: Concatenated DD or Uhrig DD when s has a different values       \n",
    "    else:\n",
    "        i = 1\n",
    "        # simulating the equation \n",
    "        for s in s_values:\n",
    "            # even numbers\n",
    "            if (i%2 == 0):\n",
    "                A = np.dot(prev_A, expm(-1j*(Z-lambda_value*X)*s*T))\n",
    "                # prev_A * expm(-1j*(Z-lambda_value*X)*s*T)   \n",
    "            # odd numbers\n",
    "            else:\n",
    "                A = np.dot(prev_A, expm(-1j*(Z+lambda_value*X)*s*T))\n",
    "                # prev_A * expm(-1j*(Z+lambda_value*X)*s*T)\n",
    "            # updating variables\n",
    "            #print(A)\n",
    "            prev_A = A \n",
    "            i+=1 \n",
    "    return A\n"
   ]
  },
  {
   "cell_type": "markdown",
   "id": "5517f4eb-17a4-4872-858b-2e91d04ad1b3",
   "metadata": {},
   "source": [
    "### Simulation"
   ]
  },
  {
   "cell_type": "markdown",
   "id": "1c4bf768-fa41-46f6-b20c-ff2c32d4e5ed",
   "metadata": {},
   "source": [
    "**$||e^{-iZt} - \\frac{1}{2}(UDD_{level 2} + UDD_{level 3})|| $** "
   ]
  },
  {
   "cell_type": "code",
   "execution_count": 9,
   "id": "838367bf-352e-467e-92e2-150fb07fd11d",
   "metadata": {},
   "outputs": [],
   "source": [
    "def probabilistic_error(DD_seq_array):\n",
    "    A = np.matrix([[0+0j, 0+0j],[0+0j, 0+0j]])\n",
    "    for DD in DD_seq_array:\n",
    "        A += DD\n",
    "        \n",
    "    A = A*1/2  \n",
    "    B = expm(-1j*Z*T) \n",
    "    # calculate the difference between the ideal and noisy system\n",
    "    difference = A - B\n",
    "    # get the maximum eigen value of the difference matrix\n",
    "    eigenvalues = svd(difference, compute_uv = False)\n",
    "    max_eigenvalue = np.max(eigenvalues)\n",
    "    #print(\"The error is \", max_eigenvalue)\n",
    "    return max_eigenvalue\n"
   ]
  },
  {
   "cell_type": "code",
   "execution_count": 10,
   "id": "54ca711e-c59f-494b-ad3c-dbcaad64cbaa",
   "metadata": {},
   "outputs": [
    {
     "name": "stdout",
     "output_type": "stream",
     "text": [
      "Probabilistic error: 2.4986981722161325e-05\n",
      "Error UDD(2): 4.995834583212628e-05\n",
      "Error UDD(3): 1.2492258559291002e-06\n"
     ]
    }
   ],
   "source": [
    "# set the value of lambda and T\n",
    "lambda_value = 0.01\n",
    "T = 0.1\n",
    "\n",
    "\n",
    "# For probabilistic error\n",
    "UDD_2 = DD_sequence(lambda_value, 2, T, False, UDD_calculate_s_values(2))\n",
    "UDD_3 = DD_sequence(lambda_value, 3, T, False, UDD_calculate_s_values(3))\n",
    "\n",
    "DD_sequence = np.array([UDD_2, UDD_3])\n",
    "\n",
    "error_avg = probabilistic_error(DD_sequence)\n",
    "\n",
    "# Error of individual DD sequences\n",
    "error_UDD_2 = error_calculation(lambda_value, 2, T, False, UDD_calculate_s_values(2))\n",
    "error_UDD_3 = error_calculation(lambda_value, 3, T, False, UDD_calculate_s_values(3))\n",
    "\n",
    "print(\"Probabilistic error: \" + str(error_avg))\n",
    "print(\"Error UDD(2): \" + str(error_UDD_2))\n",
    "print(\"Error UDD(3): \" + str(error_UDD_3))\n",
    "\n"
   ]
  },
  {
   "cell_type": "code",
   "execution_count": null,
   "id": "db07fe71-32f1-4b2f-90f7-e8692315535d",
   "metadata": {},
   "outputs": [],
   "source": []
  }
 ],
 "metadata": {
  "kernelspec": {
   "display_name": "Python 3 (ipykernel)",
   "language": "python",
   "name": "python3"
  },
  "language_info": {
   "codemirror_mode": {
    "name": "ipython",
    "version": 3
   },
   "file_extension": ".py",
   "mimetype": "text/x-python",
   "name": "python",
   "nbconvert_exporter": "python",
   "pygments_lexer": "ipython3",
   "version": "3.11.7"
  }
 },
 "nbformat": 4,
 "nbformat_minor": 5
}
