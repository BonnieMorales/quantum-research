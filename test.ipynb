{
 "cells": [
  {
   "cell_type": "code",
   "execution_count": 2,
   "id": "7f9d1111-7407-40d0-a871-92f728321733",
   "metadata": {},
   "outputs": [],
   "source": [
    "import numpy as np\n",
    "import scipy\n",
    "import math\n",
    "from scipy.linalg import expm, sinm, cosm\n",
    "import matplotlib.pyplot as plt\n",
    "import scipy.optimize as spo"
   ]
  },
  {
   "cell_type": "code",
   "execution_count": 3,
   "id": "931ceef8-07b0-4386-a9c6-5cdabd17edb0",
   "metadata": {},
   "outputs": [],
   "source": [
    "X, Z, I = np.matrix([[0, 1],[1, 0]]), np.matrix([[1, 0],[0, -1]]), np.matrix([[1, 0],[0, 1]])"
   ]
  },
  {
   "cell_type": "code",
   "execution_count": 4,
   "id": "c0c5264c-f81a-46ee-8737-05b6f2a80dfa",
   "metadata": {},
   "outputs": [
    {
     "name": "stdout",
     "output_type": "stream",
     "text": [
      "[[-0.41814091-0.9006093j  0.00705543+0.j       ]\n",
      " [ 0.00705543+0.j        -0.41814091+0.9006093j]]\n"
     ]
    }
   ],
   "source": [
    "lambda_value = 0.1\n",
    "A = expm(-1j*(Z+lambda_value*X)*1.0) * expm(-1j*(Z-lambda_value*X)*1.0)\n",
    "print(A)"
   ]
  },
  {
   "cell_type": "code",
   "execution_count": 5,
   "id": "d9433195-1163-47c6-a6a5-e9a8139c4f51",
   "metadata": {},
   "outputs": [
    {
     "name": "stdout",
     "output_type": "stream",
     "text": [
      "true\n"
     ]
    }
   ],
   "source": [
    "a = [8,4,8,8,4,8]\n",
    "\n",
    "if (0%2 == 0):\n",
    "    print (\"true\")"
   ]
  },
  {
   "cell_type": "code",
   "execution_count": 6,
   "id": "3aa4abc8-9493-4eb5-ac5d-9916d8a933e7",
   "metadata": {},
   "outputs": [
    {
     "name": "stdout",
     "output_type": "stream",
     "text": [
      "[[9.94979228e-01-0.09983175j 2.49789654e-05+0.j        ]\n",
      " [2.49789654e-05+0.j         9.94979228e-01+0.09983175j]]\n"
     ]
    }
   ],
   "source": [
    "A = expm(-1j*(Z+lambda_value*X)*0.1/2) * expm(-1j*(Z-lambda_value*X)*0.1/2)\n",
    "print(A)"
   ]
  },
  {
   "cell_type": "code",
   "execution_count": 7,
   "id": "66ec0a71-999b-44b0-a1c5-2a0a20660cf1",
   "metadata": {},
   "outputs": [
    {
     "data": {
      "image/png": "[encoded data removed]",
      "text/plain": [
       "<Figure size 640x480 with 1 Axes>"
      ]
     },
     "metadata": {},
     "output_type": "display_data"
    }
   ],
   "source": [
    "import matplotlib.pyplot as plt\n",
    "\n",
    "# Example data\n",
    "x = range(10)\n",
    "y = [xi**2 for xi in x]\n",
    "\n",
    "# Plotting\n",
    "plt.plot(x, y, marker='o')\n",
    "\n",
    "# Customize x-axis ticks and labels\n",
    "plt.xticks([0, 2, 4, 6, 8], ['0', '2', '4', '6', '8'])\n",
    "\n",
    "# Add labels and title\n",
    "plt.xlabel('X-axis')\n",
    "plt.ylabel('Y-axis')\n",
    "plt.title('Customized X-axis Ticks and Labels')\n",
    "\n",
    "# Show plot\n",
    "plt.show()"
   ]
  },
  {
   "cell_type": "code",
   "execution_count": 8,
   "id": "0f6c83e5-246d-47af-9082-d8b3815fdbd1",
   "metadata": {},
   "outputs": [
    {
     "name": "stdout",
     "output_type": "stream",
     "text": [
      "0.24999999999999994\n"
     ]
    }
   ],
   "source": [
    "print(np.power(np.sin(np.pi/6),2))\n"
   ]
  },
  {
   "cell_type": "code",
   "execution_count": 37,
   "id": "1fb46b01-fe8b-4f0b-b024-fe417b22972c",
   "metadata": {},
   "outputs": [
    {
     "name": "stdout",
     "output_type": "stream",
     "text": [
      "Optimization terminated successfully.\n",
      "         Current function value: -16.000000\n",
      "         Iterations: 3\n",
      "         Function evaluations: 8\n",
      "         Gradient evaluations: 4\n",
      "Success\n",
      "x = [6.00000025] y = -15.999999999999936\n"
     ]
    }
   ],
   "source": [
    "# Funtion to minimize\n",
    "\n",
    "def f(x):\n",
    "    y = (x ** 2) - (12 * x) + 20\n",
    "    return y\n",
    "\n",
    "# Startin guess \n",
    "x_start = 2.0\n",
    "\n",
    "# Optimizing\n",
    "result = spo.minimize(f, x_start, options={\"disp\":True})\n",
    "\n",
    "# Print result\n",
    "if result.success:\n",
    "    print(\"Success\")\n",
    "    print(f\"x = {result.x} y = {result.fun}\")\n",
    "else:\n",
    "    print(\"Sorry, could not find minimum\")\n"
   ]
  },
  {
   "cell_type": "code",
   "execution_count": 49,
   "id": "e49f1f26-3405-4081-a46d-4aa4ace3295f",
   "metadata": {},
   "outputs": [
    {
     "name": "stdout",
     "output_type": "stream",
     "text": [
      "Optimization terminated successfully    (Exit mode 0)\n",
      "            Current function value: -1250.0\n",
      "            Iterations: 4\n",
      "            Function evaluations: 12\n",
      "            Gradient evaluations: 4\n",
      "Success\n",
      "x = 24.999999999999993 y = 50.000000000000014\n"
     ]
    }
   ],
   "source": [
    "# Another example https://math.libretexts.org/Bookshelves/Calculus/Map%3A_Calculus__Early_Transcendentals_(Stewart)/04%3A_Applications_of_Differentiation/4.07%3A_Optimization_Problems\n",
    "def f(xy):\n",
    "    x = xy[0]\n",
    "    y = xy[1]\n",
    "    area = x * y\n",
    "    return -area\n",
    "\n",
    "# Starting guess\n",
    "xy_start = [50,50]\n",
    "\n",
    "# Bounds\n",
    "bounds = ((1,100),(1,100)) # x and y between 1ft to 100ft\n",
    "\n",
    "# Constraints\n",
    "constraint = ({'type': 'eq', \n",
    "               'fun': lambda xy: (2*xy[0] + xy[1] - 100)})\n",
    "\n",
    "# optimizing\n",
    "result = spo.minimize(f, xy_start, options={\"disp\":True}, constraints = constraint, bounds = bounds)\n",
    "\n",
    "# Print result\n",
    "if result.success:\n",
    "    print(\"Success\")\n",
    "    xy =  result.x\n",
    "    x = xy[0]\n",
    "    y = xy[1]\n",
    "    print(f\"x = {x} y = {y}\")\n",
    "else:\n",
    "    print(\"Sorry, could not find minimum\")"
   ]
  },
  {
   "cell_type": "code",
   "execution_count": null,
   "id": "be4e28dd-e35d-47ef-a057-5843631e85eb",
   "metadata": {},
   "outputs": [],
   "source": []
  }
 ],
 "metadata": {
  "kernelspec": {
   "display_name": "Python 3 (ipykernel)",
   "language": "python",
   "name": "python3"
  },
  "language_info": {
   "codemirror_mode": {
    "name": "ipython",
    "version": 3
   },
   "file_extension": ".py",
   "mimetype": "text/x-python",
   "name": "python",
   "nbconvert_exporter": "python",
   "pygments_lexer": "ipython3",
   "version": "3.11.7"
  }
 },
 "nbformat": 4,
 "nbformat_minor": 5
}
